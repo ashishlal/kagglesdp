{
 "cells": [
  {
   "cell_type": "code",
   "execution_count": 4,
   "metadata": {
    "collapsed": true
   },
   "outputs": [],
   "source": [
    "import argparse, csv, hashlib, sys\n",
    "from tqdm import tqdm"
   ]
  },
  {
   "cell_type": "code",
   "execution_count": 20,
   "metadata": {},
   "outputs": [
    {
     "name": "stderr",
     "output_type": "stream",
     "text": [
      "892816it [00:04, 192396.35it/s]\n"
     ]
    }
   ],
   "source": [
    "with open('../submissions/sub4.csv', 'w') as f:\n",
    "    f.write('id,target\\n')\n",
    "    for row, line in tqdm(zip(csv.DictReader(open('../data/sample_submission.csv')),\n",
    "                                   open('../cache/te.out'))):\n",
    "        i = row['id']\n",
    "        f.write('{0},{1}'.format(i, line))\n"
   ]
  },
  {
   "cell_type": "code",
   "execution_count": 6,
   "metadata": {
    "collapsed": true
   },
   "outputs": [],
   "source": [
    "import pandas as pd\n",
    "import numpy as np"
   ]
  },
  {
   "cell_type": "code",
   "execution_count": 7,
   "metadata": {
    "collapsed": true
   },
   "outputs": [],
   "source": [
    "df = pd.read_csv('../submissions/sub2.csv')"
   ]
  },
  {
   "cell_type": "code",
   "execution_count": 8,
   "metadata": {},
   "outputs": [
    {
     "data": {
      "text/html": [
       "<div>\n",
       "<style>\n",
       "    .dataframe thead tr:only-child th {\n",
       "        text-align: right;\n",
       "    }\n",
       "\n",
       "    .dataframe thead th {\n",
       "        text-align: left;\n",
       "    }\n",
       "\n",
       "    .dataframe tbody tr th {\n",
       "        vertical-align: top;\n",
       "    }\n",
       "</style>\n",
       "<table border=\"1\" class=\"dataframe\">\n",
       "  <thead>\n",
       "    <tr style=\"text-align: right;\">\n",
       "      <th></th>\n",
       "      <th>id</th>\n",
       "      <th>target</th>\n",
       "    </tr>\n",
       "  </thead>\n",
       "  <tbody>\n",
       "    <tr>\n",
       "      <th>0</th>\n",
       "      <td>0</td>\n",
       "      <td>0.021695</td>\n",
       "    </tr>\n",
       "    <tr>\n",
       "      <th>1</th>\n",
       "      <td>1</td>\n",
       "      <td>0.024100</td>\n",
       "    </tr>\n",
       "    <tr>\n",
       "      <th>2</th>\n",
       "      <td>2</td>\n",
       "      <td>0.020595</td>\n",
       "    </tr>\n",
       "    <tr>\n",
       "      <th>3</th>\n",
       "      <td>3</td>\n",
       "      <td>0.015333</td>\n",
       "    </tr>\n",
       "    <tr>\n",
       "      <th>4</th>\n",
       "      <td>4</td>\n",
       "      <td>0.035897</td>\n",
       "    </tr>\n",
       "  </tbody>\n",
       "</table>\n",
       "</div>"
      ],
      "text/plain": [
       "   id    target\n",
       "0   0  0.021695\n",
       "1   1  0.024100\n",
       "2   2  0.020595\n",
       "3   3  0.015333\n",
       "4   4  0.035897"
      ]
     },
     "execution_count": 8,
     "metadata": {},
     "output_type": "execute_result"
    }
   ],
   "source": [
    "df.head()"
   ]
  },
  {
   "cell_type": "code",
   "execution_count": 11,
   "metadata": {},
   "outputs": [],
   "source": [
    "target = np.clip(df.target.values, a_min=0.05, a_max=0.95)"
   ]
  },
  {
   "cell_type": "code",
   "execution_count": 12,
   "metadata": {},
   "outputs": [
    {
     "data": {
      "text/plain": [
       "array([ 0.05,  0.05,  0.05, ...,  0.05,  0.05,  0.05])"
      ]
     },
     "execution_count": 12,
     "metadata": {},
     "output_type": "execute_result"
    }
   ],
   "source": [
    "target"
   ]
  },
  {
   "cell_type": "code",
   "execution_count": 13,
   "metadata": {},
   "outputs": [
    {
     "data": {
      "text/plain": [
       "0.050000    769105\n",
       "0.050062         6\n",
       "0.052600         5\n",
       "0.050355         5\n",
       "0.050224         5\n",
       "0.058755         5\n",
       "0.057873         5\n",
       "0.054199         5\n",
       "0.050076         5\n",
       "0.052600         5\n",
       "0.050783         5\n",
       "0.066341         5\n",
       "0.063838         5\n",
       "0.050362         5\n",
       "0.052298         5\n",
       "0.050957         5\n",
       "0.051438         5\n",
       "0.056674         5\n",
       "0.064221         5\n",
       "0.054261         5\n",
       "0.050730         5\n",
       "0.052951         5\n",
       "0.051180         5\n",
       "0.063528         5\n",
       "0.052360         5\n",
       "0.050062         5\n",
       "0.052450         5\n",
       "0.052908         5\n",
       "0.055088         5\n",
       "0.053536         5\n",
       "             ...  \n",
       "0.052887         1\n",
       "0.062270         1\n",
       "0.052690         1\n",
       "0.092553         1\n",
       "0.057897         1\n",
       "0.075534         1\n",
       "0.109550         1\n",
       "0.062204         1\n",
       "0.085305         1\n",
       "0.064581         1\n",
       "0.092757         1\n",
       "0.076577         1\n",
       "0.089170         1\n",
       "0.065238         1\n",
       "0.050365         1\n",
       "0.057464         1\n",
       "0.071633         1\n",
       "0.071038         1\n",
       "0.059928         1\n",
       "0.050822         1\n",
       "0.095068         1\n",
       "0.064591         1\n",
       "0.056388         1\n",
       "0.060679         1\n",
       "0.092935         1\n",
       "0.052313         1\n",
       "0.111568         1\n",
       "0.052739         1\n",
       "0.063567         1\n",
       "0.067537         1\n",
       "Length: 103920, dtype: int64"
      ]
     },
     "execution_count": 13,
     "metadata": {},
     "output_type": "execute_result"
    }
   ],
   "source": [
    "pd.value_counts(target)"
   ]
  },
  {
   "cell_type": "code",
   "execution_count": 14,
   "metadata": {},
   "outputs": [
    {
     "data": {
      "text/plain": [
       "0.050000000000000003"
      ]
     },
     "execution_count": 14,
     "metadata": {},
     "output_type": "execute_result"
    }
   ],
   "source": [
    "np.min(target)"
   ]
  },
  {
   "cell_type": "code",
   "execution_count": 15,
   "metadata": {},
   "outputs": [
    {
     "data": {
      "text/plain": [
       "0.57140299999999999"
      ]
     },
     "execution_count": 15,
     "metadata": {},
     "output_type": "execute_result"
    }
   ],
   "source": [
    "np.max(target)"
   ]
  },
  {
   "cell_type": "code",
   "execution_count": 16,
   "metadata": {
    "collapsed": true
   },
   "outputs": [],
   "source": [
    "df['target'] = target"
   ]
  },
  {
   "cell_type": "code",
   "execution_count": 19,
   "metadata": {},
   "outputs": [],
   "source": [
    "df.to_csv('../submissions/sub3.csv', index=False)"
   ]
  },
  {
   "cell_type": "code",
   "execution_count": null,
   "metadata": {
    "collapsed": true
   },
   "outputs": [],
   "source": []
  }
 ],
 "metadata": {
  "kernelspec": {
   "display_name": "sdp",
   "language": "python",
   "name": "sdp"
  },
  "language_info": {
   "codemirror_mode": {
    "name": "ipython",
    "version": 3
   },
   "file_extension": ".py",
   "mimetype": "text/x-python",
   "name": "python",
   "nbconvert_exporter": "python",
   "pygments_lexer": "ipython3",
   "version": "3.6.1"
  }
 },
 "nbformat": 4,
 "nbformat_minor": 2
}
