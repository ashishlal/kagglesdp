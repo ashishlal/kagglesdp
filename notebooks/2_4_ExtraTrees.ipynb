{
 "cells": [
  {
   "cell_type": "code",
   "execution_count": 75,
   "metadata": {},
   "outputs": [],
   "source": [
    "import re\n",
    "import numpy as np\n",
    "import pandas as pd\n",
    "import feather\n",
    "import xgboost as xgb\n",
    "import feather\n",
    "\n",
    "from sklearn.model_selection import train_test_split\n",
    "from sklearn.ensemble import ExtraTreesClassifier\n",
    "from sklearn.model_selection import train_test_split\n",
    "from sklearn.model_selection import KFold\n",
    "from sklearn.preprocessing import LabelEncoder\n",
    "from numba import jit\n",
    "import time\n",
    "import gc\n",
    "from scipy.stats import randint as sp_randint\n",
    "from sklearn.metrics import make_scorer\n",
    "from sklearn.grid_search import RandomizedSearchCV, GridSearchCV\n",
    "from sklearn.model_selection import StratifiedKFold\n",
    "\n",
    "from sklearn.utils import shuffle\n",
    "\n",
    "import pickle\n",
    "\n",
    "from datetime import datetime"
   ]
  },
  {
   "cell_type": "code",
   "execution_count": 2,
   "metadata": {
    "collapsed": true
   },
   "outputs": [],
   "source": [
    "# Compute gini\n",
    "\n",
    "# from CPMP's kernel https://www.kaggle.com/cpmpml/extremely-fast-gini-computation\n",
    "@jit\n",
    "def eval_gini(y_true, y_prob):\n",
    "    y_true = np.asarray(y_true)\n",
    "    y_true = y_true[np.argsort(y_prob)]\n",
    "    ntrue = 0\n",
    "    gini = 0\n",
    "    delta = 0\n",
    "    n = len(y_true)\n",
    "    for i in range(n-1, -1, -1):\n",
    "        y_i = y_true[i]\n",
    "        ntrue += y_i\n",
    "        gini += y_i * delta\n",
    "        delta += 1 - y_i\n",
    "    gini = 1 - 2 * gini / (ntrue * (n - ntrue))\n",
    "    return gini\n",
    "\n",
    "# Funcitons from olivier's kernel\n",
    "# https://www.kaggle.com/ogrellier/xgb-classifier-upsampling-lb-0-283\n",
    "\n",
    "def gini_xgb(preds, dtrain):\n",
    "    labels = dtrain.get_label()\n",
    "    gini_score = -eval_gini(labels, preds)\n",
    "    return [('gini', gini_score)]\n",
    "\n",
    "def gini_normalized(a, p):\n",
    "    return eval_gini(a, p) / eval_gini(a, a)\n",
    "\n",
    "gini_scorer = make_scorer(gini_normalized, greater_is_better = True)"
   ]
  },
  {
   "cell_type": "code",
   "execution_count": 3,
   "metadata": {
    "collapsed": true
   },
   "outputs": [],
   "source": [
    "df = pd.read_csv('../cache/train_labels.csv')\n",
    "target = df['y'].values"
   ]
  },
  {
   "cell_type": "code",
   "execution_count": 4,
   "metadata": {
    "collapsed": true
   },
   "outputs": [],
   "source": [
    "trn_df = feather.read_dataframe('../cache/trn_df.feather')\n",
    "sub_df = feather.read_dataframe('../cache/sub_df.feather')"
   ]
  },
  {
   "cell_type": "code",
   "execution_count": 5,
   "metadata": {},
   "outputs": [
    {
     "data": {
      "text/plain": [
       "(595212, 227)"
      ]
     },
     "execution_count": 5,
     "metadata": {},
     "output_type": "execute_result"
    }
   ],
   "source": [
    "trn_df.shape"
   ]
  },
  {
   "cell_type": "code",
   "execution_count": 6,
   "metadata": {},
   "outputs": [
    {
     "data": {
      "text/plain": [
       "(892816, 432)"
      ]
     },
     "execution_count": 6,
     "metadata": {},
     "output_type": "execute_result"
    }
   ],
   "source": [
    "sub_df.shape"
   ]
  },
  {
   "cell_type": "code",
   "execution_count": 15,
   "metadata": {
    "collapsed": true
   },
   "outputs": [],
   "source": [
    "sub_df = sub_df[trn_df.columns]"
   ]
  },
  {
   "cell_type": "code",
   "execution_count": 16,
   "metadata": {},
   "outputs": [
    {
     "data": {
      "text/plain": [
       "(595212, 227)"
      ]
     },
     "execution_count": 16,
     "metadata": {},
     "output_type": "execute_result"
    }
   ],
   "source": [
    "sub_df.shape"
   ]
  },
  {
   "cell_type": "code",
   "execution_count": 10,
   "metadata": {},
   "outputs": [
    {
     "data": {
      "text/plain": [
       "array([573518,  21694])"
      ]
     },
     "execution_count": 10,
     "metadata": {},
     "output_type": "execute_result"
    }
   ],
   "source": [
    "np.bincount(target)"
   ]
  },
  {
   "cell_type": "code",
   "execution_count": 12,
   "metadata": {},
   "outputs": [
    {
     "data": {
      "text/plain": [
       "array([  0.51891309,  13.71835531])"
      ]
     },
     "execution_count": 12,
     "metadata": {},
     "output_type": "execute_result"
    }
   ],
   "source": [
    "595212 / (2 * np.bincount(target))"
   ]
  },
  {
   "cell_type": "code",
   "execution_count": 13,
   "metadata": {},
   "outputs": [
    {
     "name": "stdout",
     "output_type": "stream",
     "text": [
      "Fitting 5 folds for each of 10 candidates, totalling 50 fits\n",
      "[CV] n_estimators=10, max_features=auto ..............................\n",
      "[CV] n_estimators=10, max_features=auto ..............................\n",
      "[CV] n_estimators=10, max_features=auto ..............................\n",
      "[CV] n_estimators=10, max_features=auto ..............................\n",
      "[CV] ..... n_estimators=10, max_features=auto, score=0.004143 - 1.1min\n",
      "[CV] n_estimators=10, max_features=auto ..............................\n",
      "[CV] ..... n_estimators=10, max_features=auto, score=0.024449 - 1.1min\n",
      "[CV] ..... n_estimators=10, max_features=auto, score=0.011207 - 1.1min\n",
      "[CV] n_estimators=700, max_features=log2 .............................\n",
      "[CV] .... n_estimators=10, max_features=auto, score=-0.005964 - 1.1min\n",
      "[CV] n_estimators=700, max_features=log2 .............................\n",
      "[CV] n_estimators=700, max_features=log2 .............................\n",
      "[CV] .... n_estimators=10, max_features=auto, score=-0.002667 - 1.1min\n",
      "[CV] n_estimators=700, max_features=log2 .............................\n",
      "[CV] .... n_estimators=700, max_features=log2, score=0.011677 -42.1min\n",
      "[CV] .... n_estimators=700, max_features=log2, score=0.003815 -42.2min\n",
      "[CV] n_estimators=700, max_features=log2 .............................\n",
      "[CV] n_estimators=200, max_features=log2 .............................\n",
      "[CV] ... n_estimators=700, max_features=log2, score=-0.005687 -41.3min\n",
      "[CV] n_estimators=200, max_features=log2 .............................\n",
      "[CV] .... n_estimators=700, max_features=log2, score=0.023911 -42.5min\n",
      "[CV] n_estimators=200, max_features=log2 .............................\n",
      "[CV] .... n_estimators=200, max_features=log2, score=0.023911 -11.7min\n",
      "[CV] n_estimators=200, max_features=log2 .............................\n",
      "[CV] .... n_estimators=200, max_features=log2, score=0.004001 -11.8min\n",
      "[CV] n_estimators=200, max_features=log2 .............................\n",
      "[CV] .... n_estimators=200, max_features=log2, score=0.011677 -11.9min\n",
      "[CV] n_estimators=10, max_features=sqrt ..............................\n",
      "[CV] ..... n_estimators=10, max_features=sqrt, score=0.004143 - 1.1min\n",
      "[CV] n_estimators=10, max_features=sqrt ..............................\n",
      "[CV] ..... n_estimators=10, max_features=sqrt, score=0.024449 - 1.1min\n",
      "[CV] n_estimators=10, max_features=sqrt ..............................\n",
      "[CV] ..... n_estimators=10, max_features=sqrt, score=0.011207 - 1.1min\n",
      "[CV] n_estimators=10, max_features=sqrt ..............................\n",
      "[CV] .... n_estimators=10, max_features=sqrt, score=-0.005964 - 1.1min\n",
      "[CV] n_estimators=10, max_features=sqrt ..............................\n",
      "[CV] .... n_estimators=10, max_features=sqrt, score=-0.002667 - 1.1min\n",
      "[CV] n_estimators=50, max_features=log2 ..............................\n",
      "[CV] ..... n_estimators=50, max_features=log2, score=0.004001 - 3.0min\n",
      "[CV] n_estimators=50, max_features=log2 ..............................\n",
      "[CV] ... n_estimators=200, max_features=log2, score=-0.005687 -11.7min\n",
      "[CV] n_estimators=50, max_features=log2 ..............................\n",
      "[CV] ..... n_estimators=50, max_features=log2, score=0.023911 - 3.0min\n",
      "[CV] n_estimators=50, max_features=log2 ..............................\n",
      "[CV] ... n_estimators=200, max_features=log2, score=-0.002486 -12.0min\n",
      "[CV] n_estimators=50, max_features=log2 ..............................\n",
      "[CV] ..... n_estimators=50, max_features=log2, score=0.011677 - 2.8min\n",
      "[CV] n_estimators=1000, max_features=sqrt ............................\n",
      "[CV] .... n_estimators=50, max_features=log2, score=-0.005721 - 2.9min\n",
      "[CV] n_estimators=1000, max_features=sqrt ............................\n",
      "[CV] .... n_estimators=50, max_features=log2, score=-0.002298 - 2.8min\n",
      "[CV] n_estimators=1000, max_features=sqrt ............................\n"
     ]
    },
    {
     "name": "stderr",
     "output_type": "stream",
     "text": [
      "[Parallel(n_jobs=4)]: Done  24 tasks      | elapsed: 70.1min\n"
     ]
    },
    {
     "name": "stdout",
     "output_type": "stream",
     "text": [
      "[CV] ... n_estimators=700, max_features=log2, score=-0.002486 -39.5min\n",
      "[CV] n_estimators=1000, max_features=sqrt ............................\n",
      "[CV] ... n_estimators=1000, max_features=sqrt, score=0.003815 -92.3min\n",
      "[CV] n_estimators=1000, max_features=sqrt ............................\n",
      "[CV] ... n_estimators=1000, max_features=sqrt, score=0.023911 -92.6min\n",
      "[CV] n_estimators=50, max_features=sqrt ..............................\n",
      "[CV] ... n_estimators=1000, max_features=sqrt, score=0.011677 -92.5min\n",
      "[CV] n_estimators=50, max_features=sqrt ..............................\n",
      "[CV] ..... n_estimators=50, max_features=sqrt, score=0.004001 - 4.7min\n",
      "[CV] n_estimators=50, max_features=sqrt ..............................\n",
      "[CV] ..... n_estimators=50, max_features=sqrt, score=0.023782 - 4.7min\n",
      "[CV] n_estimators=50, max_features=sqrt ..............................\n",
      "[CV] ..... n_estimators=50, max_features=sqrt, score=0.011671 - 4.5min\n",
      "[CV] n_estimators=50, max_features=sqrt ..............................\n",
      "[CV] .... n_estimators=50, max_features=sqrt, score=-0.005687 - 4.5min\n",
      "[CV] n_estimators=1000, max_features=auto ............................\n",
      "[CV] .. n_estimators=1000, max_features=sqrt, score=-0.005687 -92.8min\n",
      "[CV] n_estimators=1000, max_features=auto ............................\n",
      "[CV] .... n_estimators=50, max_features=sqrt, score=-0.002653 - 4.6min\n",
      "[CV] n_estimators=1000, max_features=auto ............................\n",
      "[CV] .. n_estimators=1000, max_features=sqrt, score=-0.002486 -92.5min\n",
      "[CV] n_estimators=1000, max_features=auto ............................\n",
      "[CV] ... n_estimators=1000, max_features=auto, score=0.003815 -92.9min\n",
      "[CV] n_estimators=1000, max_features=auto ............................\n",
      "[CV] ... n_estimators=1000, max_features=auto, score=0.011677 -92.2min\n",
      "[CV] n_estimators=50, max_features=auto ..............................\n",
      "[CV] ... n_estimators=1000, max_features=auto, score=0.023911 -94.3min\n",
      "[CV] n_estimators=50, max_features=auto ..............................\n",
      "[CV] ..... n_estimators=50, max_features=auto, score=0.004001 - 4.5min\n",
      "[CV] n_estimators=50, max_features=auto ..............................\n",
      "[CV] ..... n_estimators=50, max_features=auto, score=0.023782 - 4.2min\n",
      "[CV] n_estimators=50, max_features=auto ..............................\n",
      "[CV] ..... n_estimators=50, max_features=auto, score=0.011671 - 4.6min\n",
      "[CV] n_estimators=50, max_features=auto ..............................\n",
      "[CV] .... n_estimators=50, max_features=auto, score=-0.005687 - 4.6min\n",
      "[CV] n_estimators=200, max_features=sqrt .............................\n",
      "[CV] .... n_estimators=50, max_features=auto, score=-0.002653 - 4.6min\n",
      "[CV] n_estimators=200, max_features=sqrt .............................\n",
      "[CV] .... n_estimators=200, max_features=sqrt, score=0.003818 -18.7min\n",
      "[CV] n_estimators=200, max_features=sqrt .............................\n",
      "[CV] .... n_estimators=200, max_features=sqrt, score=0.023911 -18.4min\n",
      "[CV] n_estimators=200, max_features=sqrt .............................\n",
      "[CV] .... n_estimators=200, max_features=sqrt, score=0.011677 -18.3min\n",
      "[CV] n_estimators=200, max_features=sqrt .............................\n",
      "[CV] ... n_estimators=200, max_features=sqrt, score=-0.005687 -18.0min\n",
      "[CV] ... n_estimators=200, max_features=sqrt, score=-0.002653 -16.5min\n",
      "[CV] .. n_estimators=1000, max_features=auto, score=-0.005687 -86.3min\n",
      "[CV] .. n_estimators=1000, max_features=auto, score=-0.002486 -84.9min\n"
     ]
    },
    {
     "name": "stderr",
     "output_type": "stream",
     "text": [
      "[Parallel(n_jobs=4)]: Done  50 out of  50 | elapsed: 349.7min finished\n"
     ]
    },
    {
     "data": {
      "text/plain": [
       "RandomizedSearchCV(cv=sklearn.cross_validation.StratifiedKFold(labels=[0 0 ..., 0 0], n_folds=5, shuffle=False, random_state=None),\n",
       "          error_score='raise',\n",
       "          estimator=ExtraTreesClassifier(bootstrap=False, class_weight='balanced',\n",
       "           criterion='gini', max_depth=None, max_features='auto',\n",
       "           max_leaf_nodes=None, min_impurity_decrease=0.0,\n",
       "           min_impurity_split=None, min_samples_leaf=1,\n",
       "           min_samples_split=2, min_weight_fraction_leaf=0.0,\n",
       "           n_estimators=10, n_jobs=1, oob_score=False, random_state=0,\n",
       "           verbose=0, warm_start=False),\n",
       "          fit_params={}, iid=True, n_iter=10, n_jobs=4,\n",
       "          param_distributions={'n_estimators': [10, 50, 200, 700, 1000], 'max_features': ['auto', 'sqrt', 'log2']},\n",
       "          pre_dispatch='2*n_jobs', random_state=None, refit=True,\n",
       "          scoring=make_scorer(gini_normalized), verbose=3)"
      ]
     },
     "execution_count": 13,
     "metadata": {},
     "output_type": "execute_result"
    }
   ],
   "source": [
    "param_grid = { \n",
    "    'n_estimators': [10, 50, 200, 700, 1000],\n",
    "    'max_features': ['auto', 'sqrt', 'log2']\n",
    "}\n",
    "\n",
    "model_ET = ExtraTreesClassifier(random_state=0, class_weight='balanced')\n",
    "clf = RandomizedSearchCV(model_ET, param_grid, scoring=gini_scorer,\n",
    "                         cv=StratifiedKFold(target, 5),n_jobs=4, verbose=3, refit=True)\n",
    "clf.fit(trn_df, target)"
   ]
  },
  {
   "cell_type": "code",
   "execution_count": 14,
   "metadata": {},
   "outputs": [
    {
     "name": "stdout",
     "output_type": "stream",
     "text": [
      "0.006314096941983021\n",
      "{'n_estimators': 50, 'max_features': 'log2'}\n"
     ]
    }
   ],
   "source": [
    "print(clf.best_score_)\n",
    "print(clf.best_params_)"
   ]
  },
  {
   "cell_type": "code",
   "execution_count": 19,
   "metadata": {},
   "outputs": [
    {
     "data": {
      "text/plain": [
       "array([0, 0, 0, ..., 0, 0, 0])"
      ]
     },
     "execution_count": 19,
     "metadata": {},
     "output_type": "execute_result"
    }
   ],
   "source": [
    "target"
   ]
  },
  {
   "cell_type": "code",
   "execution_count": 18,
   "metadata": {},
   "outputs": [
    {
     "name": "stdout",
     "output_type": "stream",
     "text": [
      "Fitting 5 folds for each of 6 candidates, totalling 30 fits\n",
      "[CV] n_estimators=50, max_features=auto ..............................\n",
      "[CV] n_estimators=50, max_features=auto ..............................\n",
      "[CV] n_estimators=50, max_features=auto ..............................\n",
      "[CV] n_estimators=50, max_features=auto ..............................\n",
      "[CV] ..... n_estimators=50, max_features=auto, score=0.003815 - 4.7min\n",
      "[CV] n_estimators=50, max_features=auto ..............................\n",
      "[CV] .... n_estimators=50, max_features=auto, score=-0.005721 - 4.6min\n",
      "[CV] n_estimators=200, max_features=auto .............................\n",
      "[CV] ..... n_estimators=50, max_features=auto, score=0.023911 - 4.7min\n",
      "[CV] n_estimators=200, max_features=auto .............................\n",
      "[CV] ..... n_estimators=50, max_features=auto, score=0.011666 - 4.8min\n",
      "[CV] n_estimators=200, max_features=auto .............................\n",
      "[CV] .... n_estimators=50, max_features=auto, score=-0.002653 - 5.0min\n",
      "[CV] n_estimators=200, max_features=auto .............................\n",
      "[CV] .... n_estimators=200, max_features=auto, score=0.023911 -18.1min\n",
      "[CV] n_estimators=200, max_features=auto .............................\n",
      "[CV] .... n_estimators=200, max_features=auto, score=0.003815 -18.1min\n",
      "[CV] n_estimators=50, max_features=sqrt ..............................\n",
      "[CV] .... n_estimators=200, max_features=auto, score=0.011677 -18.1min\n",
      "[CV] n_estimators=50, max_features=sqrt ..............................\n",
      "[CV] ... n_estimators=200, max_features=auto, score=-0.005687 -17.8min\n",
      "[CV] n_estimators=50, max_features=sqrt ..............................\n",
      "[CV] ..... n_estimators=50, max_features=sqrt, score=0.023911 - 4.5min\n",
      "[CV] n_estimators=50, max_features=sqrt ..............................\n",
      "[CV] ..... n_estimators=50, max_features=sqrt, score=0.003815 - 4.6min\n",
      "[CV] n_estimators=50, max_features=sqrt ..............................\n",
      "[CV] ..... n_estimators=50, max_features=sqrt, score=0.011666 - 4.6min\n",
      "[CV] n_estimators=200, max_features=sqrt .............................\n",
      "[CV] .... n_estimators=50, max_features=sqrt, score=-0.005721 - 4.6min\n",
      "[CV] n_estimators=200, max_features=sqrt .............................\n",
      "[CV] .... n_estimators=50, max_features=sqrt, score=-0.002653 - 4.6min\n",
      "[CV] n_estimators=200, max_features=sqrt .............................\n",
      "[CV] ... n_estimators=200, max_features=auto, score=-0.002653 -18.3min\n",
      "[CV] n_estimators=200, max_features=sqrt .............................\n",
      "[CV] .... n_estimators=200, max_features=sqrt, score=0.011677 -17.9min\n",
      "[CV] n_estimators=200, max_features=sqrt .............................\n",
      "[CV] .... n_estimators=200, max_features=sqrt, score=0.003815 -18.1min\n",
      "[CV] n_estimators=50, max_features=log2 ..............................\n",
      "[CV] .... n_estimators=200, max_features=sqrt, score=0.023911 -18.4min\n",
      "[CV] n_estimators=50, max_features=log2 ..............................\n",
      "[CV] ..... n_estimators=50, max_features=log2, score=0.003815 - 2.6min\n",
      "[CV] n_estimators=50, max_features=log2 ..............................\n",
      "[CV] ..... n_estimators=50, max_features=log2, score=0.023911 - 2.6min\n",
      "[CV] n_estimators=50, max_features=log2 ..............................\n",
      "[CV] ..... n_estimators=50, max_features=log2, score=0.011677 - 2.6min\n",
      "[CV] n_estimators=50, max_features=log2 ..............................\n",
      "[CV] .... n_estimators=50, max_features=log2, score=-0.005580 - 2.6min\n",
      "[CV] n_estimators=200, max_features=log2 .............................\n",
      "[CV] .... n_estimators=50, max_features=log2, score=-0.002653 - 2.7min\n",
      "[CV] n_estimators=200, max_features=log2 .............................\n",
      "[CV] ... n_estimators=200, max_features=sqrt, score=-0.005687 -18.0min\n",
      "[CV] n_estimators=200, max_features=log2 .............................\n",
      "[CV] .... n_estimators=200, max_features=log2, score=0.004001 -10.4min\n",
      "[CV] n_estimators=200, max_features=log2 .............................\n",
      "[CV] .... n_estimators=200, max_features=log2, score=0.023911 -10.5min\n",
      "[CV] n_estimators=200, max_features=log2 .............................\n",
      "[CV] ... n_estimators=200, max_features=sqrt, score=-0.002653 -18.5min\n",
      "[CV] .... n_estimators=200, max_features=log2, score=0.011677 -10.4min\n",
      "[CV] ... n_estimators=200, max_features=log2, score=-0.005687 - 9.2min\n",
      "[CV] ... n_estimators=200, max_features=log2, score=-0.002486 - 8.5min\n"
     ]
    },
    {
     "name": "stderr",
     "output_type": "stream",
     "text": [
      "[Parallel(n_jobs=4)]: Done  30 out of  30 | elapsed: 77.0min finished\n"
     ]
    },
    {
     "data": {
      "text/plain": [
       "GridSearchCV(cv=sklearn.cross_validation.StratifiedKFold(labels=[0 0 ..., 0 0], n_folds=5, shuffle=False, random_state=None),\n",
       "       error_score='raise',\n",
       "       estimator=ExtraTreesClassifier(bootstrap=False, class_weight={0: 1, 1: 26.43671},\n",
       "           criterion='gini', max_depth=None, max_features='auto',\n",
       "           max_leaf_nodes=None, min_impurity_decrease=0.0,\n",
       "           min_impurity_split=None, min_samples_leaf=1,\n",
       "           min_samples_split=2, min_weight_fraction_leaf=0.0,\n",
       "           n_estimators=10, n_jobs=1, oob_score=False, random_state=0,\n",
       "           verbose=0, warm_start=False),\n",
       "       fit_params={}, iid=True, n_jobs=4,\n",
       "       param_grid={'n_estimators': [50, 200], 'max_features': ['auto', 'sqrt', 'log2']},\n",
       "       pre_dispatch='2*n_jobs', refit=True,\n",
       "       scoring=make_scorer(gini_normalized), verbose=3)"
      ]
     },
     "execution_count": 18,
     "metadata": {},
     "output_type": "execute_result"
    }
   ],
   "source": [
    "param_grid = { \n",
    "    'n_estimators': [50, 200],\n",
    "    'max_features': ['auto', 'sqrt', 'log2']\n",
    "}\n",
    "\n",
    "model_ET = ExtraTreesClassifier(random_state=0, class_weight={0:1, 1:26.43671})\n",
    "clf = GridSearchCV(model_ET, param_grid, scoring=gini_scorer,\n",
    "                         cv=StratifiedKFold(target, 5),n_jobs=4, verbose=3, refit=True)\n",
    "clf.fit(trn_df, target)"
   ]
  },
  {
   "cell_type": "code",
   "execution_count": 20,
   "metadata": {},
   "outputs": [
    {
     "name": "stdout",
     "output_type": "stream",
     "text": [
      "Fitting 5 folds for each of 6 candidates, totalling 30 fits\n",
      "[CV] n_estimators=50, max_features=auto ..............................\n",
      "[CV] n_estimators=50, max_features=auto ..............................\n",
      "[CV] n_estimators=50, max_features=auto ..............................\n",
      "[CV] n_estimators=50, max_features=auto ..............................\n",
      "[CV] ..... n_estimators=50, max_features=auto, score=0.004013 - 4.8min\n",
      "[CV] n_estimators=50, max_features=auto ..............................\n",
      "[CV] ..... n_estimators=50, max_features=auto, score=0.011637 - 4.8min\n",
      "[CV] n_estimators=200, max_features=auto .............................\n",
      "[CV] ..... n_estimators=50, max_features=auto, score=0.024151 - 4.9min\n",
      "[CV] n_estimators=200, max_features=auto .............................\n",
      "[CV] .... n_estimators=50, max_features=auto, score=-0.005482 - 5.0min\n",
      "[CV] n_estimators=200, max_features=auto .............................\n",
      "[CV] .... n_estimators=50, max_features=auto, score=-0.001698 - 4.7min\n",
      "[CV] n_estimators=200, max_features=auto .............................\n"
     ]
    },
    {
     "ename": "KeyboardInterrupt",
     "evalue": "",
     "output_type": "error",
     "traceback": [
      "\u001b[0;31m---------------------------------------------------------------------------\u001b[0m",
      "\u001b[0;31mKeyboardInterrupt\u001b[0m                         Traceback (most recent call last)",
      "\u001b[0;32m<ipython-input-20-fd9e0f241159>\u001b[0m in \u001b[0;36m<module>\u001b[0;34m()\u001b[0m\n\u001b[1;32m      7\u001b[0m clf = GridSearchCV(model_ET, param_grid, scoring=gini_scorer,\n\u001b[1;32m      8\u001b[0m                          cv=StratifiedKFold(target, 5),n_jobs=4, verbose=3, refit=True)\n\u001b[0;32m----> 9\u001b[0;31m \u001b[0mclf\u001b[0m\u001b[0;34m.\u001b[0m\u001b[0mfit\u001b[0m\u001b[0;34m(\u001b[0m\u001b[0mtrn_df\u001b[0m\u001b[0;34m,\u001b[0m \u001b[0mtarget\u001b[0m\u001b[0;34m)\u001b[0m\u001b[0;34m\u001b[0m\u001b[0m\n\u001b[0m",
      "\u001b[0;32m~/anaconda2/envs/sdp35/lib/python3.5/site-packages/sklearn/grid_search.py\u001b[0m in \u001b[0;36mfit\u001b[0;34m(self, X, y)\u001b[0m\n\u001b[1;32m    836\u001b[0m \u001b[0;34m\u001b[0m\u001b[0m\n\u001b[1;32m    837\u001b[0m         \"\"\"\n\u001b[0;32m--> 838\u001b[0;31m         \u001b[0;32mreturn\u001b[0m \u001b[0mself\u001b[0m\u001b[0;34m.\u001b[0m\u001b[0m_fit\u001b[0m\u001b[0;34m(\u001b[0m\u001b[0mX\u001b[0m\u001b[0;34m,\u001b[0m \u001b[0my\u001b[0m\u001b[0;34m,\u001b[0m \u001b[0mParameterGrid\u001b[0m\u001b[0;34m(\u001b[0m\u001b[0mself\u001b[0m\u001b[0;34m.\u001b[0m\u001b[0mparam_grid\u001b[0m\u001b[0;34m)\u001b[0m\u001b[0;34m)\u001b[0m\u001b[0;34m\u001b[0m\u001b[0m\n\u001b[0m\u001b[1;32m    839\u001b[0m \u001b[0;34m\u001b[0m\u001b[0m\n\u001b[1;32m    840\u001b[0m \u001b[0;34m\u001b[0m\u001b[0m\n",
      "\u001b[0;32m~/anaconda2/envs/sdp35/lib/python3.5/site-packages/sklearn/grid_search.py\u001b[0m in \u001b[0;36m_fit\u001b[0;34m(self, X, y, parameter_iterable)\u001b[0m\n\u001b[1;32m    572\u001b[0m                                     \u001b[0mself\u001b[0m\u001b[0;34m.\u001b[0m\u001b[0mfit_params\u001b[0m\u001b[0;34m,\u001b[0m \u001b[0mreturn_parameters\u001b[0m\u001b[0;34m=\u001b[0m\u001b[0;32mTrue\u001b[0m\u001b[0;34m,\u001b[0m\u001b[0;34m\u001b[0m\u001b[0m\n\u001b[1;32m    573\u001b[0m                                     error_score=self.error_score)\n\u001b[0;32m--> 574\u001b[0;31m                 \u001b[0;32mfor\u001b[0m \u001b[0mparameters\u001b[0m \u001b[0;32min\u001b[0m \u001b[0mparameter_iterable\u001b[0m\u001b[0;34m\u001b[0m\u001b[0m\n\u001b[0m\u001b[1;32m    575\u001b[0m                 for train, test in cv)\n\u001b[1;32m    576\u001b[0m \u001b[0;34m\u001b[0m\u001b[0m\n",
      "\u001b[0;32m~/anaconda2/envs/sdp35/lib/python3.5/site-packages/sklearn/externals/joblib/parallel.py\u001b[0m in \u001b[0;36m__call__\u001b[0;34m(self, iterable)\u001b[0m\n\u001b[1;32m    787\u001b[0m                 \u001b[0;31m# consumption.\u001b[0m\u001b[0;34m\u001b[0m\u001b[0;34m\u001b[0m\u001b[0m\n\u001b[1;32m    788\u001b[0m                 \u001b[0mself\u001b[0m\u001b[0;34m.\u001b[0m\u001b[0m_iterating\u001b[0m \u001b[0;34m=\u001b[0m \u001b[0;32mFalse\u001b[0m\u001b[0;34m\u001b[0m\u001b[0m\n\u001b[0;32m--> 789\u001b[0;31m             \u001b[0mself\u001b[0m\u001b[0;34m.\u001b[0m\u001b[0mretrieve\u001b[0m\u001b[0;34m(\u001b[0m\u001b[0;34m)\u001b[0m\u001b[0;34m\u001b[0m\u001b[0m\n\u001b[0m\u001b[1;32m    790\u001b[0m             \u001b[0;31m# Make sure that we get a last message telling us we are done\u001b[0m\u001b[0;34m\u001b[0m\u001b[0;34m\u001b[0m\u001b[0m\n\u001b[1;32m    791\u001b[0m             \u001b[0melapsed_time\u001b[0m \u001b[0;34m=\u001b[0m \u001b[0mtime\u001b[0m\u001b[0;34m.\u001b[0m\u001b[0mtime\u001b[0m\u001b[0;34m(\u001b[0m\u001b[0;34m)\u001b[0m \u001b[0;34m-\u001b[0m \u001b[0mself\u001b[0m\u001b[0;34m.\u001b[0m\u001b[0m_start_time\u001b[0m\u001b[0;34m\u001b[0m\u001b[0m\n",
      "\u001b[0;32m~/anaconda2/envs/sdp35/lib/python3.5/site-packages/sklearn/externals/joblib/parallel.py\u001b[0m in \u001b[0;36mretrieve\u001b[0;34m(self)\u001b[0m\n\u001b[1;32m    697\u001b[0m             \u001b[0;32mtry\u001b[0m\u001b[0;34m:\u001b[0m\u001b[0;34m\u001b[0m\u001b[0m\n\u001b[1;32m    698\u001b[0m                 \u001b[0;32mif\u001b[0m \u001b[0mgetattr\u001b[0m\u001b[0;34m(\u001b[0m\u001b[0mself\u001b[0m\u001b[0;34m.\u001b[0m\u001b[0m_backend\u001b[0m\u001b[0;34m,\u001b[0m \u001b[0;34m'supports_timeout'\u001b[0m\u001b[0;34m,\u001b[0m \u001b[0;32mFalse\u001b[0m\u001b[0;34m)\u001b[0m\u001b[0;34m:\u001b[0m\u001b[0;34m\u001b[0m\u001b[0m\n\u001b[0;32m--> 699\u001b[0;31m                     \u001b[0mself\u001b[0m\u001b[0;34m.\u001b[0m\u001b[0m_output\u001b[0m\u001b[0;34m.\u001b[0m\u001b[0mextend\u001b[0m\u001b[0;34m(\u001b[0m\u001b[0mjob\u001b[0m\u001b[0;34m.\u001b[0m\u001b[0mget\u001b[0m\u001b[0;34m(\u001b[0m\u001b[0mtimeout\u001b[0m\u001b[0;34m=\u001b[0m\u001b[0mself\u001b[0m\u001b[0;34m.\u001b[0m\u001b[0mtimeout\u001b[0m\u001b[0;34m)\u001b[0m\u001b[0;34m)\u001b[0m\u001b[0;34m\u001b[0m\u001b[0m\n\u001b[0m\u001b[1;32m    700\u001b[0m                 \u001b[0;32melse\u001b[0m\u001b[0;34m:\u001b[0m\u001b[0;34m\u001b[0m\u001b[0m\n\u001b[1;32m    701\u001b[0m                     \u001b[0mself\u001b[0m\u001b[0;34m.\u001b[0m\u001b[0m_output\u001b[0m\u001b[0;34m.\u001b[0m\u001b[0mextend\u001b[0m\u001b[0;34m(\u001b[0m\u001b[0mjob\u001b[0m\u001b[0;34m.\u001b[0m\u001b[0mget\u001b[0m\u001b[0;34m(\u001b[0m\u001b[0;34m)\u001b[0m\u001b[0;34m)\u001b[0m\u001b[0;34m\u001b[0m\u001b[0m\n",
      "\u001b[0;32m~/anaconda2/envs/sdp35/lib/python3.5/multiprocessing/pool.py\u001b[0m in \u001b[0;36mget\u001b[0;34m(self, timeout)\u001b[0m\n\u001b[1;32m    636\u001b[0m \u001b[0;34m\u001b[0m\u001b[0m\n\u001b[1;32m    637\u001b[0m     \u001b[0;32mdef\u001b[0m \u001b[0mget\u001b[0m\u001b[0;34m(\u001b[0m\u001b[0mself\u001b[0m\u001b[0;34m,\u001b[0m \u001b[0mtimeout\u001b[0m\u001b[0;34m=\u001b[0m\u001b[0;32mNone\u001b[0m\u001b[0;34m)\u001b[0m\u001b[0;34m:\u001b[0m\u001b[0;34m\u001b[0m\u001b[0m\n\u001b[0;32m--> 638\u001b[0;31m         \u001b[0mself\u001b[0m\u001b[0;34m.\u001b[0m\u001b[0mwait\u001b[0m\u001b[0;34m(\u001b[0m\u001b[0mtimeout\u001b[0m\u001b[0;34m)\u001b[0m\u001b[0;34m\u001b[0m\u001b[0m\n\u001b[0m\u001b[1;32m    639\u001b[0m         \u001b[0;32mif\u001b[0m \u001b[0;32mnot\u001b[0m \u001b[0mself\u001b[0m\u001b[0;34m.\u001b[0m\u001b[0mready\u001b[0m\u001b[0;34m(\u001b[0m\u001b[0;34m)\u001b[0m\u001b[0;34m:\u001b[0m\u001b[0;34m\u001b[0m\u001b[0m\n\u001b[1;32m    640\u001b[0m             \u001b[0;32mraise\u001b[0m \u001b[0mTimeoutError\u001b[0m\u001b[0;34m\u001b[0m\u001b[0m\n",
      "\u001b[0;32m~/anaconda2/envs/sdp35/lib/python3.5/multiprocessing/pool.py\u001b[0m in \u001b[0;36mwait\u001b[0;34m(self, timeout)\u001b[0m\n\u001b[1;32m    633\u001b[0m \u001b[0;34m\u001b[0m\u001b[0m\n\u001b[1;32m    634\u001b[0m     \u001b[0;32mdef\u001b[0m \u001b[0mwait\u001b[0m\u001b[0;34m(\u001b[0m\u001b[0mself\u001b[0m\u001b[0;34m,\u001b[0m \u001b[0mtimeout\u001b[0m\u001b[0;34m=\u001b[0m\u001b[0;32mNone\u001b[0m\u001b[0;34m)\u001b[0m\u001b[0;34m:\u001b[0m\u001b[0;34m\u001b[0m\u001b[0m\n\u001b[0;32m--> 635\u001b[0;31m         \u001b[0mself\u001b[0m\u001b[0;34m.\u001b[0m\u001b[0m_event\u001b[0m\u001b[0;34m.\u001b[0m\u001b[0mwait\u001b[0m\u001b[0;34m(\u001b[0m\u001b[0mtimeout\u001b[0m\u001b[0;34m)\u001b[0m\u001b[0;34m\u001b[0m\u001b[0m\n\u001b[0m\u001b[1;32m    636\u001b[0m \u001b[0;34m\u001b[0m\u001b[0m\n\u001b[1;32m    637\u001b[0m     \u001b[0;32mdef\u001b[0m \u001b[0mget\u001b[0m\u001b[0;34m(\u001b[0m\u001b[0mself\u001b[0m\u001b[0;34m,\u001b[0m \u001b[0mtimeout\u001b[0m\u001b[0;34m=\u001b[0m\u001b[0;32mNone\u001b[0m\u001b[0;34m)\u001b[0m\u001b[0;34m:\u001b[0m\u001b[0;34m\u001b[0m\u001b[0m\n",
      "\u001b[0;32m~/anaconda2/envs/sdp35/lib/python3.5/threading.py\u001b[0m in \u001b[0;36mwait\u001b[0;34m(self, timeout)\u001b[0m\n\u001b[1;32m    547\u001b[0m             \u001b[0msignaled\u001b[0m \u001b[0;34m=\u001b[0m \u001b[0mself\u001b[0m\u001b[0;34m.\u001b[0m\u001b[0m_flag\u001b[0m\u001b[0;34m\u001b[0m\u001b[0m\n\u001b[1;32m    548\u001b[0m             \u001b[0;32mif\u001b[0m \u001b[0;32mnot\u001b[0m \u001b[0msignaled\u001b[0m\u001b[0;34m:\u001b[0m\u001b[0;34m\u001b[0m\u001b[0m\n\u001b[0;32m--> 549\u001b[0;31m                 \u001b[0msignaled\u001b[0m \u001b[0;34m=\u001b[0m \u001b[0mself\u001b[0m\u001b[0;34m.\u001b[0m\u001b[0m_cond\u001b[0m\u001b[0;34m.\u001b[0m\u001b[0mwait\u001b[0m\u001b[0;34m(\u001b[0m\u001b[0mtimeout\u001b[0m\u001b[0;34m)\u001b[0m\u001b[0;34m\u001b[0m\u001b[0m\n\u001b[0m\u001b[1;32m    550\u001b[0m             \u001b[0;32mreturn\u001b[0m \u001b[0msignaled\u001b[0m\u001b[0;34m\u001b[0m\u001b[0m\n\u001b[1;32m    551\u001b[0m \u001b[0;34m\u001b[0m\u001b[0m\n",
      "\u001b[0;32m~/anaconda2/envs/sdp35/lib/python3.5/threading.py\u001b[0m in \u001b[0;36mwait\u001b[0;34m(self, timeout)\u001b[0m\n\u001b[1;32m    291\u001b[0m         \u001b[0;32mtry\u001b[0m\u001b[0;34m:\u001b[0m    \u001b[0;31m# restore state no matter what (e.g., KeyboardInterrupt)\u001b[0m\u001b[0;34m\u001b[0m\u001b[0m\n\u001b[1;32m    292\u001b[0m             \u001b[0;32mif\u001b[0m \u001b[0mtimeout\u001b[0m \u001b[0;32mis\u001b[0m \u001b[0;32mNone\u001b[0m\u001b[0;34m:\u001b[0m\u001b[0;34m\u001b[0m\u001b[0m\n\u001b[0;32m--> 293\u001b[0;31m                 \u001b[0mwaiter\u001b[0m\u001b[0;34m.\u001b[0m\u001b[0macquire\u001b[0m\u001b[0;34m(\u001b[0m\u001b[0;34m)\u001b[0m\u001b[0;34m\u001b[0m\u001b[0m\n\u001b[0m\u001b[1;32m    294\u001b[0m                 \u001b[0mgotit\u001b[0m \u001b[0;34m=\u001b[0m \u001b[0;32mTrue\u001b[0m\u001b[0;34m\u001b[0m\u001b[0m\n\u001b[1;32m    295\u001b[0m             \u001b[0;32melse\u001b[0m\u001b[0;34m:\u001b[0m\u001b[0;34m\u001b[0m\u001b[0m\n",
      "\u001b[0;31mKeyboardInterrupt\u001b[0m: "
     ]
    }
   ],
   "source": [
    "param_grid = { \n",
    "    'n_estimators': [50, 200],\n",
    "    'max_features': ['auto', 'sqrt', 'log2']\n",
    "}\n",
    "\n",
    "model_ET = ExtraTreesClassifier(random_state=0)\n",
    "clf = GridSearchCV(model_ET, param_grid, scoring=gini_scorer,\n",
    "                         cv=StratifiedKFold(target, 5),n_jobs=4, verbose=3, refit=True)\n",
    "clf.fit(trn_df, target)"
   ]
  },
  {
   "cell_type": "code",
   "execution_count": 21,
   "metadata": {},
   "outputs": [
    {
     "name": "stdout",
     "output_type": "stream",
     "text": [
      "Fitting 5 folds for each of 6 candidates, totalling 30 fits\n",
      "[CV] n_estimators=50, max_features=auto ..............................\n",
      "[CV] n_estimators=50, max_features=auto ..............................\n",
      "[CV] n_estimators=50, max_features=auto ..............................\n",
      "[CV] n_estimators=50, max_features=auto ..............................\n",
      "[CV] .... n_estimators=50, max_features=auto, score=-0.005687 - 4.5min\n",
      "[CV] n_estimators=50, max_features=auto ..............................\n",
      "[CV] ..... n_estimators=50, max_features=auto, score=0.011677 - 4.6min\n",
      "[CV] n_estimators=200, max_features=auto .............................\n",
      "[CV] ..... n_estimators=50, max_features=auto, score=0.003818 - 4.8min\n",
      "[CV] n_estimators=200, max_features=auto .............................\n",
      "[CV] ..... n_estimators=50, max_features=auto, score=0.023911 - 4.8min\n",
      "[CV] n_estimators=200, max_features=auto .............................\n",
      "[CV] .... n_estimators=50, max_features=auto, score=-0.002653 - 4.6min\n",
      "[CV] n_estimators=200, max_features=auto .............................\n",
      "[CV] .... n_estimators=200, max_features=auto, score=0.003815 -18.5min\n",
      "[CV] n_estimators=200, max_features=auto .............................\n",
      "[CV] .... n_estimators=200, max_features=auto, score=0.011677 -18.6min\n",
      "[CV] n_estimators=50, max_features=sqrt ..............................\n",
      "[CV] .... n_estimators=200, max_features=auto, score=0.023911 -18.7min\n",
      "[CV] n_estimators=50, max_features=sqrt ..............................\n"
     ]
    },
    {
     "ename": "KeyboardInterrupt",
     "evalue": "",
     "output_type": "error",
     "traceback": [
      "\u001b[0;31m---------------------------------------------------------------------------\u001b[0m",
      "\u001b[0;31mKeyboardInterrupt\u001b[0m                         Traceback (most recent call last)",
      "\u001b[0;32m<ipython-input-21-dbf15beb0f5d>\u001b[0m in \u001b[0;36m<module>\u001b[0;34m()\u001b[0m\n\u001b[1;32m      7\u001b[0m clf = GridSearchCV(model_ET, param_grid, scoring=gini_scorer,\n\u001b[1;32m      8\u001b[0m                          cv=StratifiedKFold(target, 5),n_jobs=4, verbose=3, refit=True)\n\u001b[0;32m----> 9\u001b[0;31m \u001b[0mclf\u001b[0m\u001b[0;34m.\u001b[0m\u001b[0mfit\u001b[0m\u001b[0;34m(\u001b[0m\u001b[0mtrn_df\u001b[0m\u001b[0;34m,\u001b[0m \u001b[0mtarget\u001b[0m\u001b[0;34m)\u001b[0m\u001b[0;34m\u001b[0m\u001b[0m\n\u001b[0m",
      "\u001b[0;32m~/anaconda2/envs/sdp35/lib/python3.5/site-packages/sklearn/grid_search.py\u001b[0m in \u001b[0;36mfit\u001b[0;34m(self, X, y)\u001b[0m\n\u001b[1;32m    836\u001b[0m \u001b[0;34m\u001b[0m\u001b[0m\n\u001b[1;32m    837\u001b[0m         \"\"\"\n\u001b[0;32m--> 838\u001b[0;31m         \u001b[0;32mreturn\u001b[0m \u001b[0mself\u001b[0m\u001b[0;34m.\u001b[0m\u001b[0m_fit\u001b[0m\u001b[0;34m(\u001b[0m\u001b[0mX\u001b[0m\u001b[0;34m,\u001b[0m \u001b[0my\u001b[0m\u001b[0;34m,\u001b[0m \u001b[0mParameterGrid\u001b[0m\u001b[0;34m(\u001b[0m\u001b[0mself\u001b[0m\u001b[0;34m.\u001b[0m\u001b[0mparam_grid\u001b[0m\u001b[0;34m)\u001b[0m\u001b[0;34m)\u001b[0m\u001b[0;34m\u001b[0m\u001b[0m\n\u001b[0m\u001b[1;32m    839\u001b[0m \u001b[0;34m\u001b[0m\u001b[0m\n\u001b[1;32m    840\u001b[0m \u001b[0;34m\u001b[0m\u001b[0m\n",
      "\u001b[0;32m~/anaconda2/envs/sdp35/lib/python3.5/site-packages/sklearn/grid_search.py\u001b[0m in \u001b[0;36m_fit\u001b[0;34m(self, X, y, parameter_iterable)\u001b[0m\n\u001b[1;32m    572\u001b[0m                                     \u001b[0mself\u001b[0m\u001b[0;34m.\u001b[0m\u001b[0mfit_params\u001b[0m\u001b[0;34m,\u001b[0m \u001b[0mreturn_parameters\u001b[0m\u001b[0;34m=\u001b[0m\u001b[0;32mTrue\u001b[0m\u001b[0;34m,\u001b[0m\u001b[0;34m\u001b[0m\u001b[0m\n\u001b[1;32m    573\u001b[0m                                     error_score=self.error_score)\n\u001b[0;32m--> 574\u001b[0;31m                 \u001b[0;32mfor\u001b[0m \u001b[0mparameters\u001b[0m \u001b[0;32min\u001b[0m \u001b[0mparameter_iterable\u001b[0m\u001b[0;34m\u001b[0m\u001b[0m\n\u001b[0m\u001b[1;32m    575\u001b[0m                 for train, test in cv)\n\u001b[1;32m    576\u001b[0m \u001b[0;34m\u001b[0m\u001b[0m\n",
      "\u001b[0;32m~/anaconda2/envs/sdp35/lib/python3.5/site-packages/sklearn/externals/joblib/parallel.py\u001b[0m in \u001b[0;36m__call__\u001b[0;34m(self, iterable)\u001b[0m\n\u001b[1;32m    787\u001b[0m                 \u001b[0;31m# consumption.\u001b[0m\u001b[0;34m\u001b[0m\u001b[0;34m\u001b[0m\u001b[0m\n\u001b[1;32m    788\u001b[0m                 \u001b[0mself\u001b[0m\u001b[0;34m.\u001b[0m\u001b[0m_iterating\u001b[0m \u001b[0;34m=\u001b[0m \u001b[0;32mFalse\u001b[0m\u001b[0;34m\u001b[0m\u001b[0m\n\u001b[0;32m--> 789\u001b[0;31m             \u001b[0mself\u001b[0m\u001b[0;34m.\u001b[0m\u001b[0mretrieve\u001b[0m\u001b[0;34m(\u001b[0m\u001b[0;34m)\u001b[0m\u001b[0;34m\u001b[0m\u001b[0m\n\u001b[0m\u001b[1;32m    790\u001b[0m             \u001b[0;31m# Make sure that we get a last message telling us we are done\u001b[0m\u001b[0;34m\u001b[0m\u001b[0;34m\u001b[0m\u001b[0m\n\u001b[1;32m    791\u001b[0m             \u001b[0melapsed_time\u001b[0m \u001b[0;34m=\u001b[0m \u001b[0mtime\u001b[0m\u001b[0;34m.\u001b[0m\u001b[0mtime\u001b[0m\u001b[0;34m(\u001b[0m\u001b[0;34m)\u001b[0m \u001b[0;34m-\u001b[0m \u001b[0mself\u001b[0m\u001b[0;34m.\u001b[0m\u001b[0m_start_time\u001b[0m\u001b[0;34m\u001b[0m\u001b[0m\n",
      "\u001b[0;32m~/anaconda2/envs/sdp35/lib/python3.5/site-packages/sklearn/externals/joblib/parallel.py\u001b[0m in \u001b[0;36mretrieve\u001b[0;34m(self)\u001b[0m\n\u001b[1;32m    697\u001b[0m             \u001b[0;32mtry\u001b[0m\u001b[0;34m:\u001b[0m\u001b[0;34m\u001b[0m\u001b[0m\n\u001b[1;32m    698\u001b[0m                 \u001b[0;32mif\u001b[0m \u001b[0mgetattr\u001b[0m\u001b[0;34m(\u001b[0m\u001b[0mself\u001b[0m\u001b[0;34m.\u001b[0m\u001b[0m_backend\u001b[0m\u001b[0;34m,\u001b[0m \u001b[0;34m'supports_timeout'\u001b[0m\u001b[0;34m,\u001b[0m \u001b[0;32mFalse\u001b[0m\u001b[0;34m)\u001b[0m\u001b[0;34m:\u001b[0m\u001b[0;34m\u001b[0m\u001b[0m\n\u001b[0;32m--> 699\u001b[0;31m                     \u001b[0mself\u001b[0m\u001b[0;34m.\u001b[0m\u001b[0m_output\u001b[0m\u001b[0;34m.\u001b[0m\u001b[0mextend\u001b[0m\u001b[0;34m(\u001b[0m\u001b[0mjob\u001b[0m\u001b[0;34m.\u001b[0m\u001b[0mget\u001b[0m\u001b[0;34m(\u001b[0m\u001b[0mtimeout\u001b[0m\u001b[0;34m=\u001b[0m\u001b[0mself\u001b[0m\u001b[0;34m.\u001b[0m\u001b[0mtimeout\u001b[0m\u001b[0;34m)\u001b[0m\u001b[0;34m)\u001b[0m\u001b[0;34m\u001b[0m\u001b[0m\n\u001b[0m\u001b[1;32m    700\u001b[0m                 \u001b[0;32melse\u001b[0m\u001b[0;34m:\u001b[0m\u001b[0;34m\u001b[0m\u001b[0m\n\u001b[1;32m    701\u001b[0m                     \u001b[0mself\u001b[0m\u001b[0;34m.\u001b[0m\u001b[0m_output\u001b[0m\u001b[0;34m.\u001b[0m\u001b[0mextend\u001b[0m\u001b[0;34m(\u001b[0m\u001b[0mjob\u001b[0m\u001b[0;34m.\u001b[0m\u001b[0mget\u001b[0m\u001b[0;34m(\u001b[0m\u001b[0;34m)\u001b[0m\u001b[0;34m)\u001b[0m\u001b[0;34m\u001b[0m\u001b[0m\n",
      "\u001b[0;32m~/anaconda2/envs/sdp35/lib/python3.5/multiprocessing/pool.py\u001b[0m in \u001b[0;36mget\u001b[0;34m(self, timeout)\u001b[0m\n\u001b[1;32m    636\u001b[0m \u001b[0;34m\u001b[0m\u001b[0m\n\u001b[1;32m    637\u001b[0m     \u001b[0;32mdef\u001b[0m \u001b[0mget\u001b[0m\u001b[0;34m(\u001b[0m\u001b[0mself\u001b[0m\u001b[0;34m,\u001b[0m \u001b[0mtimeout\u001b[0m\u001b[0;34m=\u001b[0m\u001b[0;32mNone\u001b[0m\u001b[0;34m)\u001b[0m\u001b[0;34m:\u001b[0m\u001b[0;34m\u001b[0m\u001b[0m\n\u001b[0;32m--> 638\u001b[0;31m         \u001b[0mself\u001b[0m\u001b[0;34m.\u001b[0m\u001b[0mwait\u001b[0m\u001b[0;34m(\u001b[0m\u001b[0mtimeout\u001b[0m\u001b[0;34m)\u001b[0m\u001b[0;34m\u001b[0m\u001b[0m\n\u001b[0m\u001b[1;32m    639\u001b[0m         \u001b[0;32mif\u001b[0m \u001b[0;32mnot\u001b[0m \u001b[0mself\u001b[0m\u001b[0;34m.\u001b[0m\u001b[0mready\u001b[0m\u001b[0;34m(\u001b[0m\u001b[0;34m)\u001b[0m\u001b[0;34m:\u001b[0m\u001b[0;34m\u001b[0m\u001b[0m\n\u001b[1;32m    640\u001b[0m             \u001b[0;32mraise\u001b[0m \u001b[0mTimeoutError\u001b[0m\u001b[0;34m\u001b[0m\u001b[0m\n",
      "\u001b[0;32m~/anaconda2/envs/sdp35/lib/python3.5/multiprocessing/pool.py\u001b[0m in \u001b[0;36mwait\u001b[0;34m(self, timeout)\u001b[0m\n\u001b[1;32m    633\u001b[0m \u001b[0;34m\u001b[0m\u001b[0m\n\u001b[1;32m    634\u001b[0m     \u001b[0;32mdef\u001b[0m \u001b[0mwait\u001b[0m\u001b[0;34m(\u001b[0m\u001b[0mself\u001b[0m\u001b[0;34m,\u001b[0m \u001b[0mtimeout\u001b[0m\u001b[0;34m=\u001b[0m\u001b[0;32mNone\u001b[0m\u001b[0;34m)\u001b[0m\u001b[0;34m:\u001b[0m\u001b[0;34m\u001b[0m\u001b[0m\n\u001b[0;32m--> 635\u001b[0;31m         \u001b[0mself\u001b[0m\u001b[0;34m.\u001b[0m\u001b[0m_event\u001b[0m\u001b[0;34m.\u001b[0m\u001b[0mwait\u001b[0m\u001b[0;34m(\u001b[0m\u001b[0mtimeout\u001b[0m\u001b[0;34m)\u001b[0m\u001b[0;34m\u001b[0m\u001b[0m\n\u001b[0m\u001b[1;32m    636\u001b[0m \u001b[0;34m\u001b[0m\u001b[0m\n\u001b[1;32m    637\u001b[0m     \u001b[0;32mdef\u001b[0m \u001b[0mget\u001b[0m\u001b[0;34m(\u001b[0m\u001b[0mself\u001b[0m\u001b[0;34m,\u001b[0m \u001b[0mtimeout\u001b[0m\u001b[0;34m=\u001b[0m\u001b[0;32mNone\u001b[0m\u001b[0;34m)\u001b[0m\u001b[0;34m:\u001b[0m\u001b[0;34m\u001b[0m\u001b[0m\n",
      "\u001b[0;32m~/anaconda2/envs/sdp35/lib/python3.5/threading.py\u001b[0m in \u001b[0;36mwait\u001b[0;34m(self, timeout)\u001b[0m\n\u001b[1;32m    547\u001b[0m             \u001b[0msignaled\u001b[0m \u001b[0;34m=\u001b[0m \u001b[0mself\u001b[0m\u001b[0;34m.\u001b[0m\u001b[0m_flag\u001b[0m\u001b[0;34m\u001b[0m\u001b[0m\n\u001b[1;32m    548\u001b[0m             \u001b[0;32mif\u001b[0m \u001b[0;32mnot\u001b[0m \u001b[0msignaled\u001b[0m\u001b[0;34m:\u001b[0m\u001b[0;34m\u001b[0m\u001b[0m\n\u001b[0;32m--> 549\u001b[0;31m                 \u001b[0msignaled\u001b[0m \u001b[0;34m=\u001b[0m \u001b[0mself\u001b[0m\u001b[0;34m.\u001b[0m\u001b[0m_cond\u001b[0m\u001b[0;34m.\u001b[0m\u001b[0mwait\u001b[0m\u001b[0;34m(\u001b[0m\u001b[0mtimeout\u001b[0m\u001b[0;34m)\u001b[0m\u001b[0;34m\u001b[0m\u001b[0m\n\u001b[0m\u001b[1;32m    550\u001b[0m             \u001b[0;32mreturn\u001b[0m \u001b[0msignaled\u001b[0m\u001b[0;34m\u001b[0m\u001b[0m\n\u001b[1;32m    551\u001b[0m \u001b[0;34m\u001b[0m\u001b[0m\n",
      "\u001b[0;32m~/anaconda2/envs/sdp35/lib/python3.5/threading.py\u001b[0m in \u001b[0;36mwait\u001b[0;34m(self, timeout)\u001b[0m\n\u001b[1;32m    291\u001b[0m         \u001b[0;32mtry\u001b[0m\u001b[0;34m:\u001b[0m    \u001b[0;31m# restore state no matter what (e.g., KeyboardInterrupt)\u001b[0m\u001b[0;34m\u001b[0m\u001b[0m\n\u001b[1;32m    292\u001b[0m             \u001b[0;32mif\u001b[0m \u001b[0mtimeout\u001b[0m \u001b[0;32mis\u001b[0m \u001b[0;32mNone\u001b[0m\u001b[0;34m:\u001b[0m\u001b[0;34m\u001b[0m\u001b[0m\n\u001b[0;32m--> 293\u001b[0;31m                 \u001b[0mwaiter\u001b[0m\u001b[0;34m.\u001b[0m\u001b[0macquire\u001b[0m\u001b[0;34m(\u001b[0m\u001b[0;34m)\u001b[0m\u001b[0;34m\u001b[0m\u001b[0m\n\u001b[0m\u001b[1;32m    294\u001b[0m                 \u001b[0mgotit\u001b[0m \u001b[0;34m=\u001b[0m \u001b[0;32mTrue\u001b[0m\u001b[0;34m\u001b[0m\u001b[0m\n\u001b[1;32m    295\u001b[0m             \u001b[0;32melse\u001b[0m\u001b[0;34m:\u001b[0m\u001b[0;34m\u001b[0m\u001b[0m\n",
      "\u001b[0;31mKeyboardInterrupt\u001b[0m: "
     ]
    }
   ],
   "source": [
    "param_grid = { \n",
    "    'n_estimators': [50, 200],\n",
    "    'max_features': ['auto', 'sqrt', 'log2']\n",
    "}\n",
    "\n",
    "model_ET = ExtraTreesClassifier(random_state=0, class_weight={0: 0.03644752, 1:0.947635485})\n",
    "clf = GridSearchCV(model_ET, param_grid, scoring=gini_scorer,\n",
    "                         cv=StratifiedKFold(target, 5),n_jobs=4, verbose=3, refit=True)\n",
    "clf.fit(trn_df, target)"
   ]
  },
  {
   "cell_type": "code",
   "execution_count": 23,
   "metadata": {},
   "outputs": [],
   "source": [
    "wts = [0.947635485 if x==1 else 0.03644752 for x in target]"
   ]
  },
  {
   "cell_type": "code",
   "execution_count": 35,
   "metadata": {},
   "outputs": [
    {
     "name": "stdout",
     "output_type": "stream",
     "text": [
      "Fitting 5 folds for each of 6 candidates, totalling 30 fits\n",
      "[CV] n_estimators=50, class_weight={0: 0.947635485, 1: 0.03644752}, max_features=auto \n",
      "[CV] n_estimators=50, class_weight={0: 0.947635485, 1: 0.03644752}, max_features=auto \n",
      "[CV] n_estimators=50, class_weight={0: 0.947635485, 1: 0.03644752}, max_features=auto \n",
      "[CV] n_estimators=50, class_weight={0: 0.947635485, 1: 0.03644752}, max_features=auto \n",
      "[CV]  n_estimators=50, class_weight={0: 0.947635485, 1: 0.03644752}, max_features=auto, score=0.010018 - 4.3min\n",
      "[CV] n_estimators=50, class_weight={0: 0.947635485, 1: 0.03644752}, max_features=auto \n",
      "[CV]  n_estimators=50, class_weight={0: 0.947635485, 1: 0.03644752}, max_features=auto, score=-0.004817 - 4.5min\n",
      "[CV] n_estimators=50, class_weight={0: 0.947635485, 1: 0.03644752}, max_features=sqrt \n",
      "[CV]  n_estimators=50, class_weight={0: 0.947635485, 1: 0.03644752}, max_features=auto, score=-0.009680 - 4.6min\n",
      "[CV] n_estimators=50, class_weight={0: 0.947635485, 1: 0.03644752}, max_features=sqrt \n",
      "[CV]  n_estimators=50, class_weight={0: 0.947635485, 1: 0.03644752}, max_features=auto, score=-0.003399 - 4.5min\n",
      "[CV] n_estimators=50, class_weight={0: 0.947635485, 1: 0.03644752}, max_features=sqrt \n",
      "[CV]  n_estimators=50, class_weight={0: 0.947635485, 1: 0.03644752}, max_features=auto, score=0.007478 - 4.5min\n",
      "[CV] n_estimators=50, class_weight={0: 0.947635485, 1: 0.03644752}, max_features=sqrt \n",
      "[CV]  n_estimators=50, class_weight={0: 0.947635485, 1: 0.03644752}, max_features=sqrt, score=-0.004817 - 4.8min\n",
      "[CV] n_estimators=50, class_weight={0: 0.947635485, 1: 0.03644752}, max_features=sqrt \n",
      "[CV]  n_estimators=50, class_weight={0: 0.947635485, 1: 0.03644752}, max_features=sqrt, score=0.010018 - 4.7min\n",
      "[CV] n_estimators=50, class_weight={0: 0.947635485, 1: 0.03644752}, max_features=log2 \n",
      "[CV]  n_estimators=50, class_weight={0: 0.947635485, 1: 0.03644752}, max_features=sqrt, score=-0.009680 - 4.7min\n",
      "[CV] n_estimators=50, class_weight={0: 0.947635485, 1: 0.03644752}, max_features=log2 \n",
      "[CV]  n_estimators=50, class_weight={0: 0.947635485, 1: 0.03644752}, max_features=log2, score=-0.004817 - 2.7min\n",
      "[CV] n_estimators=50, class_weight={0: 0.947635485, 1: 0.03644752}, max_features=log2 \n",
      "[CV]  n_estimators=50, class_weight={0: 0.947635485, 1: 0.03644752}, max_features=log2, score=0.010018 - 2.7min\n",
      "[CV] n_estimators=50, class_weight={0: 0.947635485, 1: 0.03644752}, max_features=log2 \n",
      "[CV]  n_estimators=50, class_weight={0: 0.947635485, 1: 0.03644752}, max_features=sqrt, score=-0.003399 - 4.6min\n",
      "[CV] n_estimators=50, class_weight={0: 0.947635485, 1: 0.03644752}, max_features=log2 \n",
      "[CV]  n_estimators=50, class_weight={0: 0.947635485, 1: 0.03644752}, max_features=sqrt, score=0.007478 - 4.6min\n",
      "[CV] n_estimators=50, class_weight={0: 26.43671, 1: 1}, max_features=auto \n",
      "[CV]  n_estimators=50, class_weight={0: 0.947635485, 1: 0.03644752}, max_features=log2, score=-0.003399 - 2.7min\n",
      "[CV] n_estimators=50, class_weight={0: 26.43671, 1: 1}, max_features=auto \n",
      "[CV]  n_estimators=50, class_weight={0: 0.947635485, 1: 0.03644752}, max_features=log2, score=-0.009870 - 2.9min\n",
      "[CV] n_estimators=50, class_weight={0: 26.43671, 1: 1}, max_features=auto \n",
      "[CV]  n_estimators=50, class_weight={0: 0.947635485, 1: 0.03644752}, max_features=log2, score=0.007478 - 2.8min\n",
      "[CV] n_estimators=50, class_weight={0: 26.43671, 1: 1}, max_features=auto \n",
      "[CV]  n_estimators=50, class_weight={0: 26.43671, 1: 1}, max_features=auto, score=-0.004817 - 4.6min\n",
      "[CV] n_estimators=50, class_weight={0: 26.43671, 1: 1}, max_features=auto \n",
      "[CV]  n_estimators=50, class_weight={0: 26.43671, 1: 1}, max_features=auto, score=0.010018 - 4.6min\n",
      "[CV] n_estimators=50, class_weight={0: 26.43671, 1: 1}, max_features=sqrt \n",
      "[CV]  n_estimators=50, class_weight={0: 26.43671, 1: 1}, max_features=auto, score=-0.009680 - 4.8min\n",
      "[CV] n_estimators=50, class_weight={0: 26.43671, 1: 1}, max_features=sqrt \n"
     ]
    },
    {
     "ename": "KeyboardInterrupt",
     "evalue": "",
     "output_type": "error",
     "traceback": [
      "\u001b[0;31m---------------------------------------------------------------------------\u001b[0m",
      "\u001b[0;31mKeyboardInterrupt\u001b[0m                         Traceback (most recent call last)",
      "\u001b[0;32m<ipython-input-35-bab361380b4b>\u001b[0m in \u001b[0;36m<module>\u001b[0;34m()\u001b[0m\n\u001b[1;32m      8\u001b[0m clf = GridSearchCV(model_ET, param_grid, scoring=gini_scorer,\n\u001b[1;32m      9\u001b[0m                          cv=StratifiedKFold(target, 5, shuffle=True),n_jobs=4, verbose=3, refit=True)\n\u001b[0;32m---> 10\u001b[0;31m \u001b[0mclf\u001b[0m\u001b[0;34m.\u001b[0m\u001b[0mfit\u001b[0m\u001b[0;34m(\u001b[0m\u001b[0mtrn_df\u001b[0m\u001b[0;34m,\u001b[0m \u001b[0mtarget\u001b[0m\u001b[0;34m)\u001b[0m\u001b[0;34m\u001b[0m\u001b[0m\n\u001b[0m",
      "\u001b[0;32m~/anaconda2/envs/sdp35/lib/python3.5/site-packages/sklearn/grid_search.py\u001b[0m in \u001b[0;36mfit\u001b[0;34m(self, X, y)\u001b[0m\n\u001b[1;32m    836\u001b[0m \u001b[0;34m\u001b[0m\u001b[0m\n\u001b[1;32m    837\u001b[0m         \"\"\"\n\u001b[0;32m--> 838\u001b[0;31m         \u001b[0;32mreturn\u001b[0m \u001b[0mself\u001b[0m\u001b[0;34m.\u001b[0m\u001b[0m_fit\u001b[0m\u001b[0;34m(\u001b[0m\u001b[0mX\u001b[0m\u001b[0;34m,\u001b[0m \u001b[0my\u001b[0m\u001b[0;34m,\u001b[0m \u001b[0mParameterGrid\u001b[0m\u001b[0;34m(\u001b[0m\u001b[0mself\u001b[0m\u001b[0;34m.\u001b[0m\u001b[0mparam_grid\u001b[0m\u001b[0;34m)\u001b[0m\u001b[0;34m)\u001b[0m\u001b[0;34m\u001b[0m\u001b[0m\n\u001b[0m\u001b[1;32m    839\u001b[0m \u001b[0;34m\u001b[0m\u001b[0m\n\u001b[1;32m    840\u001b[0m \u001b[0;34m\u001b[0m\u001b[0m\n",
      "\u001b[0;32m~/anaconda2/envs/sdp35/lib/python3.5/site-packages/sklearn/grid_search.py\u001b[0m in \u001b[0;36m_fit\u001b[0;34m(self, X, y, parameter_iterable)\u001b[0m\n\u001b[1;32m    572\u001b[0m                                     \u001b[0mself\u001b[0m\u001b[0;34m.\u001b[0m\u001b[0mfit_params\u001b[0m\u001b[0;34m,\u001b[0m \u001b[0mreturn_parameters\u001b[0m\u001b[0;34m=\u001b[0m\u001b[0;32mTrue\u001b[0m\u001b[0;34m,\u001b[0m\u001b[0;34m\u001b[0m\u001b[0m\n\u001b[1;32m    573\u001b[0m                                     error_score=self.error_score)\n\u001b[0;32m--> 574\u001b[0;31m                 \u001b[0;32mfor\u001b[0m \u001b[0mparameters\u001b[0m \u001b[0;32min\u001b[0m \u001b[0mparameter_iterable\u001b[0m\u001b[0;34m\u001b[0m\u001b[0m\n\u001b[0m\u001b[1;32m    575\u001b[0m                 for train, test in cv)\n\u001b[1;32m    576\u001b[0m \u001b[0;34m\u001b[0m\u001b[0m\n",
      "\u001b[0;32m~/anaconda2/envs/sdp35/lib/python3.5/site-packages/sklearn/externals/joblib/parallel.py\u001b[0m in \u001b[0;36m__call__\u001b[0;34m(self, iterable)\u001b[0m\n\u001b[1;32m    787\u001b[0m                 \u001b[0;31m# consumption.\u001b[0m\u001b[0;34m\u001b[0m\u001b[0;34m\u001b[0m\u001b[0m\n\u001b[1;32m    788\u001b[0m                 \u001b[0mself\u001b[0m\u001b[0;34m.\u001b[0m\u001b[0m_iterating\u001b[0m \u001b[0;34m=\u001b[0m \u001b[0;32mFalse\u001b[0m\u001b[0;34m\u001b[0m\u001b[0m\n\u001b[0;32m--> 789\u001b[0;31m             \u001b[0mself\u001b[0m\u001b[0;34m.\u001b[0m\u001b[0mretrieve\u001b[0m\u001b[0;34m(\u001b[0m\u001b[0;34m)\u001b[0m\u001b[0;34m\u001b[0m\u001b[0m\n\u001b[0m\u001b[1;32m    790\u001b[0m             \u001b[0;31m# Make sure that we get a last message telling us we are done\u001b[0m\u001b[0;34m\u001b[0m\u001b[0;34m\u001b[0m\u001b[0m\n\u001b[1;32m    791\u001b[0m             \u001b[0melapsed_time\u001b[0m \u001b[0;34m=\u001b[0m \u001b[0mtime\u001b[0m\u001b[0;34m.\u001b[0m\u001b[0mtime\u001b[0m\u001b[0;34m(\u001b[0m\u001b[0;34m)\u001b[0m \u001b[0;34m-\u001b[0m \u001b[0mself\u001b[0m\u001b[0;34m.\u001b[0m\u001b[0m_start_time\u001b[0m\u001b[0;34m\u001b[0m\u001b[0m\n",
      "\u001b[0;32m~/anaconda2/envs/sdp35/lib/python3.5/site-packages/sklearn/externals/joblib/parallel.py\u001b[0m in \u001b[0;36mretrieve\u001b[0;34m(self)\u001b[0m\n\u001b[1;32m    697\u001b[0m             \u001b[0;32mtry\u001b[0m\u001b[0;34m:\u001b[0m\u001b[0;34m\u001b[0m\u001b[0m\n\u001b[1;32m    698\u001b[0m                 \u001b[0;32mif\u001b[0m \u001b[0mgetattr\u001b[0m\u001b[0;34m(\u001b[0m\u001b[0mself\u001b[0m\u001b[0;34m.\u001b[0m\u001b[0m_backend\u001b[0m\u001b[0;34m,\u001b[0m \u001b[0;34m'supports_timeout'\u001b[0m\u001b[0;34m,\u001b[0m \u001b[0;32mFalse\u001b[0m\u001b[0;34m)\u001b[0m\u001b[0;34m:\u001b[0m\u001b[0;34m\u001b[0m\u001b[0m\n\u001b[0;32m--> 699\u001b[0;31m                     \u001b[0mself\u001b[0m\u001b[0;34m.\u001b[0m\u001b[0m_output\u001b[0m\u001b[0;34m.\u001b[0m\u001b[0mextend\u001b[0m\u001b[0;34m(\u001b[0m\u001b[0mjob\u001b[0m\u001b[0;34m.\u001b[0m\u001b[0mget\u001b[0m\u001b[0;34m(\u001b[0m\u001b[0mtimeout\u001b[0m\u001b[0;34m=\u001b[0m\u001b[0mself\u001b[0m\u001b[0;34m.\u001b[0m\u001b[0mtimeout\u001b[0m\u001b[0;34m)\u001b[0m\u001b[0;34m)\u001b[0m\u001b[0;34m\u001b[0m\u001b[0m\n\u001b[0m\u001b[1;32m    700\u001b[0m                 \u001b[0;32melse\u001b[0m\u001b[0;34m:\u001b[0m\u001b[0;34m\u001b[0m\u001b[0m\n\u001b[1;32m    701\u001b[0m                     \u001b[0mself\u001b[0m\u001b[0;34m.\u001b[0m\u001b[0m_output\u001b[0m\u001b[0;34m.\u001b[0m\u001b[0mextend\u001b[0m\u001b[0;34m(\u001b[0m\u001b[0mjob\u001b[0m\u001b[0;34m.\u001b[0m\u001b[0mget\u001b[0m\u001b[0;34m(\u001b[0m\u001b[0;34m)\u001b[0m\u001b[0;34m)\u001b[0m\u001b[0;34m\u001b[0m\u001b[0m\n",
      "\u001b[0;32m~/anaconda2/envs/sdp35/lib/python3.5/multiprocessing/pool.py\u001b[0m in \u001b[0;36mget\u001b[0;34m(self, timeout)\u001b[0m\n\u001b[1;32m    636\u001b[0m \u001b[0;34m\u001b[0m\u001b[0m\n\u001b[1;32m    637\u001b[0m     \u001b[0;32mdef\u001b[0m \u001b[0mget\u001b[0m\u001b[0;34m(\u001b[0m\u001b[0mself\u001b[0m\u001b[0;34m,\u001b[0m \u001b[0mtimeout\u001b[0m\u001b[0;34m=\u001b[0m\u001b[0;32mNone\u001b[0m\u001b[0;34m)\u001b[0m\u001b[0;34m:\u001b[0m\u001b[0;34m\u001b[0m\u001b[0m\n\u001b[0;32m--> 638\u001b[0;31m         \u001b[0mself\u001b[0m\u001b[0;34m.\u001b[0m\u001b[0mwait\u001b[0m\u001b[0;34m(\u001b[0m\u001b[0mtimeout\u001b[0m\u001b[0;34m)\u001b[0m\u001b[0;34m\u001b[0m\u001b[0m\n\u001b[0m\u001b[1;32m    639\u001b[0m         \u001b[0;32mif\u001b[0m \u001b[0;32mnot\u001b[0m \u001b[0mself\u001b[0m\u001b[0;34m.\u001b[0m\u001b[0mready\u001b[0m\u001b[0;34m(\u001b[0m\u001b[0;34m)\u001b[0m\u001b[0;34m:\u001b[0m\u001b[0;34m\u001b[0m\u001b[0m\n\u001b[1;32m    640\u001b[0m             \u001b[0;32mraise\u001b[0m \u001b[0mTimeoutError\u001b[0m\u001b[0;34m\u001b[0m\u001b[0m\n",
      "\u001b[0;32m~/anaconda2/envs/sdp35/lib/python3.5/multiprocessing/pool.py\u001b[0m in \u001b[0;36mwait\u001b[0;34m(self, timeout)\u001b[0m\n\u001b[1;32m    633\u001b[0m \u001b[0;34m\u001b[0m\u001b[0m\n\u001b[1;32m    634\u001b[0m     \u001b[0;32mdef\u001b[0m \u001b[0mwait\u001b[0m\u001b[0;34m(\u001b[0m\u001b[0mself\u001b[0m\u001b[0;34m,\u001b[0m \u001b[0mtimeout\u001b[0m\u001b[0;34m=\u001b[0m\u001b[0;32mNone\u001b[0m\u001b[0;34m)\u001b[0m\u001b[0;34m:\u001b[0m\u001b[0;34m\u001b[0m\u001b[0m\n\u001b[0;32m--> 635\u001b[0;31m         \u001b[0mself\u001b[0m\u001b[0;34m.\u001b[0m\u001b[0m_event\u001b[0m\u001b[0;34m.\u001b[0m\u001b[0mwait\u001b[0m\u001b[0;34m(\u001b[0m\u001b[0mtimeout\u001b[0m\u001b[0;34m)\u001b[0m\u001b[0;34m\u001b[0m\u001b[0m\n\u001b[0m\u001b[1;32m    636\u001b[0m \u001b[0;34m\u001b[0m\u001b[0m\n\u001b[1;32m    637\u001b[0m     \u001b[0;32mdef\u001b[0m \u001b[0mget\u001b[0m\u001b[0;34m(\u001b[0m\u001b[0mself\u001b[0m\u001b[0;34m,\u001b[0m \u001b[0mtimeout\u001b[0m\u001b[0;34m=\u001b[0m\u001b[0;32mNone\u001b[0m\u001b[0;34m)\u001b[0m\u001b[0;34m:\u001b[0m\u001b[0;34m\u001b[0m\u001b[0m\n",
      "\u001b[0;32m~/anaconda2/envs/sdp35/lib/python3.5/threading.py\u001b[0m in \u001b[0;36mwait\u001b[0;34m(self, timeout)\u001b[0m\n\u001b[1;32m    547\u001b[0m             \u001b[0msignaled\u001b[0m \u001b[0;34m=\u001b[0m \u001b[0mself\u001b[0m\u001b[0;34m.\u001b[0m\u001b[0m_flag\u001b[0m\u001b[0;34m\u001b[0m\u001b[0m\n\u001b[1;32m    548\u001b[0m             \u001b[0;32mif\u001b[0m \u001b[0;32mnot\u001b[0m \u001b[0msignaled\u001b[0m\u001b[0;34m:\u001b[0m\u001b[0;34m\u001b[0m\u001b[0m\n\u001b[0;32m--> 549\u001b[0;31m                 \u001b[0msignaled\u001b[0m \u001b[0;34m=\u001b[0m \u001b[0mself\u001b[0m\u001b[0;34m.\u001b[0m\u001b[0m_cond\u001b[0m\u001b[0;34m.\u001b[0m\u001b[0mwait\u001b[0m\u001b[0;34m(\u001b[0m\u001b[0mtimeout\u001b[0m\u001b[0;34m)\u001b[0m\u001b[0;34m\u001b[0m\u001b[0m\n\u001b[0m\u001b[1;32m    550\u001b[0m             \u001b[0;32mreturn\u001b[0m \u001b[0msignaled\u001b[0m\u001b[0;34m\u001b[0m\u001b[0m\n\u001b[1;32m    551\u001b[0m \u001b[0;34m\u001b[0m\u001b[0m\n",
      "\u001b[0;32m~/anaconda2/envs/sdp35/lib/python3.5/threading.py\u001b[0m in \u001b[0;36mwait\u001b[0;34m(self, timeout)\u001b[0m\n\u001b[1;32m    291\u001b[0m         \u001b[0;32mtry\u001b[0m\u001b[0;34m:\u001b[0m    \u001b[0;31m# restore state no matter what (e.g., KeyboardInterrupt)\u001b[0m\u001b[0;34m\u001b[0m\u001b[0m\n\u001b[1;32m    292\u001b[0m             \u001b[0;32mif\u001b[0m \u001b[0mtimeout\u001b[0m \u001b[0;32mis\u001b[0m \u001b[0;32mNone\u001b[0m\u001b[0;34m:\u001b[0m\u001b[0;34m\u001b[0m\u001b[0m\n\u001b[0;32m--> 293\u001b[0;31m                 \u001b[0mwaiter\u001b[0m\u001b[0;34m.\u001b[0m\u001b[0macquire\u001b[0m\u001b[0;34m(\u001b[0m\u001b[0;34m)\u001b[0m\u001b[0;34m\u001b[0m\u001b[0m\n\u001b[0m\u001b[1;32m    294\u001b[0m                 \u001b[0mgotit\u001b[0m \u001b[0;34m=\u001b[0m \u001b[0;32mTrue\u001b[0m\u001b[0;34m\u001b[0m\u001b[0m\n\u001b[1;32m    295\u001b[0m             \u001b[0;32melse\u001b[0m\u001b[0;34m:\u001b[0m\u001b[0;34m\u001b[0m\u001b[0m\n",
      "\u001b[0;31mKeyboardInterrupt\u001b[0m: "
     ]
    }
   ],
   "source": [
    "param_grid = { \n",
    "    'n_estimators': [50],\n",
    "    'class_weight': [{1: 0.03644752, 0:0.947635485}, {1:1, 0:26.43671}],\n",
    "    'max_features': ['auto', 'sqrt', 'log2']\n",
    "}\n",
    "\n",
    "model_ET = ExtraTreesClassifier(random_state=0,  bootstrap=True, oob_score=True)\n",
    "clf = GridSearchCV(model_ET, param_grid, scoring=gini_scorer,\n",
    "                         cv=StratifiedKFold(target, 5, shuffle=True),n_jobs=4, verbose=3, refit=True)\n",
    "clf.fit(trn_df, target)"
   ]
  },
  {
   "cell_type": "code",
   "execution_count": 40,
   "metadata": {},
   "outputs": [],
   "source": [
    "with open('../cache/idx_info.pkl', 'rb') as f:\n",
    "    idx_info= pickle.load(f)"
   ]
  },
  {
   "cell_type": "code",
   "execution_count": 41,
   "metadata": {},
   "outputs": [
    {
     "data": {
      "text/plain": [
       "{0: [array([     0,      1,      2, ..., 595209, 595210, 595211]),\n",
       "  array([     4,     10,     20, ..., 595198, 595203, 595205])],\n",
       " 1: [array([     0,      2,      3, ..., 595209, 595210, 595211]),\n",
       "  array([     1,     15,     28, ..., 595201, 595204, 595208])],\n",
       " 2: [array([     0,      1,      2, ..., 595208, 595210, 595211]),\n",
       "  array([     5,     11,     13, ..., 595206, 595207, 595209])],\n",
       " 3: [array([     1,      2,      4, ..., 595209, 595210, 595211]),\n",
       "  array([     0,      3,      6, ..., 595186, 595196, 595202])],\n",
       " 4: [array([     0,      1,      3, ..., 595207, 595208, 595209]),\n",
       "  array([     2,      9,     14, ..., 595199, 595210, 595211])]}"
      ]
     },
     "execution_count": 41,
     "metadata": {},
     "output_type": "execute_result"
    }
   ],
   "source": [
    "idx_info"
   ]
  },
  {
   "cell_type": "code",
   "execution_count": 43,
   "metadata": {},
   "outputs": [
    {
     "data": {
      "text/plain": [
       "array([     0,      1,      2, ..., 595209, 595210, 595211])"
      ]
     },
     "execution_count": 43,
     "metadata": {},
     "output_type": "execute_result"
    }
   ],
   "source": [
    "idx_info[0][0]"
   ]
  },
  {
   "cell_type": "code",
   "execution_count": 86,
   "metadata": {
    "collapsed": true
   },
   "outputs": [],
   "source": [
    "sub_df = feather.read_dataframe('../cache/sub_df.feather')\n",
    "sub_df = sub_df[trn_df.columns]"
   ]
  },
  {
   "cell_type": "code",
   "execution_count": 87,
   "metadata": {},
   "outputs": [
    {
     "data": {
      "text/plain": [
       "(892816, 227)"
      ]
     },
     "execution_count": 87,
     "metadata": {},
     "output_type": "execute_result"
    }
   ],
   "source": [
    "sub_df.shape"
   ]
  },
  {
   "cell_type": "code",
   "execution_count": 92,
   "metadata": {},
   "outputs": [
    {
     "data": {
      "text/plain": [
       "ps_car_13                          0\n",
       "ps_reg_03                          0\n",
       "ps_ind_03                          0\n",
       "ps_ind_15                          0\n",
       "ps_reg_02                          0\n",
       "ps_car_14                          0\n",
       "ps_car_12                          0\n",
       "ps_ind_17_bin                      0\n",
       "ps_reg_01                          0\n",
       "ps_car_15                          0\n",
       "ps_ind_01                          0\n",
       "ps_ind_16_bin                      0\n",
       "ps_ind_07_bin                      0\n",
       "ps_ind_06_bin                      0\n",
       "ps_car_11                          0\n",
       "ps_calc_09                         0\n",
       "ps_calc_05                         0\n",
       "ps_ind_08_bin                      0\n",
       "ps_ind_09_bin                      0\n",
       "ps_ind_18_bin                      0\n",
       "ps_ind_12_bin                      0\n",
       "ps_ind_14                          0\n",
       "loo_ps_ind_05_cat                  0\n",
       "loo_ps_car_01_cat                  0\n",
       "loo_ps_car_07_cat                  0\n",
       "loo_ps_car_03_cat                  0\n",
       "loo_ps_car_06_cat                  0\n",
       "loo_ps_car_04_cat                  0\n",
       "loo_ps_car_09_cat                  0\n",
       "loo_ps_car_02_cat                  0\n",
       "                                  ..\n",
       "loo_ps_ind_09_bin_ps_car_09_cat    0\n",
       "loo_ps_ind_09_bin_ps_car_02_cat    0\n",
       "loo_ps_ind_09_bin_ps_ind_02_cat    0\n",
       "loo_ps_ind_09_bin_ps_car_05_cat    0\n",
       "loo_ps_ind_09_bin_ps_car_08_cat    0\n",
       "loo_ps_ind_09_bin_ps_ind_04_cat    0\n",
       "loo_ps_ind_18_bin_ps_ind_05_cat    0\n",
       "loo_ps_ind_18_bin_ps_car_01_cat    0\n",
       "loo_ps_ind_18_bin_ps_car_07_cat    0\n",
       "loo_ps_ind_18_bin_ps_car_03_cat    0\n",
       "loo_ps_ind_18_bin_ps_car_06_cat    0\n",
       "loo_ps_ind_18_bin_ps_car_04_cat    0\n",
       "loo_ps_ind_18_bin_ps_car_09_cat    0\n",
       "loo_ps_ind_18_bin_ps_car_02_cat    0\n",
       "loo_ps_ind_18_bin_ps_ind_02_cat    0\n",
       "loo_ps_ind_18_bin_ps_car_05_cat    0\n",
       "loo_ps_ind_18_bin_ps_car_08_cat    0\n",
       "loo_ps_ind_18_bin_ps_ind_04_cat    0\n",
       "loo_ps_ind_12_bin_ps_ind_05_cat    0\n",
       "loo_ps_ind_12_bin_ps_car_01_cat    7\n",
       "loo_ps_ind_12_bin_ps_car_07_cat    0\n",
       "loo_ps_ind_12_bin_ps_car_03_cat    0\n",
       "loo_ps_ind_12_bin_ps_car_06_cat    0\n",
       "loo_ps_ind_12_bin_ps_car_04_cat    0\n",
       "loo_ps_ind_12_bin_ps_car_09_cat    0\n",
       "loo_ps_ind_12_bin_ps_car_02_cat    0\n",
       "loo_ps_ind_12_bin_ps_ind_02_cat    0\n",
       "loo_ps_ind_12_bin_ps_car_05_cat    0\n",
       "loo_ps_ind_12_bin_ps_car_08_cat    0\n",
       "loo_ps_ind_12_bin_ps_ind_04_cat    0\n",
       "Length: 227, dtype: int64"
      ]
     },
     "execution_count": 92,
     "metadata": {},
     "output_type": "execute_result"
    }
   ],
   "source": [
    "sub_df.isnull().sum()"
   ]
  },
  {
   "cell_type": "code",
   "execution_count": 93,
   "metadata": {
    "collapsed": true
   },
   "outputs": [],
   "source": [
    "sub_df.fillna(-1, inplace=True)"
   ]
  },
  {
   "cell_type": "code",
   "execution_count": 94,
   "metadata": {},
   "outputs": [],
   "source": [
    "n_splits = 5\n",
    "n_estimators = 200\n",
    "#folds = StratifiedKFold(n_splits=n_splits, shuffle=True, random_state=15) \n",
    "imp_df = np.zeros((len(trn_df.columns), n_splits))\n",
    "et_evals = np.zeros((n_estimators, n_splits))\n",
    "oof_et = np.empty(len(trn_df))\n",
    "sub_preds = np.zeros(len(sub_df))\n",
    "increase = True\n",
    "np.random.seed(0)"
   ]
  },
  {
   "cell_type": "code",
   "execution_count": 95,
   "metadata": {
    "collapsed": true
   },
   "outputs": [],
   "source": [
    "tgt = df['y']"
   ]
  },
  {
   "cell_type": "code",
   "execution_count": 96,
   "metadata": {
    "collapsed": true
   },
   "outputs": [],
   "source": [
    "wts = [0.947635485 if x==1 else 0.03644752 for x in target]"
   ]
  },
  {
   "cell_type": "code",
   "execution_count": 98,
   "metadata": {},
   "outputs": [
    {
     "name": "stdout",
     "output_type": "stream",
     "text": [
      "26.436992221261885\n",
      "Fold  1 : 0.251975 @ 200 \n",
      "26.436992221261885\n",
      "Fold  2 : 0.255520 @ 200 \n",
      "26.436992221261885\n",
      "Fold  3 : 0.259327 @ 200 \n",
      "26.437049841544223\n",
      "Fold  4 : 0.258872 @ 200 \n",
      "26.435526619036644\n",
      "Fold  5 : 0.252099 @ 200 \n"
     ]
    }
   ],
   "source": [
    "for fold_ in range(len(idx_info)):\n",
    "    l = idx_info[fold_]\n",
    "    trn_idx = l[0]\n",
    "    val_idx = l[1]\n",
    "    trn_dat, trn_tgt = trn_df.iloc[trn_idx], tgt.iloc[trn_idx]\n",
    "    val_dat, val_tgt = trn_df.iloc[val_idx], tgt.iloc[val_idx]\n",
    "    \n",
    "    #wts = [0.947635485 if x==1 else 0.03644752 for x in trn_tgt]\n",
    "    pos = sum(trn_tgt==0)/sum(trn_tgt==1)\n",
    "    wts = [pos if x==1 else 1 for x in trn_tgt]\n",
    "    print(pos)\n",
    "    \n",
    "    clf = ExtraTreesClassifier(random_state=1337, n_estimators=200,\n",
    "                              max_features='auto', criterion='gini')\n",
    "    clf.fit(trn_dat, trn_tgt, sample_weight=wts)\n",
    "    \n",
    "    # Predict OOF and submission probas with the best round\n",
    "    oof_et[val_idx] = clf.predict_proba(val_dat)[:, 1]\n",
    "    # Update submission\n",
    "    \n",
    "    sub_preds += clf.predict_proba(sub_df)[:, 1] / n_splits\n",
    "    \n",
    "    # Display results\n",
    "    print(\"Fold %2d : %.6f @%4d \"\n",
    "          % (fold_ + 1,\n",
    "             eval_gini(val_tgt, oof_et[val_idx]),\n",
    "             n_estimators\n",
    "             ))"
   ]
  },
  {
   "cell_type": "code",
   "execution_count": 102,
   "metadata": {},
   "outputs": [
    {
     "data": {
      "text/plain": [
       "0.2555586"
      ]
     },
     "execution_count": 102,
     "metadata": {},
     "output_type": "execute_result"
    }
   ],
   "source": []
  },
  {
   "cell_type": "code",
   "execution_count": 99,
   "metadata": {},
   "outputs": [],
   "source": [
    "np.save('../cache/oof_et', oof_et)"
   ]
  },
  {
   "cell_type": "code",
   "execution_count": 100,
   "metadata": {},
   "outputs": [],
   "source": [
    "now = datetime.now().strftime('%Y_%m_%d_%H_%M_%S')\n",
    "fn = '../cache/model.et.{}'.format(now)\n",
    "with open(fn, 'wb') as f:\n",
    "    pickle.dump(clf, f)"
   ]
  },
  {
   "cell_type": "code",
   "execution_count": 101,
   "metadata": {
    "collapsed": true
   },
   "outputs": [],
   "source": [
    "sub_preds = np.clip(sub_preds, a_min=0.05, a_max=0.95)\n",
    "sub_df[\"target\"] = sub_preds\n",
    "now = datetime.now().strftime('%Y_%m_%d_%H_%M_%S')\n",
    "fn = '../submissions/sub.et.{}'.format(now)\n",
    "sub_df[[\"target\"]].to_csv(fn, index=True, float_format=\"%.9f\")"
   ]
  },
  {
   "cell_type": "code",
   "execution_count": 103,
   "metadata": {},
   "outputs": [
    {
     "data": {
      "text/plain": [
       "0.2555586"
      ]
     },
     "execution_count": 103,
     "metadata": {},
     "output_type": "execute_result"
    }
   ],
   "source": [
    "# take averages of val scores here\n",
    "(0.251975 + \n",
    "0.255520 +\n",
    "0.259327 + \n",
    "0.258872 +\n",
    "0.252099)/5."
   ]
  },
  {
   "cell_type": "code",
   "execution_count": 104,
   "metadata": {},
   "outputs": [
    {
     "name": "stdout",
     "output_type": "stream",
     "text": [
      "(892816, 227)\n"
     ]
    }
   ],
   "source": [
    "n_splits = 5\n",
    "n_estimators = 200\n",
    "#folds = StratifiedKFold(n_splits=n_splits, shuffle=True, random_state=15) \n",
    "imp_df = np.zeros((len(trn_df.columns), n_splits))\n",
    "et_evals = np.zeros((n_estimators, n_splits))\n",
    "oof_et = np.empty(len(trn_df))\n",
    "sub_preds = np.zeros(len(sub_df))\n",
    "np.random.seed(0)\n",
    "sub_df = feather.read_dataframe('../cache/sub_df.feather')\n",
    "sub_df = sub_df[trn_df.columns]\n",
    "sub_df.fillna(-1, inplace=True)\n",
    "print(sub_df.shape)"
   ]
  },
  {
   "cell_type": "code",
   "execution_count": 105,
   "metadata": {},
   "outputs": [
    {
     "name": "stdout",
     "output_type": "stream",
     "text": [
      "Fold  1 : 0.227593 @ 200 \n",
      "Fold  2 : 0.240041 @ 200 \n",
      "Fold  3 : 0.242561 @ 200 \n",
      "Fold  4 : 0.242370 @ 200 \n",
      "Fold  5 : 0.227618 @ 200 \n"
     ]
    }
   ],
   "source": [
    "for fold_ in range(len(idx_info)):\n",
    "    l = idx_info[fold_]\n",
    "    trn_idx = l[0]\n",
    "    val_idx = l[1]\n",
    "    trn_dat, trn_tgt = trn_df.iloc[trn_idx], tgt.iloc[trn_idx]\n",
    "    val_dat, val_tgt = trn_df.iloc[val_idx], tgt.iloc[val_idx]\n",
    "    \n",
    "    pos = sum(trn_tgt==0)/sum(trn_tgt==1)\n",
    "    wts = [pos if x==1 else 1 for x in trn_tgt]\n",
    "    clf = ExtraTreesClassifier(random_state=1337, n_estimators=200, class_weight={0:1, 1:pos},\n",
    "                              max_features='auto', criterion='gini')\n",
    "    clf.fit(trn_dat, trn_tgt, sample_weight=wts)\n",
    "    \n",
    "    # Predict OOF and submission probas with the best round\n",
    "    oof_et[val_idx] = clf.predict_proba(val_dat)[:, 1]\n",
    "    # Update submission\n",
    "    \n",
    "    sub_preds += clf.predict_proba(sub_df)[:, 1] / n_splits\n",
    "    \n",
    "    # Display results\n",
    "    print(\"Fold %2d : %.6f @%4d \"\n",
    "          % (fold_ + 1,\n",
    "             eval_gini(val_tgt, oof_et[val_idx]),\n",
    "             n_estimators\n",
    "             ))"
   ]
  },
  {
   "cell_type": "code",
   "execution_count": 106,
   "metadata": {},
   "outputs": [
    {
     "name": "stdout",
     "output_type": "stream",
     "text": [
      "(892816, 227)\n"
     ]
    }
   ],
   "source": [
    "n_splits = 5\n",
    "n_estimators = 200\n",
    "#folds = StratifiedKFold(n_splits=n_splits, shuffle=True, random_state=15) \n",
    "imp_df = np.zeros((len(trn_df.columns), n_splits))\n",
    "et_evals = np.zeros((n_estimators, n_splits))\n",
    "oof_et = np.empty(len(trn_df))\n",
    "sub_preds = np.zeros(len(sub_df))\n",
    "np.random.seed(0)\n",
    "sub_df = feather.read_dataframe('../cache/sub_df.feather')\n",
    "sub_df = sub_df[trn_df.columns]\n",
    "sub_df.fillna(-1, inplace=True)\n",
    "print(sub_df.shape)"
   ]
  },
  {
   "cell_type": "code",
   "execution_count": 107,
   "metadata": {},
   "outputs": [
    {
     "name": "stdout",
     "output_type": "stream",
     "text": [
      "Fold  1 : 0.251975 @ 200 \n",
      "Fold  2 : 0.255520 @ 200 \n",
      "Fold  3 : 0.259327 @ 200 \n",
      "Fold  4 : 0.258872 @ 200 \n",
      "Fold  5 : 0.252099 @ 200 \n"
     ]
    }
   ],
   "source": [
    "for fold_ in range(len(idx_info)):\n",
    "    l = idx_info[fold_]\n",
    "    trn_idx = l[0]\n",
    "    val_idx = l[1]\n",
    "    trn_dat, trn_tgt = trn_df.iloc[trn_idx], tgt.iloc[trn_idx]\n",
    "    val_dat, val_tgt = trn_df.iloc[val_idx], tgt.iloc[val_idx]\n",
    "    \n",
    "    pos = sum(trn_tgt==0)/sum(trn_tgt==1)\n",
    "    wts = [pos if x==1 else 1 for x in trn_tgt]\n",
    "    clf = ExtraTreesClassifier(random_state=1337, n_estimators=200, class_weight={0:1, 1:pos},\n",
    "                              max_features='auto', criterion='gini')\n",
    "    clf.fit(trn_dat, trn_tgt)\n",
    "    \n",
    "    # Predict OOF and submission probas with the best round\n",
    "    oof_et[val_idx] = clf.predict_proba(val_dat)[:, 1]\n",
    "    # Update submission\n",
    "    \n",
    "    sub_preds += clf.predict_proba(sub_df)[:, 1] / n_splits\n",
    "    \n",
    "    # Display results\n",
    "    print(\"Fold %2d : %.6f @%4d \"\n",
    "          % (fold_ + 1,\n",
    "             eval_gini(val_tgt, oof_et[val_idx]),\n",
    "             n_estimators\n",
    "             ))"
   ]
  },
  {
   "cell_type": "code",
   "execution_count": 113,
   "metadata": {
    "collapsed": true
   },
   "outputs": [],
   "source": [
    "np.save('../cache/oof_et', oof_et)\n",
    "now = datetime.now().strftime('%Y_%m_%d_%H_%M_%S')\n",
    "fn = '../cache/model.et.{}'.format(now)\n",
    "with open(fn, 'wb') as f:\n",
    "    pickle.dump(clf, f)"
   ]
  },
  {
   "cell_type": "code",
   "execution_count": 109,
   "metadata": {
    "collapsed": true
   },
   "outputs": [],
   "source": [
    "df = pd.read_csv('../cache/test_id.csv')"
   ]
  },
  {
   "cell_type": "code",
   "execution_count": 110,
   "metadata": {},
   "outputs": [
    {
     "data": {
      "text/html": [
       "<div>\n",
       "<style scoped>\n",
       "    .dataframe tbody tr th:only-of-type {\n",
       "        vertical-align: middle;\n",
       "    }\n",
       "\n",
       "    .dataframe tbody tr th {\n",
       "        vertical-align: top;\n",
       "    }\n",
       "\n",
       "    .dataframe thead th {\n",
       "        text-align: right;\n",
       "    }\n",
       "</style>\n",
       "<table border=\"1\" class=\"dataframe\">\n",
       "  <thead>\n",
       "    <tr style=\"text-align: right;\">\n",
       "      <th></th>\n",
       "      <th>id</th>\n",
       "    </tr>\n",
       "  </thead>\n",
       "  <tbody>\n",
       "    <tr>\n",
       "      <th>0</th>\n",
       "      <td>0</td>\n",
       "    </tr>\n",
       "    <tr>\n",
       "      <th>1</th>\n",
       "      <td>1</td>\n",
       "    </tr>\n",
       "    <tr>\n",
       "      <th>2</th>\n",
       "      <td>2</td>\n",
       "    </tr>\n",
       "    <tr>\n",
       "      <th>3</th>\n",
       "      <td>3</td>\n",
       "    </tr>\n",
       "    <tr>\n",
       "      <th>4</th>\n",
       "      <td>4</td>\n",
       "    </tr>\n",
       "  </tbody>\n",
       "</table>\n",
       "</div>"
      ],
      "text/plain": [
       "   id\n",
       "0   0\n",
       "1   1\n",
       "2   2\n",
       "3   3\n",
       "4   4"
      ]
     },
     "execution_count": 110,
     "metadata": {},
     "output_type": "execute_result"
    }
   ],
   "source": [
    "df.head()"
   ]
  },
  {
   "cell_type": "code",
   "execution_count": 112,
   "metadata": {},
   "outputs": [],
   "source": [
    "sub_preds = np.clip(sub_preds, a_min=0.05, a_max=0.95)\n",
    "sub_df[\"target\"] = sub_preds\n",
    "sub_df['id'] = df['id'].values\n",
    "now = datetime.now().strftime('%Y_%m_%d_%H_%M_%S')\n",
    "fn = '../submissions/sub.et.{}'.format(now)\n",
    "sub_df[['id', 'target']].to_csv(fn, index=False, float_format=\"%.9f\")"
   ]
  },
  {
   "cell_type": "code",
   "execution_count": null,
   "metadata": {
    "collapsed": true
   },
   "outputs": [],
   "source": []
  }
 ],
 "metadata": {
  "kernelspec": {
   "display_name": "sdp35",
   "language": "python",
   "name": "sdp35"
  },
  "language_info": {
   "codemirror_mode": {
    "name": "ipython",
    "version": 3
   },
   "file_extension": ".py",
   "mimetype": "text/x-python",
   "name": "python",
   "nbconvert_exporter": "python",
   "pygments_lexer": "ipython3",
   "version": "3.5.4"
  }
 },
 "nbformat": 4,
 "nbformat_minor": 2
}
