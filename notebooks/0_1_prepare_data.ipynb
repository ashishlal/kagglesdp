{
 "cells": [
  {
   "cell_type": "code",
   "execution_count": 1,
   "metadata": {
    "collapsed": true
   },
   "outputs": [],
   "source": [
    "import numpy as np\n",
    "import pandas as pd\n",
    "# from xgboost import XGBClassifier\n",
    "# from sklearn.model_selection import train_test_split\n",
    "# from sklearn.model_selection import KFold\n",
    "from sklearn.preprocessing import LabelEncoder\n",
    "from numba import jit\n",
    "import time\n",
    "import gc"
   ]
  },
  {
   "cell_type": "code",
   "execution_count": 2,
   "metadata": {
    "collapsed": true
   },
   "outputs": [],
   "source": [
    "# Compute gini\n",
    "\n",
    "# from CPMP's kernel https://www.kaggle.com/cpmpml/extremely-fast-gini-computation\n",
    "@jit\n",
    "def eval_gini(y_true, y_prob):\n",
    "    y_true = np.asarray(y_true)\n",
    "    y_true = y_true[np.argsort(y_prob)]\n",
    "    ntrue = 0\n",
    "    gini = 0\n",
    "    delta = 0\n",
    "    n = len(y_true)\n",
    "    for i in range(n-1, -1, -1):\n",
    "        y_i = y_true[i]\n",
    "        ntrue += y_i\n",
    "        gini += y_i * delta\n",
    "        delta += 1 - y_i\n",
    "    gini = 1 - 2 * gini / (ntrue * (n - ntrue))\n",
    "    return gini"
   ]
  },
  {
   "cell_type": "code",
   "execution_count": 3,
   "metadata": {
    "collapsed": true
   },
   "outputs": [],
   "source": [
    "# Funcitons from olivier's kernel\n",
    "# https://www.kaggle.com/ogrellier/xgb-classifier-upsampling-lb-0-283\n",
    "\n",
    "def gini_xgb(preds, dtrain):\n",
    "    labels = dtrain.get_label()\n",
    "    gini_score = -eval_gini(labels, preds)\n",
    "    return [('gini', gini_score)]\n",
    "\n",
    "\n",
    "def add_noise(series, noise_level):\n",
    "    return series * (1 + noise_level * np.random.randn(len(series)))\n"
   ]
  },
  {
   "cell_type": "code",
   "execution_count": 4,
   "metadata": {
    "collapsed": true
   },
   "outputs": [],
   "source": [
    "def target_encode(trn_series=None,    # Revised to encode validation series\n",
    "                  val_series=None,\n",
    "                  tst_series=None,\n",
    "                  target=None,\n",
    "                  min_samples_leaf=1,\n",
    "                  smoothing=1,\n",
    "                  noise_level=0):\n",
    "    \"\"\"\n",
    "    Smoothing is computed like in the following paper by Daniele Micci-Barreca\n",
    "    https://kaggle2.blob.core.windows.net/forum-message-attachments/225952/7441/high%20cardinality%20categoricals.pdf\n",
    "    trn_series : training categorical feature as a pd.Series\n",
    "    tst_series : test categorical feature as a pd.Series\n",
    "    target : target data as a pd.Series\n",
    "    min_samples_leaf (int) : minimum samples to take category average into account\n",
    "    smoothing (int) : smoothing effect to balance categorical average vs prior\n",
    "    \"\"\"\n",
    "    assert len(trn_series) == len(target)\n",
    "    assert trn_series.name == tst_series.name\n",
    "    temp = pd.concat([trn_series, target], axis=1)\n",
    "    # Compute target mean\n",
    "    averages = temp.groupby(by=trn_series.name)[target.name].agg([\"mean\", \"count\"])\n",
    "    # Compute smoothing\n",
    "    smoothing = 1 / (1 + np.exp(-(averages[\"count\"] - min_samples_leaf) / smoothing))\n",
    "    # Apply average function to all target data\n",
    "    prior = target.mean()\n",
    "    # The bigger the count the less full_avg is taken into account\n",
    "    averages[target.name] = prior * (1 - smoothing) + averages[\"mean\"] * smoothing\n",
    "    averages.drop([\"mean\", \"count\"], axis=1, inplace=True)\n",
    "    # Apply averages to trn and tst series\n",
    "    ft_trn_series = pd.merge(\n",
    "        trn_series.to_frame(trn_series.name),\n",
    "        averages.reset_index().rename(columns={'index': target.name, target.name: 'average'}),\n",
    "        on=trn_series.name,\n",
    "        how='left')['average'].rename(trn_series.name + '_mean').fillna(prior)\n",
    "    # pd.merge does not keep the index so restore it\n",
    "    ft_trn_series.index = trn_series.index\n",
    "    ft_val_series = pd.merge(\n",
    "        val_series.to_frame(val_series.name),\n",
    "        averages.reset_index().rename(columns={'index': target.name, target.name: 'average'}),\n",
    "        on=val_series.name,\n",
    "        how='left')['average'].rename(trn_series.name + '_mean').fillna(prior)\n",
    "    # pd.merge does not keep the index so restore it\n",
    "    ft_val_series.index = val_series.index\n",
    "    ft_tst_series = pd.merge(\n",
    "        tst_series.to_frame(tst_series.name),\n",
    "        averages.reset_index().rename(columns={'index': target.name, target.name: 'average'}),\n",
    "        on=tst_series.name,\n",
    "        how='left')['average'].rename(trn_series.name + '_mean').fillna(prior)\n",
    "    # pd.merge does not keep the index so restore it\n",
    "    ft_tst_series.index = tst_series.index\n",
    "    return add_noise(ft_trn_series, noise_level), add_noise(ft_val_series, noise_level), add_noise(ft_tst_series, noise_level)\n"
   ]
  },
  {
   "cell_type": "code",
   "execution_count": 5,
   "metadata": {
    "collapsed": true
   },
   "outputs": [],
   "source": [
    "# Read data\n",
    "train_df = pd.read_csv('../data/train.csv', na_values=\"-1\") # .iloc[0:200,:]\n",
    "test_df = pd.read_csv('../data/test.csv', na_values=\"-1\")"
   ]
  },
  {
   "cell_type": "code",
   "execution_count": 6,
   "metadata": {},
   "outputs": [
    {
     "data": {
      "text/plain": [
       "(595212, 59)"
      ]
     },
     "execution_count": 6,
     "metadata": {},
     "output_type": "execute_result"
    }
   ],
   "source": [
    "train_df.shape"
   ]
  },
  {
   "cell_type": "code",
   "execution_count": 7,
   "metadata": {
    "collapsed": true
   },
   "outputs": [],
   "source": [
    "# from olivier\n",
    "train_features = [\n",
    "    \"ps_car_13\",  #            : 1571.65 / shadow  609.23\n",
    "    \"ps_reg_03\",  #            : 1408.42 / shadow  511.15\n",
    "    \"ps_ind_05_cat\",  #        : 1387.87 / shadow   84.72\n",
    "    \"ps_ind_03\",  #            : 1219.47 / shadow  230.55\n",
    "    \"ps_ind_15\",  #            :  922.18 / shadow  242.00\n",
    "    \"ps_reg_02\",  #            :  920.65 / shadow  267.50\n",
    "    \"ps_car_14\",  #            :  798.48 / shadow  549.58\n",
    "    \"ps_car_12\",  #            :  731.93 / shadow  293.62\n",
    "    \"ps_car_01_cat\",  #        :  698.07 / shadow  178.72\n",
    "    \"ps_car_07_cat\",  #        :  694.53 / shadow   36.35\n",
    "    \"ps_ind_17_bin\",  #        :  620.77 / shadow   23.15\n",
    "    \"ps_car_03_cat\",  #        :  611.73 / shadow   50.67\n",
    "    \"ps_reg_01\",  #            :  598.60 / shadow  178.57\n",
    "    \"ps_car_15\",  #            :  593.35 / shadow  226.43\n",
    "    \"ps_ind_01\",  #            :  547.32 / shadow  154.58\n",
    "    \"ps_ind_16_bin\",  #        :  475.37 / shadow   34.17\n",
    "    \"ps_ind_07_bin\",  #        :  435.28 / shadow   28.92\n",
    "    \"ps_car_06_cat\",  #        :  398.02 / shadow  212.43\n",
    "    \"ps_car_04_cat\",  #        :  376.87 / shadow   76.98\n",
    "    \"ps_ind_06_bin\",  #        :  370.97 / shadow   36.13\n",
    "    \"ps_car_09_cat\",  #        :  214.12 / shadow   81.38\n",
    "    \"ps_car_02_cat\",  #        :  203.03 / shadow   26.67\n",
    "    \"ps_ind_02_cat\",  #        :  189.47 / shadow   65.68\n",
    "    \"ps_car_11\",  #            :  173.28 / shadow   76.45\n",
    "    \"ps_car_05_cat\",  #        :  172.75 / shadow   62.92\n",
    "    \"ps_calc_09\",  #           :  169.13 / shadow  129.72\n",
    "    \"ps_calc_05\",  #           :  148.83 / shadow  120.68\n",
    "    \"ps_ind_08_bin\",  #        :  140.73 / shadow   27.63\n",
    "    \"ps_car_08_cat\",  #        :  120.87 / shadow   28.82\n",
    "    \"ps_ind_09_bin\",  #        :  113.92 / shadow   27.05\n",
    "    \"ps_ind_04_cat\",  #        :  107.27 / shadow   37.43\n",
    "    \"ps_ind_18_bin\",  #        :   77.42 / shadow   25.97\n",
    "    \"ps_ind_12_bin\",  #        :   39.67 / shadow   15.52\n",
    "    \"ps_ind_14\",  #            :   37.37 / shadow   16.65\n",
    "]\n",
    "# add combinations\n",
    "combs = [\n",
    "    ('ps_reg_01', 'ps_car_02_cat'),  \n",
    "    ('ps_reg_01', 'ps_car_04_cat'),\n",
    "]\n"
   ]
  },
  {
   "cell_type": "code",
   "execution_count": 8,
   "metadata": {
    "collapsed": true
   },
   "outputs": [],
   "source": [
    "# Process data\n",
    "id_test = test_df['id'].values\n",
    "id_train = train_df['id'].values\n",
    "y = train_df['target']"
   ]
  },
  {
   "cell_type": "code",
   "execution_count": 9,
   "metadata": {
    "collapsed": true
   },
   "outputs": [],
   "source": [
    "df = pd.DataFrame()\n",
    "df['id'] = test_df['id'].values\n",
    "df.to_csv('../cache/test_id.csv', index=False)"
   ]
  },
  {
   "cell_type": "code",
   "execution_count": 10,
   "metadata": {
    "collapsed": true
   },
   "outputs": [],
   "source": [
    "df = pd.DataFrame()\n",
    "df['id'] = train_df['id'].values\n",
    "df.to_csv('../cache/train_id.csv', index=False)"
   ]
  },
  {
   "cell_type": "code",
   "execution_count": 11,
   "metadata": {
    "collapsed": true
   },
   "outputs": [],
   "source": [
    "df = pd.DataFrame()\n",
    "df['y'] = train_df['target'].values\n",
    "df.to_csv('../cache/train_labels.csv', index=False)"
   ]
  },
  {
   "cell_type": "code",
   "execution_count": 12,
   "metadata": {},
   "outputs": [
    {
     "name": "stdout",
     "output_type": "stream",
     "text": [
      "current feature                                 ps_reg_01_plus_ps_car_04_cat    2 in   0.1"
     ]
    }
   ],
   "source": [
    "start = time.time()\n",
    "for n_c, (f1, f2) in enumerate(combs):\n",
    "    name1 = f1 + \"_plus_\" + f2\n",
    "    print('current feature %60s %4d in %5.1f'\n",
    "          % (name1, n_c + 1, (time.time() - start) / 60), end='')\n",
    "    print('\\r' * 75, end='')\n",
    "    train_df[name1] = train_df[f1].apply(lambda x: str(x)) + \"_\" + train_df[f2].apply(lambda x: str(x))\n",
    "    test_df[name1] = test_df[f1].apply(lambda x: str(x)) + \"_\" + test_df[f2].apply(lambda x: str(x))\n",
    "    # Label Encode\n",
    "    lbl = LabelEncoder()\n",
    "    lbl.fit(list(train_df[name1].values) + list(test_df[name1].values))\n",
    "    train_df[name1] = lbl.transform(list(train_df[name1].values))\n",
    "    test_df[name1] = lbl.transform(list(test_df[name1].values))\n",
    "\n",
    "    train_features.append(name1)"
   ]
  },
  {
   "cell_type": "code",
   "execution_count": 13,
   "metadata": {},
   "outputs": [
    {
     "data": {
      "text/plain": [
       "['ps_car_13',\n",
       " 'ps_reg_03',\n",
       " 'ps_ind_05_cat',\n",
       " 'ps_ind_03',\n",
       " 'ps_ind_15',\n",
       " 'ps_reg_02',\n",
       " 'ps_car_14',\n",
       " 'ps_car_12',\n",
       " 'ps_car_01_cat',\n",
       " 'ps_car_07_cat',\n",
       " 'ps_ind_17_bin',\n",
       " 'ps_car_03_cat',\n",
       " 'ps_reg_01',\n",
       " 'ps_car_15',\n",
       " 'ps_ind_01',\n",
       " 'ps_ind_16_bin',\n",
       " 'ps_ind_07_bin',\n",
       " 'ps_car_06_cat',\n",
       " 'ps_car_04_cat',\n",
       " 'ps_ind_06_bin',\n",
       " 'ps_car_09_cat',\n",
       " 'ps_car_02_cat',\n",
       " 'ps_ind_02_cat',\n",
       " 'ps_car_11',\n",
       " 'ps_car_05_cat',\n",
       " 'ps_calc_09',\n",
       " 'ps_calc_05',\n",
       " 'ps_ind_08_bin',\n",
       " 'ps_car_08_cat',\n",
       " 'ps_ind_09_bin',\n",
       " 'ps_ind_04_cat',\n",
       " 'ps_ind_18_bin',\n",
       " 'ps_ind_12_bin',\n",
       " 'ps_ind_14',\n",
       " 'ps_reg_01_plus_ps_car_02_cat',\n",
       " 'ps_reg_01_plus_ps_car_04_cat']"
      ]
     },
     "execution_count": 13,
     "metadata": {},
     "output_type": "execute_result"
    }
   ],
   "source": [
    "train_features"
   ]
  },
  {
   "cell_type": "code",
   "execution_count": 14,
   "metadata": {},
   "outputs": [
    {
     "data": {
      "text/plain": [
       "36"
      ]
     },
     "execution_count": 14,
     "metadata": {},
     "output_type": "execute_result"
    }
   ],
   "source": [
    "len(train_features)"
   ]
  },
  {
   "cell_type": "code",
   "execution_count": 15,
   "metadata": {
    "collapsed": true
   },
   "outputs": [],
   "source": [
    "X = train_df[train_features]"
   ]
  },
  {
   "cell_type": "code",
   "execution_count": 16,
   "metadata": {},
   "outputs": [
    {
     "data": {
      "text/plain": [
       "(595212, 36)"
      ]
     },
     "execution_count": 16,
     "metadata": {},
     "output_type": "execute_result"
    }
   ],
   "source": [
    "X.shape"
   ]
  },
  {
   "cell_type": "code",
   "execution_count": 17,
   "metadata": {},
   "outputs": [
    {
     "name": "stderr",
     "output_type": "stream",
     "text": [
      "/home/watts/anaconda2/envs/sdp/lib/python3.6/site-packages/ipykernel_launcher.py:1: SettingWithCopyWarning: \n",
      "A value is trying to be set on a copy of a slice from a DataFrame.\n",
      "Try using .loc[row_indexer,col_indexer] = value instead\n",
      "\n",
      "See the caveats in the documentation: http://pandas.pydata.org/pandas-docs/stable/indexing.html#indexing-view-versus-copy\n",
      "  \"\"\"Entry point for launching an IPython kernel.\n"
     ]
    }
   ],
   "source": [
    "X['id'] = id_train"
   ]
  },
  {
   "cell_type": "code",
   "execution_count": 18,
   "metadata": {},
   "outputs": [
    {
     "name": "stderr",
     "output_type": "stream",
     "text": [
      "/home/watts/anaconda2/envs/sdp/lib/python3.6/site-packages/ipykernel_launcher.py:1: SettingWithCopyWarning: \n",
      "A value is trying to be set on a copy of a slice from a DataFrame.\n",
      "Try using .loc[row_indexer,col_indexer] = value instead\n",
      "\n",
      "See the caveats in the documentation: http://pandas.pydata.org/pandas-docs/stable/indexing.html#indexing-view-versus-copy\n",
      "  \"\"\"Entry point for launching an IPython kernel.\n"
     ]
    }
   ],
   "source": [
    "X['target'] = train_df['target'].values"
   ]
  },
  {
   "cell_type": "code",
   "execution_count": 19,
   "metadata": {},
   "outputs": [
    {
     "data": {
      "text/html": [
       "<div>\n",
       "<style>\n",
       "    .dataframe thead tr:only-child th {\n",
       "        text-align: right;\n",
       "    }\n",
       "\n",
       "    .dataframe thead th {\n",
       "        text-align: left;\n",
       "    }\n",
       "\n",
       "    .dataframe tbody tr th {\n",
       "        vertical-align: top;\n",
       "    }\n",
       "</style>\n",
       "<table border=\"1\" class=\"dataframe\">\n",
       "  <thead>\n",
       "    <tr style=\"text-align: right;\">\n",
       "      <th></th>\n",
       "      <th>ps_car_13</th>\n",
       "      <th>ps_reg_03</th>\n",
       "      <th>ps_ind_05_cat</th>\n",
       "      <th>ps_ind_03</th>\n",
       "      <th>ps_ind_15</th>\n",
       "      <th>ps_reg_02</th>\n",
       "      <th>ps_car_14</th>\n",
       "      <th>ps_car_12</th>\n",
       "      <th>ps_car_01_cat</th>\n",
       "      <th>ps_car_07_cat</th>\n",
       "      <th>...</th>\n",
       "      <th>ps_car_08_cat</th>\n",
       "      <th>ps_ind_09_bin</th>\n",
       "      <th>ps_ind_04_cat</th>\n",
       "      <th>ps_ind_18_bin</th>\n",
       "      <th>ps_ind_12_bin</th>\n",
       "      <th>ps_ind_14</th>\n",
       "      <th>ps_reg_01_plus_ps_car_02_cat</th>\n",
       "      <th>ps_reg_01_plus_ps_car_04_cat</th>\n",
       "      <th>id</th>\n",
       "      <th>target</th>\n",
       "    </tr>\n",
       "  </thead>\n",
       "  <tbody>\n",
       "    <tr>\n",
       "      <th>0</th>\n",
       "      <td>0.883679</td>\n",
       "      <td>0.718070</td>\n",
       "      <td>0.0</td>\n",
       "      <td>5</td>\n",
       "      <td>11</td>\n",
       "      <td>0.2</td>\n",
       "      <td>0.370810</td>\n",
       "      <td>0.400000</td>\n",
       "      <td>10.0</td>\n",
       "      <td>1.0</td>\n",
       "      <td>...</td>\n",
       "      <td>0</td>\n",
       "      <td>0</td>\n",
       "      <td>1.0</td>\n",
       "      <td>0</td>\n",
       "      <td>0</td>\n",
       "      <td>0</td>\n",
       "      <td>19</td>\n",
       "      <td>70</td>\n",
       "      <td>7</td>\n",
       "      <td>0</td>\n",
       "    </tr>\n",
       "    <tr>\n",
       "      <th>1</th>\n",
       "      <td>0.618817</td>\n",
       "      <td>0.766078</td>\n",
       "      <td>0.0</td>\n",
       "      <td>7</td>\n",
       "      <td>3</td>\n",
       "      <td>0.4</td>\n",
       "      <td>0.388716</td>\n",
       "      <td>0.316228</td>\n",
       "      <td>11.0</td>\n",
       "      <td>1.0</td>\n",
       "      <td>...</td>\n",
       "      <td>1</td>\n",
       "      <td>0</td>\n",
       "      <td>0.0</td>\n",
       "      <td>1</td>\n",
       "      <td>0</td>\n",
       "      <td>0</td>\n",
       "      <td>21</td>\n",
       "      <td>80</td>\n",
       "      <td>9</td>\n",
       "      <td>0</td>\n",
       "    </tr>\n",
       "    <tr>\n",
       "      <th>2</th>\n",
       "      <td>0.641586</td>\n",
       "      <td>NaN</td>\n",
       "      <td>0.0</td>\n",
       "      <td>9</td>\n",
       "      <td>12</td>\n",
       "      <td>0.0</td>\n",
       "      <td>0.347275</td>\n",
       "      <td>0.316228</td>\n",
       "      <td>7.0</td>\n",
       "      <td>1.0</td>\n",
       "      <td>...</td>\n",
       "      <td>1</td>\n",
       "      <td>0</td>\n",
       "      <td>1.0</td>\n",
       "      <td>0</td>\n",
       "      <td>0</td>\n",
       "      <td>0</td>\n",
       "      <td>1</td>\n",
       "      <td>0</td>\n",
       "      <td>13</td>\n",
       "      <td>0</td>\n",
       "    </tr>\n",
       "    <tr>\n",
       "      <th>3</th>\n",
       "      <td>0.542949</td>\n",
       "      <td>0.580948</td>\n",
       "      <td>0.0</td>\n",
       "      <td>2</td>\n",
       "      <td>8</td>\n",
       "      <td>0.2</td>\n",
       "      <td>0.294958</td>\n",
       "      <td>0.374166</td>\n",
       "      <td>7.0</td>\n",
       "      <td>1.0</td>\n",
       "      <td>...</td>\n",
       "      <td>1</td>\n",
       "      <td>0</td>\n",
       "      <td>0.0</td>\n",
       "      <td>0</td>\n",
       "      <td>0</td>\n",
       "      <td>0</td>\n",
       "      <td>23</td>\n",
       "      <td>90</td>\n",
       "      <td>16</td>\n",
       "      <td>0</td>\n",
       "    </tr>\n",
       "    <tr>\n",
       "      <th>4</th>\n",
       "      <td>0.565832</td>\n",
       "      <td>0.840759</td>\n",
       "      <td>0.0</td>\n",
       "      <td>0</td>\n",
       "      <td>9</td>\n",
       "      <td>0.6</td>\n",
       "      <td>0.365103</td>\n",
       "      <td>0.316070</td>\n",
       "      <td>11.0</td>\n",
       "      <td>1.0</td>\n",
       "      <td>...</td>\n",
       "      <td>1</td>\n",
       "      <td>0</td>\n",
       "      <td>1.0</td>\n",
       "      <td>0</td>\n",
       "      <td>0</td>\n",
       "      <td>0</td>\n",
       "      <td>19</td>\n",
       "      <td>70</td>\n",
       "      <td>17</td>\n",
       "      <td>0</td>\n",
       "    </tr>\n",
       "  </tbody>\n",
       "</table>\n",
       "<p>5 rows × 38 columns</p>\n",
       "</div>"
      ],
      "text/plain": [
       "   ps_car_13  ps_reg_03  ps_ind_05_cat  ps_ind_03  ps_ind_15  ps_reg_02  \\\n",
       "0   0.883679   0.718070            0.0          5         11        0.2   \n",
       "1   0.618817   0.766078            0.0          7          3        0.4   \n",
       "2   0.641586        NaN            0.0          9         12        0.0   \n",
       "3   0.542949   0.580948            0.0          2          8        0.2   \n",
       "4   0.565832   0.840759            0.0          0          9        0.6   \n",
       "\n",
       "   ps_car_14  ps_car_12  ps_car_01_cat  ps_car_07_cat   ...    ps_car_08_cat  \\\n",
       "0   0.370810   0.400000           10.0            1.0   ...                0   \n",
       "1   0.388716   0.316228           11.0            1.0   ...                1   \n",
       "2   0.347275   0.316228            7.0            1.0   ...                1   \n",
       "3   0.294958   0.374166            7.0            1.0   ...                1   \n",
       "4   0.365103   0.316070           11.0            1.0   ...                1   \n",
       "\n",
       "   ps_ind_09_bin  ps_ind_04_cat  ps_ind_18_bin  ps_ind_12_bin  ps_ind_14  \\\n",
       "0              0            1.0              0              0          0   \n",
       "1              0            0.0              1              0          0   \n",
       "2              0            1.0              0              0          0   \n",
       "3              0            0.0              0              0          0   \n",
       "4              0            1.0              0              0          0   \n",
       "\n",
       "   ps_reg_01_plus_ps_car_02_cat  ps_reg_01_plus_ps_car_04_cat  id  target  \n",
       "0                            19                            70   7       0  \n",
       "1                            21                            80   9       0  \n",
       "2                             1                             0  13       0  \n",
       "3                            23                            90  16       0  \n",
       "4                            19                            70  17       0  \n",
       "\n",
       "[5 rows x 38 columns]"
      ]
     },
     "execution_count": 19,
     "metadata": {},
     "output_type": "execute_result"
    }
   ],
   "source": [
    "X.head()"
   ]
  },
  {
   "cell_type": "code",
   "execution_count": 20,
   "metadata": {
    "collapsed": true
   },
   "outputs": [],
   "source": [
    "f_cats = [f for f in X.columns if '_cat' in f]"
   ]
  },
  {
   "cell_type": "code",
   "execution_count": 21,
   "metadata": {
    "collapsed": true
   },
   "outputs": [],
   "source": [
    "# for f in f_cats:\n",
    "#     X[f] = X[f].astype('int')"
   ]
  },
  {
   "cell_type": "code",
   "execution_count": 22,
   "metadata": {},
   "outputs": [
    {
     "data": {
      "text/plain": [
       "0    573518\n",
       "1     21694\n",
       "Name: target, dtype: int64"
      ]
     },
     "execution_count": 22,
     "metadata": {},
     "output_type": "execute_result"
    }
   ],
   "source": [
    "X.target.value_counts()"
   ]
  },
  {
   "cell_type": "code",
   "execution_count": 23,
   "metadata": {
    "collapsed": true
   },
   "outputs": [],
   "source": [
    "X.to_csv('../cache/train_X.csv', index=False)"
   ]
  },
  {
   "cell_type": "code",
   "execution_count": 24,
   "metadata": {
    "collapsed": true
   },
   "outputs": [],
   "source": [
    "test_df = test_df[train_features]"
   ]
  },
  {
   "cell_type": "code",
   "execution_count": 25,
   "metadata": {
    "collapsed": true
   },
   "outputs": [],
   "source": [
    "test_df.to_csv('../cache/test_Y.csv', index=False)"
   ]
  },
  {
   "cell_type": "code",
   "execution_count": 26,
   "metadata": {
    "collapsed": true
   },
   "outputs": [],
   "source": [
    "f_cats = [f for f in X.columns if '_cat' in f]"
   ]
  },
  {
   "cell_type": "code",
   "execution_count": 27,
   "metadata": {},
   "outputs": [
    {
     "data": {
      "text/plain": [
       "['ps_ind_05_cat',\n",
       " 'ps_car_01_cat',\n",
       " 'ps_car_07_cat',\n",
       " 'ps_car_03_cat',\n",
       " 'ps_car_06_cat',\n",
       " 'ps_car_04_cat',\n",
       " 'ps_car_09_cat',\n",
       " 'ps_car_02_cat',\n",
       " 'ps_ind_02_cat',\n",
       " 'ps_car_05_cat',\n",
       " 'ps_car_08_cat',\n",
       " 'ps_ind_04_cat',\n",
       " 'ps_reg_01_plus_ps_car_02_cat',\n",
       " 'ps_reg_01_plus_ps_car_04_cat']"
      ]
     },
     "execution_count": 27,
     "metadata": {},
     "output_type": "execute_result"
    }
   ],
   "source": [
    "f_cats"
   ]
  },
  {
   "cell_type": "code",
   "execution_count": 28,
   "metadata": {
    "collapsed": true
   },
   "outputs": [],
   "source": [
    "f_bin = [f for f in X.columns if '_bin' in f]"
   ]
  },
  {
   "cell_type": "code",
   "execution_count": 29,
   "metadata": {
    "collapsed": true
   },
   "outputs": [],
   "source": [
    "f_num = [f for f in X.columns if '_cat' not in f]"
   ]
  },
  {
   "cell_type": "code",
   "execution_count": 30,
   "metadata": {},
   "outputs": [
    {
     "data": {
      "text/plain": [
       "['ps_car_13',\n",
       " 'ps_reg_03',\n",
       " 'ps_ind_03',\n",
       " 'ps_ind_15',\n",
       " 'ps_reg_02',\n",
       " 'ps_car_14',\n",
       " 'ps_car_12',\n",
       " 'ps_ind_17_bin',\n",
       " 'ps_reg_01',\n",
       " 'ps_car_15',\n",
       " 'ps_ind_01',\n",
       " 'ps_ind_16_bin',\n",
       " 'ps_ind_07_bin',\n",
       " 'ps_ind_06_bin',\n",
       " 'ps_car_11',\n",
       " 'ps_calc_09',\n",
       " 'ps_calc_05',\n",
       " 'ps_ind_08_bin',\n",
       " 'ps_ind_09_bin',\n",
       " 'ps_ind_18_bin',\n",
       " 'ps_ind_12_bin',\n",
       " 'ps_ind_14',\n",
       " 'id',\n",
       " 'target']"
      ]
     },
     "execution_count": 30,
     "metadata": {},
     "output_type": "execute_result"
    }
   ],
   "source": [
    "f_num"
   ]
  },
  {
   "cell_type": "code",
   "execution_count": 31,
   "metadata": {},
   "outputs": [
    {
     "data": {
      "text/plain": [
       "Index(['ps_car_13', 'ps_reg_03', 'ps_ind_05_cat', 'ps_ind_03', 'ps_ind_15',\n",
       "       'ps_reg_02', 'ps_car_14', 'ps_car_12', 'ps_car_01_cat', 'ps_car_07_cat',\n",
       "       'ps_ind_17_bin', 'ps_car_03_cat', 'ps_reg_01', 'ps_car_15', 'ps_ind_01',\n",
       "       'ps_ind_16_bin', 'ps_ind_07_bin', 'ps_car_06_cat', 'ps_car_04_cat',\n",
       "       'ps_ind_06_bin', 'ps_car_09_cat', 'ps_car_02_cat', 'ps_ind_02_cat',\n",
       "       'ps_car_11', 'ps_car_05_cat', 'ps_calc_09', 'ps_calc_05',\n",
       "       'ps_ind_08_bin', 'ps_car_08_cat', 'ps_ind_09_bin', 'ps_ind_04_cat',\n",
       "       'ps_ind_18_bin', 'ps_ind_12_bin', 'ps_ind_14',\n",
       "       'ps_reg_01_plus_ps_car_02_cat', 'ps_reg_01_plus_ps_car_04_cat', 'id',\n",
       "       'target'],\n",
       "      dtype='object')"
      ]
     },
     "execution_count": 31,
     "metadata": {},
     "output_type": "execute_result"
    }
   ],
   "source": [
    "X.columns"
   ]
  },
  {
   "cell_type": "code",
   "execution_count": 32,
   "metadata": {
    "collapsed": true
   },
   "outputs": [],
   "source": [
    "f_cats1 = [f for f in train_df.columns if '_cat' in f]"
   ]
  },
  {
   "cell_type": "code",
   "execution_count": 33,
   "metadata": {},
   "outputs": [
    {
     "data": {
      "text/plain": [
       "['ps_ind_02_cat',\n",
       " 'ps_ind_04_cat',\n",
       " 'ps_ind_05_cat',\n",
       " 'ps_car_01_cat',\n",
       " 'ps_car_02_cat',\n",
       " 'ps_car_03_cat',\n",
       " 'ps_car_04_cat',\n",
       " 'ps_car_05_cat',\n",
       " 'ps_car_06_cat',\n",
       " 'ps_car_07_cat',\n",
       " 'ps_car_08_cat',\n",
       " 'ps_car_09_cat',\n",
       " 'ps_car_10_cat',\n",
       " 'ps_car_11_cat',\n",
       " 'ps_reg_01_plus_ps_car_02_cat',\n",
       " 'ps_reg_01_plus_ps_car_04_cat']"
      ]
     },
     "execution_count": 33,
     "metadata": {},
     "output_type": "execute_result"
    }
   ],
   "source": [
    "f_cats1"
   ]
  },
  {
   "cell_type": "code",
   "execution_count": null,
   "metadata": {
    "collapsed": true
   },
   "outputs": [],
   "source": [
    "#!/usr/bin/env python3\n",
    "# from criteo\n",
    "# import subprocess, sys, os, time\n",
    "\n",
    "# NR_THREAD = 1\n",
    "\n",
    "# start = time.time()\n",
    "\n",
    "# python count.py --src_csv_path ../cache/train_X.csv --dest_csv_path ../cache/fc.trva.t10.txt\n",
    "\n",
    "# cmd = './utils/count.py tr.csv > fc.trva.t10.txt'\n",
    "# subprocess.call(cmd, shell=True) \n",
    "\n",
    "# cmd = 'converters/parallelizer-a.py -s {nr_thread} converters/pre-a.py tr.csv tr.gbdt.dense tr.gbdt.sparse'.format(nr_thread=NR_THREAD)\n",
    "# subprocess.call(cmd, shell=True) \n",
    "\n",
    "# cmd = 'converters/parallelizer-a.py -s {nr_thread} converters/pre-a.py te.csv te.gbdt.dense te.gbdt.sparse'.format(nr_thread=NR_THREAD)\n",
    "# subprocess.call(cmd, shell=True) \n",
    "\n",
    "# cmd = './gbdt -t 30 -s {nr_thread} te.gbdt.dense te.gbdt.sparse tr.gbdt.dense tr.gbdt.sparse te.gbdt.out tr.gbdt.out'.format(nr_thread=NR_THREAD) \n",
    "# subprocess.call(cmd, shell=True)\n",
    "\n",
    "# cmd = 'rm -f te.gbdt.dense te.gbdt.sparse tr.gbdt.dense tr.gbdt.sparse'\n",
    "# subprocess.call(cmd, shell=True)\n",
    "\n",
    "# cmd = 'converters/parallelizer-b.py -s {nr_thread} converters/pre-b.py tr.csv tr.gbdt.out tr.ffm'.format(nr_thread=NR_THREAD)\n",
    "# subprocess.call(cmd, shell=True) \n",
    "\n",
    "# cmd = 'converters/parallelizer-b.py -s {nr_thread} converters/pre-b.py te.csv te.gbdt.out te.ffm'.format(nr_thread=NR_THREAD)\n",
    "# subprocess.call(cmd, shell=True) \n",
    "\n",
    "# cmd = 'rm -f te.gbdt.out tr.gbdt.out'\n",
    "# subprocess.call(cmd, shell=True) \n",
    "\n",
    "# cmd = './ffm-train -k 4 -t 18 -s {nr_thread} -p te.ffm tr.ffm model'.format(nr_thread=NR_THREAD) \n",
    "# subprocess.call(cmd, shell=True)\n",
    "\n",
    "# cmd = './ffm-predict te.ffm model te.out'.format(nr_thread=NR_THREAD) \n",
    "# subprocess.call(cmd, shell=True)\n",
    "\n",
    "# cmd = './utils/calibrate.py te.out te.out.cal'.format(nr_thread=NR_THREAD) \n",
    "# subprocess.call(cmd, shell=True)\n",
    "\n",
    "# cmd = './utils/make_submission.py te.out.cal submission.csv'.format(nr_thread=NR_THREAD) \n",
    "# subprocess.call(cmd, shell=True)\n",
    "\n",
    "# print('time used = {0:.0f}'.format(time.time()-start))"
   ]
  },
  {
   "cell_type": "code",
   "execution_count": null,
   "metadata": {
    "collapsed": true
   },
   "outputs": [],
   "source": [
    "# do this after running count.py"
   ]
  },
  {
   "cell_type": "code",
   "execution_count": 40,
   "metadata": {
    "collapsed": true
   },
   "outputs": [],
   "source": [
    "t10 = pd.read_csv('../cache/fc.trva.t10.txt')"
   ]
  },
  {
   "cell_type": "code",
   "execution_count": 41,
   "metadata": {},
   "outputs": [
    {
     "data": {
      "text/html": [
       "<div>\n",
       "<style>\n",
       "    .dataframe thead tr:only-child th {\n",
       "        text-align: right;\n",
       "    }\n",
       "\n",
       "    .dataframe thead th {\n",
       "        text-align: left;\n",
       "    }\n",
       "\n",
       "    .dataframe tbody tr th {\n",
       "        vertical-align: top;\n",
       "    }\n",
       "</style>\n",
       "<table border=\"1\" class=\"dataframe\">\n",
       "  <thead>\n",
       "    <tr style=\"text-align: right;\">\n",
       "      <th></th>\n",
       "      <th>Field</th>\n",
       "      <th>Value</th>\n",
       "      <th>Neg</th>\n",
       "      <th>Pos</th>\n",
       "      <th>Total</th>\n",
       "      <th>Ratio</th>\n",
       "    </tr>\n",
       "  </thead>\n",
       "  <tbody>\n",
       "    <tr>\n",
       "      <th>0</th>\n",
       "      <td>ps_reg_01_plus_ps_car_04_cat</td>\n",
       "      <td>14.0</td>\n",
       "      <td>10</td>\n",
       "      <td>0</td>\n",
       "      <td>10</td>\n",
       "      <td>0.00000</td>\n",
       "    </tr>\n",
       "    <tr>\n",
       "      <th>1</th>\n",
       "      <td>ps_reg_01_plus_ps_car_04_cat</td>\n",
       "      <td>15.0</td>\n",
       "      <td>8</td>\n",
       "      <td>2</td>\n",
       "      <td>10</td>\n",
       "      <td>0.20000</td>\n",
       "    </tr>\n",
       "    <tr>\n",
       "      <th>2</th>\n",
       "      <td>ps_reg_01_plus_ps_car_04_cat</td>\n",
       "      <td>27.0</td>\n",
       "      <td>9</td>\n",
       "      <td>1</td>\n",
       "      <td>10</td>\n",
       "      <td>0.10000</td>\n",
       "    </tr>\n",
       "    <tr>\n",
       "      <th>3</th>\n",
       "      <td>ps_reg_01_plus_ps_car_04_cat</td>\n",
       "      <td>67.0</td>\n",
       "      <td>11</td>\n",
       "      <td>0</td>\n",
       "      <td>11</td>\n",
       "      <td>0.00000</td>\n",
       "    </tr>\n",
       "    <tr>\n",
       "      <th>4</th>\n",
       "      <td>ps_reg_01_plus_ps_car_04_cat</td>\n",
       "      <td>57.0</td>\n",
       "      <td>9</td>\n",
       "      <td>2</td>\n",
       "      <td>11</td>\n",
       "      <td>0.18182</td>\n",
       "    </tr>\n",
       "  </tbody>\n",
       "</table>\n",
       "</div>"
      ],
      "text/plain": [
       "                          Field  Value  Neg  Pos  Total    Ratio\n",
       "0  ps_reg_01_plus_ps_car_04_cat   14.0   10    0     10  0.00000\n",
       "1  ps_reg_01_plus_ps_car_04_cat   15.0    8    2     10  0.20000\n",
       "2  ps_reg_01_plus_ps_car_04_cat   27.0    9    1     10  0.10000\n",
       "3  ps_reg_01_plus_ps_car_04_cat   67.0   11    0     11  0.00000\n",
       "4  ps_reg_01_plus_ps_car_04_cat   57.0    9    2     11  0.18182"
      ]
     },
     "execution_count": 41,
     "metadata": {},
     "output_type": "execute_result"
    }
   ],
   "source": [
    "t10.head()"
   ]
  },
  {
   "cell_type": "code",
   "execution_count": 44,
   "metadata": {
    "collapsed": true
   },
   "outputs": [],
   "source": [
    "tFreq = t10[t10.Total > 60000 ]"
   ]
  },
  {
   "cell_type": "code",
   "execution_count": 45,
   "metadata": {},
   "outputs": [
    {
     "data": {
      "text/html": [
       "<div>\n",
       "<style>\n",
       "    .dataframe thead tr:only-child th {\n",
       "        text-align: right;\n",
       "    }\n",
       "\n",
       "    .dataframe thead th {\n",
       "        text-align: left;\n",
       "    }\n",
       "\n",
       "    .dataframe tbody tr th {\n",
       "        vertical-align: top;\n",
       "    }\n",
       "</style>\n",
       "<table border=\"1\" class=\"dataframe\">\n",
       "  <thead>\n",
       "    <tr style=\"text-align: right;\">\n",
       "      <th></th>\n",
       "      <th>Field</th>\n",
       "      <th>Value</th>\n",
       "      <th>Neg</th>\n",
       "      <th>Pos</th>\n",
       "      <th>Total</th>\n",
       "      <th>Ratio</th>\n",
       "    </tr>\n",
       "  </thead>\n",
       "  <tbody>\n",
       "    <tr>\n",
       "      <th>163</th>\n",
       "      <td>ps_car_01_cat</td>\n",
       "      <td>6.0</td>\n",
       "      <td>60536</td>\n",
       "      <td>1857</td>\n",
       "      <td>62393</td>\n",
       "      <td>0.02976</td>\n",
       "    </tr>\n",
       "    <tr>\n",
       "      <th>164</th>\n",
       "      <td>ps_car_03_cat</td>\n",
       "      <td>0.0</td>\n",
       "      <td>70375</td>\n",
       "      <td>2897</td>\n",
       "      <td>73272</td>\n",
       "      <td>0.03954</td>\n",
       "    </tr>\n",
       "    <tr>\n",
       "      <th>165</th>\n",
       "      <td>ps_car_08_cat</td>\n",
       "      <td>0.0</td>\n",
       "      <td>95457</td>\n",
       "      <td>4491</td>\n",
       "      <td>99948</td>\n",
       "      <td>0.04493</td>\n",
       "    </tr>\n",
       "    <tr>\n",
       "      <th>166</th>\n",
       "      <td>ps_car_02_cat</td>\n",
       "      <td>0.0</td>\n",
       "      <td>96206</td>\n",
       "      <td>5011</td>\n",
       "      <td>101217</td>\n",
       "      <td>0.04951</td>\n",
       "    </tr>\n",
       "    <tr>\n",
       "      <th>167</th>\n",
       "      <td>ps_car_06_cat</td>\n",
       "      <td>0.0</td>\n",
       "      <td>106735</td>\n",
       "      <td>3685</td>\n",
       "      <td>110420</td>\n",
       "      <td>0.03337</td>\n",
       "    </tr>\n",
       "    <tr>\n",
       "      <th>168</th>\n",
       "      <td>ps_car_03_cat</td>\n",
       "      <td>1.0</td>\n",
       "      <td>105362</td>\n",
       "      <td>5347</td>\n",
       "      <td>110709</td>\n",
       "      <td>0.04830</td>\n",
       "    </tr>\n",
       "    <tr>\n",
       "      <th>169</th>\n",
       "      <td>ps_car_06_cat</td>\n",
       "      <td>1.0</td>\n",
       "      <td>114339</td>\n",
       "      <td>4047</td>\n",
       "      <td>118386</td>\n",
       "      <td>0.03418</td>\n",
       "    </tr>\n",
       "    <tr>\n",
       "      <th>170</th>\n",
       "      <td>ps_ind_02_cat</td>\n",
       "      <td>2.0</td>\n",
       "      <td>118860</td>\n",
       "      <td>4713</td>\n",
       "      <td>123573</td>\n",
       "      <td>0.03814</td>\n",
       "    </tr>\n",
       "    <tr>\n",
       "      <th>171</th>\n",
       "      <td>ps_car_06_cat</td>\n",
       "      <td>11.0</td>\n",
       "      <td>127355</td>\n",
       "      <td>4172</td>\n",
       "      <td>131527</td>\n",
       "      <td>0.03172</td>\n",
       "    </tr>\n",
       "    <tr>\n",
       "      <th>172</th>\n",
       "      <td>ps_reg_01_plus_ps_car_02_cat</td>\n",
       "      <td>23.0</td>\n",
       "      <td>147186</td>\n",
       "      <td>5848</td>\n",
       "      <td>153034</td>\n",
       "      <td>0.03821</td>\n",
       "    </tr>\n",
       "    <tr>\n",
       "      <th>173</th>\n",
       "      <td>ps_car_05_cat</td>\n",
       "      <td>0.0</td>\n",
       "      <td>149737</td>\n",
       "      <td>6257</td>\n",
       "      <td>155994</td>\n",
       "      <td>0.04011</td>\n",
       "    </tr>\n",
       "    <tr>\n",
       "      <th>174</th>\n",
       "      <td>ps_reg_01_plus_ps_car_04_cat</td>\n",
       "      <td>90.0</td>\n",
       "      <td>154452</td>\n",
       "      <td>6159</td>\n",
       "      <td>160611</td>\n",
       "      <td>0.03835</td>\n",
       "    </tr>\n",
       "    <tr>\n",
       "      <th>175</th>\n",
       "      <td>ps_car_05_cat</td>\n",
       "      <td>1.0</td>\n",
       "      <td>165682</td>\n",
       "      <td>6985</td>\n",
       "      <td>172667</td>\n",
       "      <td>0.04045</td>\n",
       "    </tr>\n",
       "    <tr>\n",
       "      <th>176</th>\n",
       "      <td>ps_car_01_cat</td>\n",
       "      <td>7.0</td>\n",
       "      <td>174090</td>\n",
       "      <td>5157</td>\n",
       "      <td>179247</td>\n",
       "      <td>0.02877</td>\n",
       "    </tr>\n",
       "    <tr>\n",
       "      <th>177</th>\n",
       "      <td>ps_car_09_cat</td>\n",
       "      <td>0.0</td>\n",
       "      <td>188032</td>\n",
       "      <td>6486</td>\n",
       "      <td>194518</td>\n",
       "      <td>0.03334</td>\n",
       "    </tr>\n",
       "    <tr>\n",
       "      <th>178</th>\n",
       "      <td>ps_car_01_cat</td>\n",
       "      <td>11.0</td>\n",
       "      <td>198942</td>\n",
       "      <td>8631</td>\n",
       "      <td>207573</td>\n",
       "      <td>0.04158</td>\n",
       "    </tr>\n",
       "    <tr>\n",
       "      <th>179</th>\n",
       "      <td>ps_ind_04_cat</td>\n",
       "      <td>1.0</td>\n",
       "      <td>238574</td>\n",
       "      <td>9590</td>\n",
       "      <td>248164</td>\n",
       "      <td>0.03864</td>\n",
       "    </tr>\n",
       "    <tr>\n",
       "      <th>180</th>\n",
       "      <td>ps_car_05_cat</td>\n",
       "      <td>NaN</td>\n",
       "      <td>258099</td>\n",
       "      <td>8452</td>\n",
       "      <td>266551</td>\n",
       "      <td>0.03171</td>\n",
       "    </tr>\n",
       "    <tr>\n",
       "      <th>181</th>\n",
       "      <td>ps_ind_04_cat</td>\n",
       "      <td>0.0</td>\n",
       "      <td>334894</td>\n",
       "      <td>12071</td>\n",
       "      <td>346965</td>\n",
       "      <td>0.03479</td>\n",
       "    </tr>\n",
       "    <tr>\n",
       "      <th>182</th>\n",
       "      <td>ps_car_09_cat</td>\n",
       "      <td>2.0</td>\n",
       "      <td>340644</td>\n",
       "      <td>12838</td>\n",
       "      <td>353482</td>\n",
       "      <td>0.03632</td>\n",
       "    </tr>\n",
       "    <tr>\n",
       "      <th>183</th>\n",
       "      <td>ps_car_03_cat</td>\n",
       "      <td>NaN</td>\n",
       "      <td>397781</td>\n",
       "      <td>13450</td>\n",
       "      <td>411231</td>\n",
       "      <td>0.03271</td>\n",
       "    </tr>\n",
       "    <tr>\n",
       "      <th>184</th>\n",
       "      <td>ps_ind_02_cat</td>\n",
       "      <td>1.0</td>\n",
       "      <td>416431</td>\n",
       "      <td>15428</td>\n",
       "      <td>431859</td>\n",
       "      <td>0.03572</td>\n",
       "    </tr>\n",
       "    <tr>\n",
       "      <th>185</th>\n",
       "      <td>ps_car_02_cat</td>\n",
       "      <td>1.0</td>\n",
       "      <td>477307</td>\n",
       "      <td>16683</td>\n",
       "      <td>493990</td>\n",
       "      <td>0.03377</td>\n",
       "    </tr>\n",
       "    <tr>\n",
       "      <th>186</th>\n",
       "      <td>ps_car_08_cat</td>\n",
       "      <td>1.0</td>\n",
       "      <td>478061</td>\n",
       "      <td>17203</td>\n",
       "      <td>495264</td>\n",
       "      <td>0.03474</td>\n",
       "    </tr>\n",
       "    <tr>\n",
       "      <th>187</th>\n",
       "      <td>ps_car_04_cat</td>\n",
       "      <td>0.0</td>\n",
       "      <td>479970</td>\n",
       "      <td>16611</td>\n",
       "      <td>496581</td>\n",
       "      <td>0.03345</td>\n",
       "    </tr>\n",
       "    <tr>\n",
       "      <th>188</th>\n",
       "      <td>ps_ind_05_cat</td>\n",
       "      <td>0.0</td>\n",
       "      <td>510128</td>\n",
       "      <td>17881</td>\n",
       "      <td>528009</td>\n",
       "      <td>0.03386</td>\n",
       "    </tr>\n",
       "    <tr>\n",
       "      <th>189</th>\n",
       "      <td>ps_car_07_cat</td>\n",
       "      <td>1.0</td>\n",
       "      <td>533917</td>\n",
       "      <td>19231</td>\n",
       "      <td>553148</td>\n",
       "      <td>0.03477</td>\n",
       "    </tr>\n",
       "  </tbody>\n",
       "</table>\n",
       "</div>"
      ],
      "text/plain": [
       "                            Field  Value     Neg    Pos   Total    Ratio\n",
       "163                 ps_car_01_cat    6.0   60536   1857   62393  0.02976\n",
       "164                 ps_car_03_cat    0.0   70375   2897   73272  0.03954\n",
       "165                 ps_car_08_cat    0.0   95457   4491   99948  0.04493\n",
       "166                 ps_car_02_cat    0.0   96206   5011  101217  0.04951\n",
       "167                 ps_car_06_cat    0.0  106735   3685  110420  0.03337\n",
       "168                 ps_car_03_cat    1.0  105362   5347  110709  0.04830\n",
       "169                 ps_car_06_cat    1.0  114339   4047  118386  0.03418\n",
       "170                 ps_ind_02_cat    2.0  118860   4713  123573  0.03814\n",
       "171                 ps_car_06_cat   11.0  127355   4172  131527  0.03172\n",
       "172  ps_reg_01_plus_ps_car_02_cat   23.0  147186   5848  153034  0.03821\n",
       "173                 ps_car_05_cat    0.0  149737   6257  155994  0.04011\n",
       "174  ps_reg_01_plus_ps_car_04_cat   90.0  154452   6159  160611  0.03835\n",
       "175                 ps_car_05_cat    1.0  165682   6985  172667  0.04045\n",
       "176                 ps_car_01_cat    7.0  174090   5157  179247  0.02877\n",
       "177                 ps_car_09_cat    0.0  188032   6486  194518  0.03334\n",
       "178                 ps_car_01_cat   11.0  198942   8631  207573  0.04158\n",
       "179                 ps_ind_04_cat    1.0  238574   9590  248164  0.03864\n",
       "180                 ps_car_05_cat    NaN  258099   8452  266551  0.03171\n",
       "181                 ps_ind_04_cat    0.0  334894  12071  346965  0.03479\n",
       "182                 ps_car_09_cat    2.0  340644  12838  353482  0.03632\n",
       "183                 ps_car_03_cat    NaN  397781  13450  411231  0.03271\n",
       "184                 ps_ind_02_cat    1.0  416431  15428  431859  0.03572\n",
       "185                 ps_car_02_cat    1.0  477307  16683  493990  0.03377\n",
       "186                 ps_car_08_cat    1.0  478061  17203  495264  0.03474\n",
       "187                 ps_car_04_cat    0.0  479970  16611  496581  0.03345\n",
       "188                 ps_ind_05_cat    0.0  510128  17881  528009  0.03386\n",
       "189                 ps_car_07_cat    1.0  533917  19231  553148  0.03477"
      ]
     },
     "execution_count": 45,
     "metadata": {},
     "output_type": "execute_result"
    }
   ],
   "source": [
    "tFreq"
   ]
  },
  {
   "cell_type": "code",
   "execution_count": 47,
   "metadata": {},
   "outputs": [
    {
     "name": "stderr",
     "output_type": "stream",
     "text": [
      "/home/watts/anaconda2/envs/sdp/lib/python3.6/site-packages/pandas/core/generic.py:3660: SettingWithCopyWarning: \n",
      "A value is trying to be set on a copy of a slice from a DataFrame\n",
      "\n",
      "See the caveats in the documentation: http://pandas.pydata.org/pandas-docs/stable/indexing.html#indexing-view-versus-copy\n",
      "  self._update_inplace(new_data)\n"
     ]
    }
   ],
   "source": [
    "tFreq.Value.fillna('', inplace=True)"
   ]
  },
  {
   "cell_type": "code",
   "execution_count": 48,
   "metadata": {},
   "outputs": [
    {
     "data": {
      "text/html": [
       "<div>\n",
       "<style>\n",
       "    .dataframe thead tr:only-child th {\n",
       "        text-align: right;\n",
       "    }\n",
       "\n",
       "    .dataframe thead th {\n",
       "        text-align: left;\n",
       "    }\n",
       "\n",
       "    .dataframe tbody tr th {\n",
       "        vertical-align: top;\n",
       "    }\n",
       "</style>\n",
       "<table border=\"1\" class=\"dataframe\">\n",
       "  <thead>\n",
       "    <tr style=\"text-align: right;\">\n",
       "      <th></th>\n",
       "      <th>Field</th>\n",
       "      <th>Value</th>\n",
       "      <th>Neg</th>\n",
       "      <th>Pos</th>\n",
       "      <th>Total</th>\n",
       "      <th>Ratio</th>\n",
       "    </tr>\n",
       "  </thead>\n",
       "  <tbody>\n",
       "    <tr>\n",
       "      <th>163</th>\n",
       "      <td>ps_car_01_cat</td>\n",
       "      <td>6</td>\n",
       "      <td>60536</td>\n",
       "      <td>1857</td>\n",
       "      <td>62393</td>\n",
       "      <td>0.02976</td>\n",
       "    </tr>\n",
       "    <tr>\n",
       "      <th>164</th>\n",
       "      <td>ps_car_03_cat</td>\n",
       "      <td>0</td>\n",
       "      <td>70375</td>\n",
       "      <td>2897</td>\n",
       "      <td>73272</td>\n",
       "      <td>0.03954</td>\n",
       "    </tr>\n",
       "    <tr>\n",
       "      <th>165</th>\n",
       "      <td>ps_car_08_cat</td>\n",
       "      <td>0</td>\n",
       "      <td>95457</td>\n",
       "      <td>4491</td>\n",
       "      <td>99948</td>\n",
       "      <td>0.04493</td>\n",
       "    </tr>\n",
       "    <tr>\n",
       "      <th>166</th>\n",
       "      <td>ps_car_02_cat</td>\n",
       "      <td>0</td>\n",
       "      <td>96206</td>\n",
       "      <td>5011</td>\n",
       "      <td>101217</td>\n",
       "      <td>0.04951</td>\n",
       "    </tr>\n",
       "    <tr>\n",
       "      <th>167</th>\n",
       "      <td>ps_car_06_cat</td>\n",
       "      <td>0</td>\n",
       "      <td>106735</td>\n",
       "      <td>3685</td>\n",
       "      <td>110420</td>\n",
       "      <td>0.03337</td>\n",
       "    </tr>\n",
       "    <tr>\n",
       "      <th>168</th>\n",
       "      <td>ps_car_03_cat</td>\n",
       "      <td>1</td>\n",
       "      <td>105362</td>\n",
       "      <td>5347</td>\n",
       "      <td>110709</td>\n",
       "      <td>0.04830</td>\n",
       "    </tr>\n",
       "    <tr>\n",
       "      <th>169</th>\n",
       "      <td>ps_car_06_cat</td>\n",
       "      <td>1</td>\n",
       "      <td>114339</td>\n",
       "      <td>4047</td>\n",
       "      <td>118386</td>\n",
       "      <td>0.03418</td>\n",
       "    </tr>\n",
       "    <tr>\n",
       "      <th>170</th>\n",
       "      <td>ps_ind_02_cat</td>\n",
       "      <td>2</td>\n",
       "      <td>118860</td>\n",
       "      <td>4713</td>\n",
       "      <td>123573</td>\n",
       "      <td>0.03814</td>\n",
       "    </tr>\n",
       "    <tr>\n",
       "      <th>171</th>\n",
       "      <td>ps_car_06_cat</td>\n",
       "      <td>11</td>\n",
       "      <td>127355</td>\n",
       "      <td>4172</td>\n",
       "      <td>131527</td>\n",
       "      <td>0.03172</td>\n",
       "    </tr>\n",
       "    <tr>\n",
       "      <th>172</th>\n",
       "      <td>ps_reg_01_plus_ps_car_02_cat</td>\n",
       "      <td>23</td>\n",
       "      <td>147186</td>\n",
       "      <td>5848</td>\n",
       "      <td>153034</td>\n",
       "      <td>0.03821</td>\n",
       "    </tr>\n",
       "    <tr>\n",
       "      <th>173</th>\n",
       "      <td>ps_car_05_cat</td>\n",
       "      <td>0</td>\n",
       "      <td>149737</td>\n",
       "      <td>6257</td>\n",
       "      <td>155994</td>\n",
       "      <td>0.04011</td>\n",
       "    </tr>\n",
       "    <tr>\n",
       "      <th>174</th>\n",
       "      <td>ps_reg_01_plus_ps_car_04_cat</td>\n",
       "      <td>90</td>\n",
       "      <td>154452</td>\n",
       "      <td>6159</td>\n",
       "      <td>160611</td>\n",
       "      <td>0.03835</td>\n",
       "    </tr>\n",
       "    <tr>\n",
       "      <th>175</th>\n",
       "      <td>ps_car_05_cat</td>\n",
       "      <td>1</td>\n",
       "      <td>165682</td>\n",
       "      <td>6985</td>\n",
       "      <td>172667</td>\n",
       "      <td>0.04045</td>\n",
       "    </tr>\n",
       "    <tr>\n",
       "      <th>176</th>\n",
       "      <td>ps_car_01_cat</td>\n",
       "      <td>7</td>\n",
       "      <td>174090</td>\n",
       "      <td>5157</td>\n",
       "      <td>179247</td>\n",
       "      <td>0.02877</td>\n",
       "    </tr>\n",
       "    <tr>\n",
       "      <th>177</th>\n",
       "      <td>ps_car_09_cat</td>\n",
       "      <td>0</td>\n",
       "      <td>188032</td>\n",
       "      <td>6486</td>\n",
       "      <td>194518</td>\n",
       "      <td>0.03334</td>\n",
       "    </tr>\n",
       "    <tr>\n",
       "      <th>178</th>\n",
       "      <td>ps_car_01_cat</td>\n",
       "      <td>11</td>\n",
       "      <td>198942</td>\n",
       "      <td>8631</td>\n",
       "      <td>207573</td>\n",
       "      <td>0.04158</td>\n",
       "    </tr>\n",
       "    <tr>\n",
       "      <th>179</th>\n",
       "      <td>ps_ind_04_cat</td>\n",
       "      <td>1</td>\n",
       "      <td>238574</td>\n",
       "      <td>9590</td>\n",
       "      <td>248164</td>\n",
       "      <td>0.03864</td>\n",
       "    </tr>\n",
       "    <tr>\n",
       "      <th>180</th>\n",
       "      <td>ps_car_05_cat</td>\n",
       "      <td></td>\n",
       "      <td>258099</td>\n",
       "      <td>8452</td>\n",
       "      <td>266551</td>\n",
       "      <td>0.03171</td>\n",
       "    </tr>\n",
       "    <tr>\n",
       "      <th>181</th>\n",
       "      <td>ps_ind_04_cat</td>\n",
       "      <td>0</td>\n",
       "      <td>334894</td>\n",
       "      <td>12071</td>\n",
       "      <td>346965</td>\n",
       "      <td>0.03479</td>\n",
       "    </tr>\n",
       "    <tr>\n",
       "      <th>182</th>\n",
       "      <td>ps_car_09_cat</td>\n",
       "      <td>2</td>\n",
       "      <td>340644</td>\n",
       "      <td>12838</td>\n",
       "      <td>353482</td>\n",
       "      <td>0.03632</td>\n",
       "    </tr>\n",
       "    <tr>\n",
       "      <th>183</th>\n",
       "      <td>ps_car_03_cat</td>\n",
       "      <td></td>\n",
       "      <td>397781</td>\n",
       "      <td>13450</td>\n",
       "      <td>411231</td>\n",
       "      <td>0.03271</td>\n",
       "    </tr>\n",
       "    <tr>\n",
       "      <th>184</th>\n",
       "      <td>ps_ind_02_cat</td>\n",
       "      <td>1</td>\n",
       "      <td>416431</td>\n",
       "      <td>15428</td>\n",
       "      <td>431859</td>\n",
       "      <td>0.03572</td>\n",
       "    </tr>\n",
       "    <tr>\n",
       "      <th>185</th>\n",
       "      <td>ps_car_02_cat</td>\n",
       "      <td>1</td>\n",
       "      <td>477307</td>\n",
       "      <td>16683</td>\n",
       "      <td>493990</td>\n",
       "      <td>0.03377</td>\n",
       "    </tr>\n",
       "    <tr>\n",
       "      <th>186</th>\n",
       "      <td>ps_car_08_cat</td>\n",
       "      <td>1</td>\n",
       "      <td>478061</td>\n",
       "      <td>17203</td>\n",
       "      <td>495264</td>\n",
       "      <td>0.03474</td>\n",
       "    </tr>\n",
       "    <tr>\n",
       "      <th>187</th>\n",
       "      <td>ps_car_04_cat</td>\n",
       "      <td>0</td>\n",
       "      <td>479970</td>\n",
       "      <td>16611</td>\n",
       "      <td>496581</td>\n",
       "      <td>0.03345</td>\n",
       "    </tr>\n",
       "    <tr>\n",
       "      <th>188</th>\n",
       "      <td>ps_ind_05_cat</td>\n",
       "      <td>0</td>\n",
       "      <td>510128</td>\n",
       "      <td>17881</td>\n",
       "      <td>528009</td>\n",
       "      <td>0.03386</td>\n",
       "    </tr>\n",
       "    <tr>\n",
       "      <th>189</th>\n",
       "      <td>ps_car_07_cat</td>\n",
       "      <td>1</td>\n",
       "      <td>533917</td>\n",
       "      <td>19231</td>\n",
       "      <td>553148</td>\n",
       "      <td>0.03477</td>\n",
       "    </tr>\n",
       "  </tbody>\n",
       "</table>\n",
       "</div>"
      ],
      "text/plain": [
       "                            Field Value     Neg    Pos   Total    Ratio\n",
       "163                 ps_car_01_cat     6   60536   1857   62393  0.02976\n",
       "164                 ps_car_03_cat     0   70375   2897   73272  0.03954\n",
       "165                 ps_car_08_cat     0   95457   4491   99948  0.04493\n",
       "166                 ps_car_02_cat     0   96206   5011  101217  0.04951\n",
       "167                 ps_car_06_cat     0  106735   3685  110420  0.03337\n",
       "168                 ps_car_03_cat     1  105362   5347  110709  0.04830\n",
       "169                 ps_car_06_cat     1  114339   4047  118386  0.03418\n",
       "170                 ps_ind_02_cat     2  118860   4713  123573  0.03814\n",
       "171                 ps_car_06_cat    11  127355   4172  131527  0.03172\n",
       "172  ps_reg_01_plus_ps_car_02_cat    23  147186   5848  153034  0.03821\n",
       "173                 ps_car_05_cat     0  149737   6257  155994  0.04011\n",
       "174  ps_reg_01_plus_ps_car_04_cat    90  154452   6159  160611  0.03835\n",
       "175                 ps_car_05_cat     1  165682   6985  172667  0.04045\n",
       "176                 ps_car_01_cat     7  174090   5157  179247  0.02877\n",
       "177                 ps_car_09_cat     0  188032   6486  194518  0.03334\n",
       "178                 ps_car_01_cat    11  198942   8631  207573  0.04158\n",
       "179                 ps_ind_04_cat     1  238574   9590  248164  0.03864\n",
       "180                 ps_car_05_cat        258099   8452  266551  0.03171\n",
       "181                 ps_ind_04_cat     0  334894  12071  346965  0.03479\n",
       "182                 ps_car_09_cat     2  340644  12838  353482  0.03632\n",
       "183                 ps_car_03_cat        397781  13450  411231  0.03271\n",
       "184                 ps_ind_02_cat     1  416431  15428  431859  0.03572\n",
       "185                 ps_car_02_cat     1  477307  16683  493990  0.03377\n",
       "186                 ps_car_08_cat     1  478061  17203  495264  0.03474\n",
       "187                 ps_car_04_cat     0  479970  16611  496581  0.03345\n",
       "188                 ps_ind_05_cat     0  510128  17881  528009  0.03386\n",
       "189                 ps_car_07_cat     1  533917  19231  553148  0.03477"
      ]
     },
     "execution_count": 48,
     "metadata": {},
     "output_type": "execute_result"
    }
   ],
   "source": [
    "tFreq"
   ]
  },
  {
   "cell_type": "code",
   "execution_count": 53,
   "metadata": {},
   "outputs": [
    {
     "name": "stderr",
     "output_type": "stream",
     "text": [
      "/home/watts/anaconda2/envs/sdp/lib/python3.6/site-packages/ipykernel_launcher.py:1: SettingWithCopyWarning: \n",
      "A value is trying to be set on a copy of a slice from a DataFrame.\n",
      "Try using .loc[row_indexer,col_indexer] = value instead\n",
      "\n",
      "See the caveats in the documentation: http://pandas.pydata.org/pandas-docs/stable/indexing.html#indexing-view-versus-copy\n",
      "  \"\"\"Entry point for launching an IPython kernel.\n"
     ]
    }
   ],
   "source": [
    "tFreq['FV'] = tFreq['Field'].astype('str') + '-' + tFreq['Value'].astype('str')"
   ]
  },
  {
   "cell_type": "code",
   "execution_count": 54,
   "metadata": {},
   "outputs": [
    {
     "data": {
      "text/plain": [
       "array(['ps_car_01_cat-6.0', 'ps_car_03_cat-0.0', 'ps_car_08_cat-0.0',\n",
       "       'ps_car_02_cat-0.0', 'ps_car_06_cat-0.0', 'ps_car_03_cat-1.0',\n",
       "       'ps_car_06_cat-1.0', 'ps_ind_02_cat-2.0', 'ps_car_06_cat-11.0',\n",
       "       'ps_reg_01_plus_ps_car_02_cat-23.0', 'ps_car_05_cat-0.0',\n",
       "       'ps_reg_01_plus_ps_car_04_cat-90.0', 'ps_car_05_cat-1.0',\n",
       "       'ps_car_01_cat-7.0', 'ps_car_09_cat-0.0', 'ps_car_01_cat-11.0',\n",
       "       'ps_ind_04_cat-1.0', 'ps_car_05_cat-', 'ps_ind_04_cat-0.0',\n",
       "       'ps_car_09_cat-2.0', 'ps_car_03_cat-', 'ps_ind_02_cat-1.0',\n",
       "       'ps_car_02_cat-1.0', 'ps_car_08_cat-1.0', 'ps_car_04_cat-0.0',\n",
       "       'ps_ind_05_cat-0.0', 'ps_car_07_cat-1.0'], dtype=object)"
      ]
     },
     "execution_count": 54,
     "metadata": {},
     "output_type": "execute_result"
    }
   ],
   "source": [
    "tFreq['FV'].values"
   ]
  },
  {
   "cell_type": "code",
   "execution_count": 56,
   "metadata": {},
   "outputs": [
    {
     "name": "stderr",
     "output_type": "stream",
     "text": [
      "/home/watts/anaconda2/envs/sdp/lib/python3.6/site-packages/ipykernel_launcher.py:1: SettingWithCopyWarning: \n",
      "A value is trying to be set on a copy of a slice from a DataFrame.\n",
      "Try using .loc[row_indexer,col_indexer] = value instead\n",
      "\n",
      "See the caveats in the documentation: http://pandas.pydata.org/pandas-docs/stable/indexing.html#indexing-view-versus-copy\n",
      "  \"\"\"Entry point for launching an IPython kernel.\n"
     ]
    }
   ],
   "source": [
    "tFreq['FV'] = tFreq['FV'].map(lambda x: x.split('.')[0])"
   ]
  },
  {
   "cell_type": "code",
   "execution_count": 57,
   "metadata": {},
   "outputs": [
    {
     "data": {
      "text/plain": [
       "array(['ps_car_01_cat-6', 'ps_car_03_cat-0', 'ps_car_08_cat-0',\n",
       "       'ps_car_02_cat-0', 'ps_car_06_cat-0', 'ps_car_03_cat-1',\n",
       "       'ps_car_06_cat-1', 'ps_ind_02_cat-2', 'ps_car_06_cat-11',\n",
       "       'ps_reg_01_plus_ps_car_02_cat-23', 'ps_car_05_cat-0',\n",
       "       'ps_reg_01_plus_ps_car_04_cat-90', 'ps_car_05_cat-1',\n",
       "       'ps_car_01_cat-7', 'ps_car_09_cat-0', 'ps_car_01_cat-11',\n",
       "       'ps_ind_04_cat-1', 'ps_car_05_cat-', 'ps_ind_04_cat-0',\n",
       "       'ps_car_09_cat-2', 'ps_car_03_cat-', 'ps_ind_02_cat-1',\n",
       "       'ps_car_02_cat-1', 'ps_car_08_cat-1', 'ps_car_04_cat-0',\n",
       "       'ps_ind_05_cat-0', 'ps_car_07_cat-1'], dtype=object)"
      ]
     },
     "execution_count": 57,
     "metadata": {},
     "output_type": "execute_result"
    }
   ],
   "source": [
    "tFreq['FV'].values"
   ]
  },
  {
   "cell_type": "code",
   "execution_count": 1,
   "metadata": {},
   "outputs": [
    {
     "data": {
      "text/plain": [
       "0.255518"
      ]
     },
     "execution_count": 1,
     "metadata": {},
     "output_type": "execute_result"
    }
   ],
   "source": [
    "(0.252099 +\n",
    "0.250353 + \n",
    "0.276489 + \n",
    "0.261354 + \n",
    "0.237295)/5. "
   ]
  },
  {
   "cell_type": "code",
   "execution_count": null,
   "metadata": {
    "collapsed": true
   },
   "outputs": [],
   "source": []
  }
 ],
 "metadata": {
  "kernelspec": {
   "display_name": "sdp",
   "language": "python",
   "name": "sdp"
  },
  "language_info": {
   "codemirror_mode": {
    "name": "ipython",
    "version": 3
   },
   "file_extension": ".py",
   "mimetype": "text/x-python",
   "name": "python",
   "nbconvert_exporter": "python",
   "pygments_lexer": "ipython3",
   "version": "3.6.1"
  }
 },
 "nbformat": 4,
 "nbformat_minor": 2
}
