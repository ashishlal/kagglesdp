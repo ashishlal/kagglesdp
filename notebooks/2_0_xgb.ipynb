{
 "cells": [
  {
   "cell_type": "code",
   "execution_count": 1,
   "metadata": {
    "collapsed": true
   },
   "outputs": [],
   "source": [
    "# https://www.kaggle.com/aharless/xgboost-cv-lb-284?scriptVersionId=1683906"
   ]
  },
  {
   "cell_type": "code",
   "execution_count": 2,
   "metadata": {
    "collapsed": true
   },
   "outputs": [],
   "source": [
    "import sys\n",
    "sys.path.insert(0, '/home/watts/Software/xgboost')"
   ]
  },
  {
   "cell_type": "code",
   "execution_count": 50,
   "metadata": {
    "collapsed": true
   },
   "outputs": [],
   "source": [
    "import numpy as np\n",
    "import pandas as pd\n",
    "from xgboost import XGBClassifier\n",
    "from sklearn.model_selection import train_test_split\n",
    "from sklearn.model_selection import KFold\n",
    "from sklearn.preprocessing import LabelEncoder\n",
    "from numba import jit\n",
    "import time\n",
    "import gc\n",
    "from scipy.stats import randint as sp_randint\n",
    "from sklearn.metrics import make_scorer\n",
    "from sklearn.grid_search import RandomizedSearchCV, GridSearchCV\n",
    "from sklearn.cross_validation import StratifiedKFold\n",
    "from hccEncoding.EncoderForClassification import BayesEncoding,BayesEncodingKfold,LOOEncoding,LOOEncodingKfold\n",
    "from sklearn.model_selection import train_test_split"
   ]
  },
  {
   "cell_type": "code",
   "execution_count": 4,
   "metadata": {
    "collapsed": true
   },
   "outputs": [],
   "source": [
    "# Compute gini\n",
    "\n",
    "# from CPMP's kernel https://www.kaggle.com/cpmpml/extremely-fast-gini-computation\n",
    "@jit\n",
    "def eval_gini(y_true, y_prob):\n",
    "    y_true = np.asarray(y_true)\n",
    "    y_true = y_true[np.argsort(y_prob)]\n",
    "    ntrue = 0\n",
    "    gini = 0\n",
    "    delta = 0\n",
    "    n = len(y_true)\n",
    "    for i in range(n-1, -1, -1):\n",
    "        y_i = y_true[i]\n",
    "        ntrue += y_i\n",
    "        gini += y_i * delta\n",
    "        delta += 1 - y_i\n",
    "    gini = 1 - 2 * gini / (ntrue * (n - ntrue))\n",
    "    return gini"
   ]
  },
  {
   "cell_type": "code",
   "execution_count": 5,
   "metadata": {
    "collapsed": true
   },
   "outputs": [],
   "source": [
    "# Funcitons from olivier's kernel\n",
    "# https://www.kaggle.com/ogrellier/xgb-classifier-upsampling-lb-0-283\n",
    "\n",
    "def gini_xgb(preds, dtrain):\n",
    "    labels = dtrain.get_label()\n",
    "    gini_score = -eval_gini(labels, preds)\n",
    "    return [('gini', gini_score)]\n",
    "\n",
    "\n",
    "def add_noise(series, noise_level):\n",
    "    return series * (1 + noise_level * np.random.randn(len(series)))\n"
   ]
  },
  {
   "cell_type": "code",
   "execution_count": 6,
   "metadata": {
    "collapsed": true
   },
   "outputs": [],
   "source": [
    "def gini1(solution, submission):\n",
    "    df = zip(solution, submission, range(len(solution)))\n",
    "    df = sorted(df, key=lambda x: (x[1],-x[2]), reverse=True)\n",
    "    rand = [float(i+1)/float(len(df)) for i in range(len(df))]\n",
    "    totalPos = float(sum([x[0] for x in df]))\n",
    "    cumPosFound = [df[0][0]]\n",
    "    for i in range(1,len(df)):\n",
    "        cumPosFound.append(cumPosFound[len(cumPosFound)-1] + df[i][0])\n",
    "    Lorentz = [float(x)/totalPos for x in cumPosFound]\n",
    "    Gini = [Lorentz[i]-rand[i] for i in range(len(df))]\n",
    "    return sum(Gini)\n",
    "\n",
    "# def normalized_gini(solution, submission):\n",
    "#     normalized_gini = gini1(solution, submission)/gini1(solution, solution)\n",
    "#     return normalized_gini"
   ]
  },
  {
   "cell_type": "code",
   "execution_count": 7,
   "metadata": {
    "collapsed": true
   },
   "outputs": [],
   "source": [
    "def normalized_gini(solution, submission):\n",
    "    normalized_gini = eval_gini(solution, submission)/eval_gini(solution, solution)\n",
    "    return normalized_gini"
   ]
  },
  {
   "cell_type": "code",
   "execution_count": 8,
   "metadata": {
    "collapsed": true
   },
   "outputs": [],
   "source": [
    "def gini(actual, pred, cmpcol = 0, sortcol = 1):\n",
    "     assert( len(actual) == len(pred) )\n",
    "     all = np.asarray(np.c_[ actual, pred, np.arange(len(actual)) ], dtype=np.float)\n",
    "     all = all[ np.lexsort((all[:,2], -1*all[:,1])) ]\n",
    "     totalLosses = all[:,0].sum()\n",
    "     giniSum = all[:,0].cumsum().sum() / totalLosses\n",
    " \n",
    "     giniSum -= (len(actual) + 1) / 2.\n",
    "     return giniSum / len(actual)\n",
    " \n",
    "def gini_normalized(a, p):\n",
    "    return eval_gini(a, p) / eval_gini(a, a)"
   ]
  },
  {
   "cell_type": "code",
   "execution_count": 9,
   "metadata": {
    "collapsed": true
   },
   "outputs": [],
   "source": [
    "# Normalized Gini Scorer\n",
    "# gini_scorer = make_scorer(normalized_gini, greater_is_better = True)\n",
    "def normalized_gini(solution, submission):\n",
    "    normalized_gini = eval_gini(solution, submission)/eval_gini(solution, solution)\n",
    "    return normalized_gini\n",
    "gini_scorer = make_scorer(gini_normalized, greater_is_better = True)"
   ]
  },
  {
   "cell_type": "code",
   "execution_count": 10,
   "metadata": {
    "collapsed": true
   },
   "outputs": [],
   "source": [
    "# from olivier\n",
    "train_features = [\n",
    "    \"ps_car_13\",  #            : 1571.65 / shadow  609.23\n",
    "    \"ps_reg_03\",  #            : 1408.42 / shadow  511.15\n",
    "    \"ps_ind_05_cat\",  #        : 1387.87 / shadow   84.72\n",
    "    \"ps_ind_03\",  #            : 1219.47 / shadow  230.55\n",
    "    \"ps_ind_15\",  #            :  922.18 / shadow  242.00\n",
    "    \"ps_reg_02\",  #            :  920.65 / shadow  267.50\n",
    "    \"ps_car_14\",  #            :  798.48 / shadow  549.58\n",
    "    \"ps_car_12\",  #            :  731.93 / shadow  293.62\n",
    "    \"ps_car_01_cat\",  #        :  698.07 / shadow  178.72\n",
    "    \"ps_car_07_cat\",  #        :  694.53 / shadow   36.35\n",
    "    \"ps_ind_17_bin\",  #        :  620.77 / shadow   23.15\n",
    "    \"ps_car_03_cat\",  #        :  611.73 / shadow   50.67\n",
    "    \"ps_reg_01\",  #            :  598.60 / shadow  178.57\n",
    "    \"ps_car_15\",  #            :  593.35 / shadow  226.43\n",
    "    \"ps_ind_01\",  #            :  547.32 / shadow  154.58\n",
    "    \"ps_ind_16_bin\",  #        :  475.37 / shadow   34.17\n",
    "    \"ps_ind_07_bin\",  #        :  435.28 / shadow   28.92\n",
    "    \"ps_car_06_cat\",  #        :  398.02 / shadow  212.43\n",
    "    \"ps_car_04_cat\",  #        :  376.87 / shadow   76.98\n",
    "    \"ps_ind_06_bin\",  #        :  370.97 / shadow   36.13\n",
    "    \"ps_car_09_cat\",  #        :  214.12 / shadow   81.38\n",
    "    \"ps_car_02_cat\",  #        :  203.03 / shadow   26.67\n",
    "    \"ps_ind_02_cat\",  #        :  189.47 / shadow   65.68\n",
    "    \"ps_car_11\",  #            :  173.28 / shadow   76.45\n",
    "    \"ps_car_05_cat\",  #        :  172.75 / shadow   62.92\n",
    "    \"ps_calc_09\",  #           :  169.13 / shadow  129.72\n",
    "    \"ps_calc_05\",  #           :  148.83 / shadow  120.68\n",
    "    \"ps_ind_08_bin\",  #        :  140.73 / shadow   27.63\n",
    "    \"ps_car_08_cat\",  #        :  120.87 / shadow   28.82\n",
    "    \"ps_ind_09_bin\",  #        :  113.92 / shadow   27.05\n",
    "    \"ps_ind_04_cat\",  #        :  107.27 / shadow   37.43\n",
    "    \"ps_ind_18_bin\",  #        :   77.42 / shadow   25.97\n",
    "    \"ps_ind_12_bin\",  #        :   39.67 / shadow   15.52\n",
    "    \"ps_ind_14\",  #            :   37.37 / shadow   16.65\n",
    "]"
   ]
  },
  {
   "cell_type": "code",
   "execution_count": 11,
   "metadata": {
    "collapsed": true
   },
   "outputs": [],
   "source": [
    "# add combinations\n",
    "combs = [\n",
    "    ('ps_reg_01', 'ps_car_02_cat'),  \n",
    "    ('ps_reg_01', 'ps_car_04_cat'),\n",
    "]"
   ]
  },
  {
   "cell_type": "code",
   "execution_count": 12,
   "metadata": {
    "collapsed": true
   },
   "outputs": [],
   "source": [
    "# Read data\n",
    "df_train = pd.read_csv('../cache/train_X.csv') \n",
    "df_test = pd.read_csv('../cache/test_Y.csv')"
   ]
  },
  {
   "cell_type": "code",
   "execution_count": 13,
   "metadata": {},
   "outputs": [
    {
     "data": {
      "text/plain": [
       "ps_car_13                            0\n",
       "ps_reg_03                       107772\n",
       "ps_ind_05_cat                     5809\n",
       "ps_ind_03                            0\n",
       "ps_ind_15                            0\n",
       "ps_reg_02                            0\n",
       "ps_car_14                        42620\n",
       "ps_car_12                            1\n",
       "ps_car_01_cat                      107\n",
       "ps_car_07_cat                    11489\n",
       "ps_ind_17_bin                        0\n",
       "ps_car_03_cat                   411231\n",
       "ps_reg_01                            0\n",
       "ps_car_15                            0\n",
       "ps_ind_01                            0\n",
       "ps_ind_16_bin                        0\n",
       "ps_ind_07_bin                        0\n",
       "ps_car_06_cat                        0\n",
       "ps_car_04_cat                        0\n",
       "ps_ind_06_bin                        0\n",
       "ps_car_09_cat                      569\n",
       "ps_car_02_cat                        5\n",
       "ps_ind_02_cat                      216\n",
       "ps_car_11                            5\n",
       "ps_car_05_cat                   266551\n",
       "ps_calc_09                           0\n",
       "ps_calc_05                           0\n",
       "ps_ind_08_bin                        0\n",
       "ps_car_08_cat                        0\n",
       "ps_ind_09_bin                        0\n",
       "ps_ind_04_cat                       83\n",
       "ps_ind_18_bin                        0\n",
       "ps_ind_12_bin                        0\n",
       "ps_ind_14                            0\n",
       "ps_reg_01_plus_ps_car_02_cat         0\n",
       "ps_reg_01_plus_ps_car_04_cat         0\n",
       "id                                   0\n",
       "target                               0\n",
       "dtype: int64"
      ]
     },
     "execution_count": 13,
     "metadata": {},
     "output_type": "execute_result"
    }
   ],
   "source": [
    "df_train.isnull().sum()"
   ]
  },
  {
   "cell_type": "code",
   "execution_count": 14,
   "metadata": {},
   "outputs": [
    {
     "data": {
      "text/plain": [
       "ps_car_13                            0\n",
       "ps_reg_03                       161684\n",
       "ps_ind_05_cat                     8710\n",
       "ps_ind_03                            0\n",
       "ps_ind_15                            0\n",
       "ps_reg_02                            0\n",
       "ps_car_14                        63805\n",
       "ps_car_12                            0\n",
       "ps_car_01_cat                      160\n",
       "ps_car_07_cat                    17331\n",
       "ps_ind_17_bin                        0\n",
       "ps_car_03_cat                   616911\n",
       "ps_reg_01                            0\n",
       "ps_car_15                            0\n",
       "ps_ind_01                            0\n",
       "ps_ind_16_bin                        0\n",
       "ps_ind_07_bin                        0\n",
       "ps_car_06_cat                        0\n",
       "ps_car_04_cat                        0\n",
       "ps_ind_06_bin                        0\n",
       "ps_car_09_cat                      877\n",
       "ps_car_02_cat                        5\n",
       "ps_ind_02_cat                      307\n",
       "ps_car_11                            1\n",
       "ps_car_05_cat                   400359\n",
       "ps_calc_09                           0\n",
       "ps_calc_05                           0\n",
       "ps_ind_08_bin                        0\n",
       "ps_car_08_cat                        0\n",
       "ps_ind_09_bin                        0\n",
       "ps_ind_04_cat                      145\n",
       "ps_ind_18_bin                        0\n",
       "ps_ind_12_bin                        0\n",
       "ps_ind_14                            0\n",
       "ps_reg_01_plus_ps_car_02_cat         0\n",
       "ps_reg_01_plus_ps_car_04_cat         0\n",
       "dtype: int64"
      ]
     },
     "execution_count": 14,
     "metadata": {},
     "output_type": "execute_result"
    }
   ],
   "source": [
    "df_test.isnull().sum()"
   ]
  },
  {
   "cell_type": "code",
   "execution_count": 15,
   "metadata": {
    "collapsed": true
   },
   "outputs": [],
   "source": [
    "df_train.fillna(-1, inplace=True)"
   ]
  },
  {
   "cell_type": "code",
   "execution_count": 16,
   "metadata": {
    "collapsed": true
   },
   "outputs": [],
   "source": [
    "df_test.fillna(-1, inplace=True)"
   ]
  },
  {
   "cell_type": "code",
   "execution_count": 17,
   "metadata": {},
   "outputs": [
    {
     "data": {
      "text/html": [
       "<div>\n",
       "<style scoped>\n",
       "    .dataframe tbody tr th:only-of-type {\n",
       "        vertical-align: middle;\n",
       "    }\n",
       "\n",
       "    .dataframe tbody tr th {\n",
       "        vertical-align: top;\n",
       "    }\n",
       "\n",
       "    .dataframe thead th {\n",
       "        text-align: right;\n",
       "    }\n",
       "</style>\n",
       "<table border=\"1\" class=\"dataframe\">\n",
       "  <thead>\n",
       "    <tr style=\"text-align: right;\">\n",
       "      <th></th>\n",
       "      <th>ps_car_13</th>\n",
       "      <th>ps_reg_03</th>\n",
       "      <th>ps_ind_05_cat</th>\n",
       "      <th>ps_ind_03</th>\n",
       "      <th>ps_ind_15</th>\n",
       "      <th>ps_reg_02</th>\n",
       "      <th>ps_car_14</th>\n",
       "      <th>ps_car_12</th>\n",
       "      <th>ps_car_01_cat</th>\n",
       "      <th>ps_car_07_cat</th>\n",
       "      <th>...</th>\n",
       "      <th>ps_car_08_cat</th>\n",
       "      <th>ps_ind_09_bin</th>\n",
       "      <th>ps_ind_04_cat</th>\n",
       "      <th>ps_ind_18_bin</th>\n",
       "      <th>ps_ind_12_bin</th>\n",
       "      <th>ps_ind_14</th>\n",
       "      <th>ps_reg_01_plus_ps_car_02_cat</th>\n",
       "      <th>ps_reg_01_plus_ps_car_04_cat</th>\n",
       "      <th>id</th>\n",
       "      <th>target</th>\n",
       "    </tr>\n",
       "  </thead>\n",
       "  <tbody>\n",
       "    <tr>\n",
       "      <th>0</th>\n",
       "      <td>0.883679</td>\n",
       "      <td>0.718070</td>\n",
       "      <td>0.0</td>\n",
       "      <td>5</td>\n",
       "      <td>11</td>\n",
       "      <td>0.2</td>\n",
       "      <td>0.370810</td>\n",
       "      <td>0.400000</td>\n",
       "      <td>10.0</td>\n",
       "      <td>1.0</td>\n",
       "      <td>...</td>\n",
       "      <td>0</td>\n",
       "      <td>0</td>\n",
       "      <td>1.0</td>\n",
       "      <td>0</td>\n",
       "      <td>0</td>\n",
       "      <td>0</td>\n",
       "      <td>19</td>\n",
       "      <td>70</td>\n",
       "      <td>7</td>\n",
       "      <td>0</td>\n",
       "    </tr>\n",
       "    <tr>\n",
       "      <th>1</th>\n",
       "      <td>0.618817</td>\n",
       "      <td>0.766078</td>\n",
       "      <td>0.0</td>\n",
       "      <td>7</td>\n",
       "      <td>3</td>\n",
       "      <td>0.4</td>\n",
       "      <td>0.388716</td>\n",
       "      <td>0.316228</td>\n",
       "      <td>11.0</td>\n",
       "      <td>1.0</td>\n",
       "      <td>...</td>\n",
       "      <td>1</td>\n",
       "      <td>0</td>\n",
       "      <td>0.0</td>\n",
       "      <td>1</td>\n",
       "      <td>0</td>\n",
       "      <td>0</td>\n",
       "      <td>21</td>\n",
       "      <td>80</td>\n",
       "      <td>9</td>\n",
       "      <td>0</td>\n",
       "    </tr>\n",
       "    <tr>\n",
       "      <th>2</th>\n",
       "      <td>0.641586</td>\n",
       "      <td>-1.000000</td>\n",
       "      <td>0.0</td>\n",
       "      <td>9</td>\n",
       "      <td>12</td>\n",
       "      <td>0.0</td>\n",
       "      <td>0.347275</td>\n",
       "      <td>0.316228</td>\n",
       "      <td>7.0</td>\n",
       "      <td>1.0</td>\n",
       "      <td>...</td>\n",
       "      <td>1</td>\n",
       "      <td>0</td>\n",
       "      <td>1.0</td>\n",
       "      <td>0</td>\n",
       "      <td>0</td>\n",
       "      <td>0</td>\n",
       "      <td>1</td>\n",
       "      <td>0</td>\n",
       "      <td>13</td>\n",
       "      <td>0</td>\n",
       "    </tr>\n",
       "    <tr>\n",
       "      <th>3</th>\n",
       "      <td>0.542949</td>\n",
       "      <td>0.580948</td>\n",
       "      <td>0.0</td>\n",
       "      <td>2</td>\n",
       "      <td>8</td>\n",
       "      <td>0.2</td>\n",
       "      <td>0.294958</td>\n",
       "      <td>0.374166</td>\n",
       "      <td>7.0</td>\n",
       "      <td>1.0</td>\n",
       "      <td>...</td>\n",
       "      <td>1</td>\n",
       "      <td>0</td>\n",
       "      <td>0.0</td>\n",
       "      <td>0</td>\n",
       "      <td>0</td>\n",
       "      <td>0</td>\n",
       "      <td>23</td>\n",
       "      <td>90</td>\n",
       "      <td>16</td>\n",
       "      <td>0</td>\n",
       "    </tr>\n",
       "    <tr>\n",
       "      <th>4</th>\n",
       "      <td>0.565832</td>\n",
       "      <td>0.840759</td>\n",
       "      <td>0.0</td>\n",
       "      <td>0</td>\n",
       "      <td>9</td>\n",
       "      <td>0.6</td>\n",
       "      <td>0.365103</td>\n",
       "      <td>0.316070</td>\n",
       "      <td>11.0</td>\n",
       "      <td>1.0</td>\n",
       "      <td>...</td>\n",
       "      <td>1</td>\n",
       "      <td>0</td>\n",
       "      <td>1.0</td>\n",
       "      <td>0</td>\n",
       "      <td>0</td>\n",
       "      <td>0</td>\n",
       "      <td>19</td>\n",
       "      <td>70</td>\n",
       "      <td>17</td>\n",
       "      <td>0</td>\n",
       "    </tr>\n",
       "  </tbody>\n",
       "</table>\n",
       "<p>5 rows × 38 columns</p>\n",
       "</div>"
      ],
      "text/plain": [
       "   ps_car_13  ps_reg_03  ps_ind_05_cat  ps_ind_03  ps_ind_15  ps_reg_02  \\\n",
       "0   0.883679   0.718070            0.0          5         11        0.2   \n",
       "1   0.618817   0.766078            0.0          7          3        0.4   \n",
       "2   0.641586  -1.000000            0.0          9         12        0.0   \n",
       "3   0.542949   0.580948            0.0          2          8        0.2   \n",
       "4   0.565832   0.840759            0.0          0          9        0.6   \n",
       "\n",
       "   ps_car_14  ps_car_12  ps_car_01_cat  ps_car_07_cat   ...    ps_car_08_cat  \\\n",
       "0   0.370810   0.400000           10.0            1.0   ...                0   \n",
       "1   0.388716   0.316228           11.0            1.0   ...                1   \n",
       "2   0.347275   0.316228            7.0            1.0   ...                1   \n",
       "3   0.294958   0.374166            7.0            1.0   ...                1   \n",
       "4   0.365103   0.316070           11.0            1.0   ...                1   \n",
       "\n",
       "   ps_ind_09_bin  ps_ind_04_cat  ps_ind_18_bin  ps_ind_12_bin  ps_ind_14  \\\n",
       "0              0            1.0              0              0          0   \n",
       "1              0            0.0              1              0          0   \n",
       "2              0            1.0              0              0          0   \n",
       "3              0            0.0              0              0          0   \n",
       "4              0            1.0              0              0          0   \n",
       "\n",
       "   ps_reg_01_plus_ps_car_02_cat  ps_reg_01_plus_ps_car_04_cat  id  target  \n",
       "0                            19                            70   7       0  \n",
       "1                            21                            80   9       0  \n",
       "2                             1                             0  13       0  \n",
       "3                            23                            90  16       0  \n",
       "4                            19                            70  17       0  \n",
       "\n",
       "[5 rows x 38 columns]"
      ]
     },
     "execution_count": 17,
     "metadata": {},
     "output_type": "execute_result"
    }
   ],
   "source": [
    "df_train.head()"
   ]
  },
  {
   "cell_type": "code",
   "execution_count": 18,
   "metadata": {},
   "outputs": [
    {
     "data": {
      "text/html": [
       "<div>\n",
       "<style scoped>\n",
       "    .dataframe tbody tr th:only-of-type {\n",
       "        vertical-align: middle;\n",
       "    }\n",
       "\n",
       "    .dataframe tbody tr th {\n",
       "        vertical-align: top;\n",
       "    }\n",
       "\n",
       "    .dataframe thead th {\n",
       "        text-align: right;\n",
       "    }\n",
       "</style>\n",
       "<table border=\"1\" class=\"dataframe\">\n",
       "  <thead>\n",
       "    <tr style=\"text-align: right;\">\n",
       "      <th></th>\n",
       "      <th>ps_car_13</th>\n",
       "      <th>ps_reg_03</th>\n",
       "      <th>ps_ind_05_cat</th>\n",
       "      <th>ps_ind_03</th>\n",
       "      <th>ps_ind_15</th>\n",
       "      <th>ps_reg_02</th>\n",
       "      <th>ps_car_14</th>\n",
       "      <th>ps_car_12</th>\n",
       "      <th>ps_car_01_cat</th>\n",
       "      <th>ps_car_07_cat</th>\n",
       "      <th>...</th>\n",
       "      <th>ps_calc_05</th>\n",
       "      <th>ps_ind_08_bin</th>\n",
       "      <th>ps_car_08_cat</th>\n",
       "      <th>ps_ind_09_bin</th>\n",
       "      <th>ps_ind_04_cat</th>\n",
       "      <th>ps_ind_18_bin</th>\n",
       "      <th>ps_ind_12_bin</th>\n",
       "      <th>ps_ind_14</th>\n",
       "      <th>ps_reg_01_plus_ps_car_02_cat</th>\n",
       "      <th>ps_reg_01_plus_ps_car_04_cat</th>\n",
       "    </tr>\n",
       "  </thead>\n",
       "  <tbody>\n",
       "    <tr>\n",
       "      <th>0</th>\n",
       "      <td>0.669556</td>\n",
       "      <td>0.610328</td>\n",
       "      <td>0.0</td>\n",
       "      <td>8</td>\n",
       "      <td>12</td>\n",
       "      <td>0.3</td>\n",
       "      <td>0.352136</td>\n",
       "      <td>0.316228</td>\n",
       "      <td>7.0</td>\n",
       "      <td>1.0</td>\n",
       "      <td>...</td>\n",
       "      <td>1</td>\n",
       "      <td>0</td>\n",
       "      <td>1</td>\n",
       "      <td>0</td>\n",
       "      <td>1.0</td>\n",
       "      <td>0</td>\n",
       "      <td>0</td>\n",
       "      <td>0</td>\n",
       "      <td>14</td>\n",
       "      <td>50</td>\n",
       "    </tr>\n",
       "    <tr>\n",
       "      <th>1</th>\n",
       "      <td>0.606320</td>\n",
       "      <td>0.771362</td>\n",
       "      <td>0.0</td>\n",
       "      <td>5</td>\n",
       "      <td>5</td>\n",
       "      <td>0.5</td>\n",
       "      <td>0.358329</td>\n",
       "      <td>0.316228</td>\n",
       "      <td>4.0</td>\n",
       "      <td>1.0</td>\n",
       "      <td>...</td>\n",
       "      <td>3</td>\n",
       "      <td>0</td>\n",
       "      <td>1</td>\n",
       "      <td>1</td>\n",
       "      <td>1.0</td>\n",
       "      <td>0</td>\n",
       "      <td>0</td>\n",
       "      <td>0</td>\n",
       "      <td>23</td>\n",
       "      <td>90</td>\n",
       "    </tr>\n",
       "    <tr>\n",
       "      <th>2</th>\n",
       "      <td>0.896239</td>\n",
       "      <td>0.916174</td>\n",
       "      <td>0.0</td>\n",
       "      <td>3</td>\n",
       "      <td>10</td>\n",
       "      <td>0.0</td>\n",
       "      <td>0.398497</td>\n",
       "      <td>0.400000</td>\n",
       "      <td>11.0</td>\n",
       "      <td>1.0</td>\n",
       "      <td>...</td>\n",
       "      <td>3</td>\n",
       "      <td>0</td>\n",
       "      <td>1</td>\n",
       "      <td>1</td>\n",
       "      <td>0.0</td>\n",
       "      <td>0</td>\n",
       "      <td>0</td>\n",
       "      <td>0</td>\n",
       "      <td>11</td>\n",
       "      <td>40</td>\n",
       "    </tr>\n",
       "    <tr>\n",
       "      <th>3</th>\n",
       "      <td>0.652110</td>\n",
       "      <td>-1.000000</td>\n",
       "      <td>0.0</td>\n",
       "      <td>6</td>\n",
       "      <td>4</td>\n",
       "      <td>0.2</td>\n",
       "      <td>0.381445</td>\n",
       "      <td>0.374166</td>\n",
       "      <td>7.0</td>\n",
       "      <td>1.0</td>\n",
       "      <td>...</td>\n",
       "      <td>1</td>\n",
       "      <td>0</td>\n",
       "      <td>1</td>\n",
       "      <td>0</td>\n",
       "      <td>0.0</td>\n",
       "      <td>0</td>\n",
       "      <td>0</td>\n",
       "      <td>0</td>\n",
       "      <td>3</td>\n",
       "      <td>10</td>\n",
       "    </tr>\n",
       "    <tr>\n",
       "      <th>4</th>\n",
       "      <td>0.812914</td>\n",
       "      <td>0.817771</td>\n",
       "      <td>0.0</td>\n",
       "      <td>7</td>\n",
       "      <td>4</td>\n",
       "      <td>0.4</td>\n",
       "      <td>0.385097</td>\n",
       "      <td>0.374166</td>\n",
       "      <td>11.0</td>\n",
       "      <td>1.0</td>\n",
       "      <td>...</td>\n",
       "      <td>4</td>\n",
       "      <td>0</td>\n",
       "      <td>1</td>\n",
       "      <td>1</td>\n",
       "      <td>0.0</td>\n",
       "      <td>0</td>\n",
       "      <td>0</td>\n",
       "      <td>0</td>\n",
       "      <td>23</td>\n",
       "      <td>90</td>\n",
       "    </tr>\n",
       "  </tbody>\n",
       "</table>\n",
       "<p>5 rows × 36 columns</p>\n",
       "</div>"
      ],
      "text/plain": [
       "   ps_car_13  ps_reg_03  ps_ind_05_cat  ps_ind_03  ps_ind_15  ps_reg_02  \\\n",
       "0   0.669556   0.610328            0.0          8         12        0.3   \n",
       "1   0.606320   0.771362            0.0          5          5        0.5   \n",
       "2   0.896239   0.916174            0.0          3         10        0.0   \n",
       "3   0.652110  -1.000000            0.0          6          4        0.2   \n",
       "4   0.812914   0.817771            0.0          7          4        0.4   \n",
       "\n",
       "   ps_car_14  ps_car_12  ps_car_01_cat  ps_car_07_cat  \\\n",
       "0   0.352136   0.316228            7.0            1.0   \n",
       "1   0.358329   0.316228            4.0            1.0   \n",
       "2   0.398497   0.400000           11.0            1.0   \n",
       "3   0.381445   0.374166            7.0            1.0   \n",
       "4   0.385097   0.374166           11.0            1.0   \n",
       "\n",
       "               ...               ps_calc_05  ps_ind_08_bin  ps_car_08_cat  \\\n",
       "0              ...                        1              0              1   \n",
       "1              ...                        3              0              1   \n",
       "2              ...                        3              0              1   \n",
       "3              ...                        1              0              1   \n",
       "4              ...                        4              0              1   \n",
       "\n",
       "   ps_ind_09_bin  ps_ind_04_cat  ps_ind_18_bin  ps_ind_12_bin  ps_ind_14  \\\n",
       "0              0            1.0              0              0          0   \n",
       "1              1            1.0              0              0          0   \n",
       "2              1            0.0              0              0          0   \n",
       "3              0            0.0              0              0          0   \n",
       "4              1            0.0              0              0          0   \n",
       "\n",
       "   ps_reg_01_plus_ps_car_02_cat  ps_reg_01_plus_ps_car_04_cat  \n",
       "0                            14                            50  \n",
       "1                            23                            90  \n",
       "2                            11                            40  \n",
       "3                             3                            10  \n",
       "4                            23                            90  \n",
       "\n",
       "[5 rows x 36 columns]"
      ]
     },
     "execution_count": 18,
     "metadata": {},
     "output_type": "execute_result"
    }
   ],
   "source": [
    "df_test.head()"
   ]
  },
  {
   "cell_type": "code",
   "execution_count": 19,
   "metadata": {
    "collapsed": true
   },
   "outputs": [],
   "source": [
    "f_cats = [f for f in df_train.columns if \"_cat\" in f]"
   ]
  },
  {
   "cell_type": "code",
   "execution_count": 20,
   "metadata": {
    "collapsed": true
   },
   "outputs": [],
   "source": [
    "df = pd.read_csv('../cache/test_id.csv')"
   ]
  },
  {
   "cell_type": "code",
   "execution_count": 21,
   "metadata": {},
   "outputs": [
    {
     "data": {
      "text/html": [
       "<div>\n",
       "<style scoped>\n",
       "    .dataframe tbody tr th:only-of-type {\n",
       "        vertical-align: middle;\n",
       "    }\n",
       "\n",
       "    .dataframe tbody tr th {\n",
       "        vertical-align: top;\n",
       "    }\n",
       "\n",
       "    .dataframe thead th {\n",
       "        text-align: right;\n",
       "    }\n",
       "</style>\n",
       "<table border=\"1\" class=\"dataframe\">\n",
       "  <thead>\n",
       "    <tr style=\"text-align: right;\">\n",
       "      <th></th>\n",
       "      <th>id</th>\n",
       "    </tr>\n",
       "  </thead>\n",
       "  <tbody>\n",
       "    <tr>\n",
       "      <th>0</th>\n",
       "      <td>0</td>\n",
       "    </tr>\n",
       "    <tr>\n",
       "      <th>1</th>\n",
       "      <td>1</td>\n",
       "    </tr>\n",
       "    <tr>\n",
       "      <th>2</th>\n",
       "      <td>2</td>\n",
       "    </tr>\n",
       "    <tr>\n",
       "      <th>3</th>\n",
       "      <td>3</td>\n",
       "    </tr>\n",
       "    <tr>\n",
       "      <th>4</th>\n",
       "      <td>4</td>\n",
       "    </tr>\n",
       "  </tbody>\n",
       "</table>\n",
       "</div>"
      ],
      "text/plain": [
       "   id\n",
       "0   0\n",
       "1   1\n",
       "2   2\n",
       "3   3\n",
       "4   4"
      ]
     },
     "execution_count": 21,
     "metadata": {},
     "output_type": "execute_result"
    }
   ],
   "source": [
    "df.head()"
   ]
  },
  {
   "cell_type": "code",
   "execution_count": 22,
   "metadata": {
    "collapsed": true
   },
   "outputs": [],
   "source": [
    "id_test = df['id'].values\n",
    "id_train = df_train['id'].values\n",
    "y = df_train['target'].values"
   ]
  },
  {
   "cell_type": "code",
   "execution_count": 23,
   "metadata": {},
   "outputs": [
    {
     "data": {
      "text/plain": [
       "573518"
      ]
     },
     "execution_count": 23,
     "metadata": {},
     "output_type": "execute_result"
    }
   ],
   "source": [
    "sum(y == 0)"
   ]
  },
  {
   "cell_type": "code",
   "execution_count": 24,
   "metadata": {},
   "outputs": [
    {
     "data": {
      "text/plain": [
       "21694"
      ]
     },
     "execution_count": 24,
     "metadata": {},
     "output_type": "execute_result"
    }
   ],
   "source": [
    "sum(y==1)"
   ]
  },
  {
   "cell_type": "code",
   "execution_count": 25,
   "metadata": {
    "collapsed": true
   },
   "outputs": [],
   "source": [
    "sp = sum(y==0)/sum(y==1)"
   ]
  },
  {
   "cell_type": "code",
   "execution_count": 26,
   "metadata": {},
   "outputs": [
    {
     "data": {
      "text/plain": [
       "26.436710611228911"
      ]
     },
     "execution_count": 26,
     "metadata": {},
     "output_type": "execute_result"
    }
   ],
   "source": [
    "sp"
   ]
  },
  {
   "cell_type": "code",
   "execution_count": 27,
   "metadata": {},
   "outputs": [
    {
     "data": {
      "text/plain": [
       "['ps_ind_05_cat',\n",
       " 'ps_car_01_cat',\n",
       " 'ps_car_07_cat',\n",
       " 'ps_car_03_cat',\n",
       " 'ps_car_06_cat',\n",
       " 'ps_car_04_cat',\n",
       " 'ps_car_09_cat',\n",
       " 'ps_car_02_cat',\n",
       " 'ps_ind_02_cat',\n",
       " 'ps_car_05_cat',\n",
       " 'ps_car_08_cat',\n",
       " 'ps_ind_04_cat',\n",
       " 'ps_reg_01_plus_ps_car_02_cat',\n",
       " 'ps_reg_01_plus_ps_car_04_cat']"
      ]
     },
     "execution_count": 27,
     "metadata": {},
     "output_type": "execute_result"
    }
   ],
   "source": [
    "f_cats"
   ]
  },
  {
   "cell_type": "code",
   "execution_count": 28,
   "metadata": {
    "collapsed": true
   },
   "outputs": [],
   "source": [
    "# import category_encoders as ce\n",
    "\n",
    "# # encoder = ce.BackwardDifferenceEncoder(cols=f_cats)\n",
    "# encoder = ce.BinaryEncoder(cols=f_cats)\n",
    "# encoder = ce.HashingEncoder(cols=f_cats)\n",
    "# encoder = ce.HelmertEncoder(cols=f_cats)\n",
    "# encoder = ce.OneHotEncoder(cols=f_cats)\n",
    "# encoder = ce.OrdinalEncoder(cols=f_cats)\n",
    "# encoder = ce.SumEncoder(cols=f_cats)\n",
    "# encoder = ce.PolynomialEncoder(cols=f_cats)\n",
    "\n",
    "# encoder.fit(df_train, y)\n",
    "# df_train = encoder.transform(df_train)\n"
   ]
  },
  {
   "cell_type": "code",
   "execution_count": 29,
   "metadata": {
    "collapsed": true
   },
   "outputs": [],
   "source": [
    "def target_encode(trn_series=None,    # Revised to encode validation series\n",
    "#                   val_series=None,\n",
    "                  tst_series=None,\n",
    "                  target=None,\n",
    "                  min_samples_leaf=1,\n",
    "                  smoothing=1,\n",
    "                  noise_level=0):\n",
    "    \"\"\"\n",
    "    Smoothing is computed like in the following paper by Daniele Micci-Barreca\n",
    "    https://kaggle2.blob.core.windows.net/forum-message-attachments/225952/7441/high%20cardinality%20categoricals.pdf\n",
    "    trn_series : training categorical feature as a pd.Series\n",
    "    tst_series : test categorical feature as a pd.Series\n",
    "    target : target data as a pd.Series\n",
    "    min_samples_leaf (int) : minimum samples to take category average into account\n",
    "    smoothing (int) : smoothing effect to balance categorical average vs prior\n",
    "    \"\"\"\n",
    "    assert len(trn_series) == len(target)\n",
    "    assert trn_series.name == tst_series.name\n",
    "    temp = pd.concat([trn_series, target], axis=1)\n",
    "    # Compute target mean\n",
    "    averages = temp.groupby(by=trn_series.name)[target.name].agg([\"mean\", \"count\"])\n",
    "    # Compute smoothing\n",
    "    smoothing = 1 / (1 + np.exp(-(averages[\"count\"] - min_samples_leaf) / smoothing))\n",
    "    # Apply average function to all target data\n",
    "    prior = target.mean()\n",
    "    # The bigger the count the less full_avg is taken into account\n",
    "    averages[target.name] = prior * (1 - smoothing) + averages[\"mean\"] * smoothing\n",
    "    averages.drop([\"mean\", \"count\"], axis=1, inplace=True)\n",
    "    # Apply averages to trn and tst series\n",
    "    ft_trn_series = pd.merge(\n",
    "        trn_series.to_frame(trn_series.name),\n",
    "        averages.reset_index().rename(columns={'index': target.name, target.name: 'average'}),\n",
    "        on=trn_series.name,\n",
    "        how='left')['average'].rename(trn_series.name + '_mean').fillna(prior)\n",
    "    # pd.merge does not keep the index so restore it\n",
    "    ft_trn_series.index = trn_series.index\n",
    "#     ft_val_series = pd.merge(\n",
    "#         val_series.to_frame(val_series.name),\n",
    "#         averages.reset_index().rename(columns={'index': target.name, target.name: 'average'}),\n",
    "#         on=val_series.name,\n",
    "#         how='left')['average'].rename(trn_series.name + '_mean').fillna(prior)\n",
    "#     # pd.merge does not keep the index so restore it\n",
    "#     ft_val_series.index = val_series.index\n",
    "    ft_tst_series = pd.merge(\n",
    "        tst_series.to_frame(tst_series.name),\n",
    "        averages.reset_index().rename(columns={'index': target.name, target.name: 'average'}),\n",
    "        on=tst_series.name,\n",
    "        how='left')['average'].rename(trn_series.name + '_mean').fillna(prior)\n",
    "    # pd.merge does not keep the index so restore it\n",
    "    ft_tst_series.index = tst_series.index\n",
    "    return add_noise(ft_trn_series, noise_level), add_noise(ft_tst_series, noise_level)"
   ]
  },
  {
   "cell_type": "code",
   "execution_count": 30,
   "metadata": {
    "collapsed": true
   },
   "outputs": [],
   "source": [
    "for f_cat in f_cats:    \n",
    "#     df_train,df_test = BayesEncoding(df_train,df_test,'target',f_cat,f=1,noise=0.01)\n",
    "    df_train,df_test = LOOEncoding(df_train,df_test,'target',f_cat, noise=0.01)\n",
    "#     df_train,df_test = LOOEncodingKfold(df_train,df_test,'target',f_cat, noise=0.01)"
   ]
  },
  {
   "cell_type": "code",
   "execution_count": 31,
   "metadata": {
    "collapsed": true
   },
   "outputs": [],
   "source": [
    "# for f_cat in f_cats:\n",
    "#     df_train[f_cat + \"_avg\"], df_test[f_cat + \"_avg\"] = target_encode(trn_series=df_train[f_cat],\n",
    "#                                                               tst_series=df_test[f_cat],\n",
    "#                                                               target=df_train['target'],\n",
    "#                                                               min_samples_leaf=200,\n",
    "#                                                               smoothing=10,\n",
    "#                                                               noise_level=0\n",
    "#                                                              )"
   ]
  },
  {
   "cell_type": "code",
   "execution_count": 32,
   "metadata": {},
   "outputs": [
    {
     "data": {
      "text/plain": [
       "(595212, 52)"
      ]
     },
     "execution_count": 32,
     "metadata": {},
     "output_type": "execute_result"
    }
   ],
   "source": [
    "df_train.shape"
   ]
  },
  {
   "cell_type": "code",
   "execution_count": 33,
   "metadata": {},
   "outputs": [
    {
     "data": {
      "text/plain": [
       "(892816, 50)"
      ]
     },
     "execution_count": 33,
     "metadata": {},
     "output_type": "execute_result"
    }
   ],
   "source": [
    "df_test.shape"
   ]
  },
  {
   "cell_type": "code",
   "execution_count": 34,
   "metadata": {},
   "outputs": [
    {
     "data": {
      "text/html": [
       "<div>\n",
       "<style scoped>\n",
       "    .dataframe tbody tr th:only-of-type {\n",
       "        vertical-align: middle;\n",
       "    }\n",
       "\n",
       "    .dataframe tbody tr th {\n",
       "        vertical-align: top;\n",
       "    }\n",
       "\n",
       "    .dataframe thead th {\n",
       "        text-align: right;\n",
       "    }\n",
       "</style>\n",
       "<table border=\"1\" class=\"dataframe\">\n",
       "  <thead>\n",
       "    <tr style=\"text-align: right;\">\n",
       "      <th></th>\n",
       "      <th>ps_car_13</th>\n",
       "      <th>ps_reg_03</th>\n",
       "      <th>ps_ind_05_cat</th>\n",
       "      <th>ps_ind_03</th>\n",
       "      <th>ps_ind_15</th>\n",
       "      <th>ps_reg_02</th>\n",
       "      <th>ps_car_14</th>\n",
       "      <th>ps_car_12</th>\n",
       "      <th>ps_car_01_cat</th>\n",
       "      <th>ps_car_07_cat</th>\n",
       "      <th>...</th>\n",
       "      <th>loo_ps_car_06_cat</th>\n",
       "      <th>loo_ps_car_04_cat</th>\n",
       "      <th>loo_ps_car_09_cat</th>\n",
       "      <th>loo_ps_car_02_cat</th>\n",
       "      <th>loo_ps_ind_02_cat</th>\n",
       "      <th>loo_ps_car_05_cat</th>\n",
       "      <th>loo_ps_car_08_cat</th>\n",
       "      <th>loo_ps_ind_04_cat</th>\n",
       "      <th>loo_ps_reg_01_plus_ps_car_02_cat</th>\n",
       "      <th>loo_ps_reg_01_plus_ps_car_04_cat</th>\n",
       "    </tr>\n",
       "  </thead>\n",
       "  <tbody>\n",
       "    <tr>\n",
       "      <th>0</th>\n",
       "      <td>0.883679</td>\n",
       "      <td>0.718070</td>\n",
       "      <td>0.0</td>\n",
       "      <td>5</td>\n",
       "      <td>11</td>\n",
       "      <td>0.2</td>\n",
       "      <td>0.370810</td>\n",
       "      <td>0.400000</td>\n",
       "      <td>10.0</td>\n",
       "      <td>1.0</td>\n",
       "      <td>...</td>\n",
       "      <td>0.033972</td>\n",
       "      <td>0.033696</td>\n",
       "      <td>0.033066</td>\n",
       "      <td>0.034048</td>\n",
       "      <td>0.038213</td>\n",
       "      <td>0.040614</td>\n",
       "      <td>0.045007</td>\n",
       "      <td>0.038885</td>\n",
       "      <td>0.036315</td>\n",
       "      <td>0.035762</td>\n",
       "    </tr>\n",
       "    <tr>\n",
       "      <th>1</th>\n",
       "      <td>0.618817</td>\n",
       "      <td>0.766078</td>\n",
       "      <td>0.0</td>\n",
       "      <td>7</td>\n",
       "      <td>3</td>\n",
       "      <td>0.4</td>\n",
       "      <td>0.388716</td>\n",
       "      <td>0.316228</td>\n",
       "      <td>11.0</td>\n",
       "      <td>1.0</td>\n",
       "      <td>...</td>\n",
       "      <td>0.031783</td>\n",
       "      <td>0.033352</td>\n",
       "      <td>0.036280</td>\n",
       "      <td>0.033508</td>\n",
       "      <td>0.035814</td>\n",
       "      <td>0.031668</td>\n",
       "      <td>0.034426</td>\n",
       "      <td>0.034653</td>\n",
       "      <td>0.036053</td>\n",
       "      <td>0.036438</td>\n",
       "    </tr>\n",
       "    <tr>\n",
       "      <th>2</th>\n",
       "      <td>0.641586</td>\n",
       "      <td>-1.000000</td>\n",
       "      <td>0.0</td>\n",
       "      <td>9</td>\n",
       "      <td>12</td>\n",
       "      <td>0.0</td>\n",
       "      <td>0.347275</td>\n",
       "      <td>0.316228</td>\n",
       "      <td>7.0</td>\n",
       "      <td>1.0</td>\n",
       "      <td>...</td>\n",
       "      <td>0.034444</td>\n",
       "      <td>0.033766</td>\n",
       "      <td>0.036341</td>\n",
       "      <td>0.033675</td>\n",
       "      <td>0.041034</td>\n",
       "      <td>0.031927</td>\n",
       "      <td>0.034484</td>\n",
       "      <td>0.038634</td>\n",
       "      <td>0.037381</td>\n",
       "      <td>0.035752</td>\n",
       "    </tr>\n",
       "    <tr>\n",
       "      <th>3</th>\n",
       "      <td>0.542949</td>\n",
       "      <td>0.580948</td>\n",
       "      <td>0.0</td>\n",
       "      <td>2</td>\n",
       "      <td>8</td>\n",
       "      <td>0.2</td>\n",
       "      <td>0.294958</td>\n",
       "      <td>0.374166</td>\n",
       "      <td>7.0</td>\n",
       "      <td>1.0</td>\n",
       "      <td>...</td>\n",
       "      <td>0.031731</td>\n",
       "      <td>0.033546</td>\n",
       "      <td>0.035089</td>\n",
       "      <td>0.033557</td>\n",
       "      <td>0.035820</td>\n",
       "      <td>0.040215</td>\n",
       "      <td>0.035005</td>\n",
       "      <td>0.034646</td>\n",
       "      <td>0.037951</td>\n",
       "      <td>0.038162</td>\n",
       "    </tr>\n",
       "    <tr>\n",
       "      <th>4</th>\n",
       "      <td>0.565832</td>\n",
       "      <td>0.840759</td>\n",
       "      <td>0.0</td>\n",
       "      <td>0</td>\n",
       "      <td>9</td>\n",
       "      <td>0.6</td>\n",
       "      <td>0.365103</td>\n",
       "      <td>0.316070</td>\n",
       "      <td>11.0</td>\n",
       "      <td>1.0</td>\n",
       "      <td>...</td>\n",
       "      <td>0.034600</td>\n",
       "      <td>0.033779</td>\n",
       "      <td>0.036214</td>\n",
       "      <td>0.033858</td>\n",
       "      <td>0.038014</td>\n",
       "      <td>0.031402</td>\n",
       "      <td>0.035025</td>\n",
       "      <td>0.038389</td>\n",
       "      <td>0.035658</td>\n",
       "      <td>0.035647</td>\n",
       "    </tr>\n",
       "  </tbody>\n",
       "</table>\n",
       "<p>5 rows × 52 columns</p>\n",
       "</div>"
      ],
      "text/plain": [
       "   ps_car_13  ps_reg_03  ps_ind_05_cat  ps_ind_03  ps_ind_15  ps_reg_02  \\\n",
       "0   0.883679   0.718070            0.0          5         11        0.2   \n",
       "1   0.618817   0.766078            0.0          7          3        0.4   \n",
       "2   0.641586  -1.000000            0.0          9         12        0.0   \n",
       "3   0.542949   0.580948            0.0          2          8        0.2   \n",
       "4   0.565832   0.840759            0.0          0          9        0.6   \n",
       "\n",
       "   ps_car_14  ps_car_12  ps_car_01_cat  ps_car_07_cat  \\\n",
       "0   0.370810   0.400000           10.0            1.0   \n",
       "1   0.388716   0.316228           11.0            1.0   \n",
       "2   0.347275   0.316228            7.0            1.0   \n",
       "3   0.294958   0.374166            7.0            1.0   \n",
       "4   0.365103   0.316070           11.0            1.0   \n",
       "\n",
       "                 ...                 loo_ps_car_06_cat  loo_ps_car_04_cat  \\\n",
       "0                ...                          0.033972           0.033696   \n",
       "1                ...                          0.031783           0.033352   \n",
       "2                ...                          0.034444           0.033766   \n",
       "3                ...                          0.031731           0.033546   \n",
       "4                ...                          0.034600           0.033779   \n",
       "\n",
       "   loo_ps_car_09_cat  loo_ps_car_02_cat  loo_ps_ind_02_cat  loo_ps_car_05_cat  \\\n",
       "0           0.033066           0.034048           0.038213           0.040614   \n",
       "1           0.036280           0.033508           0.035814           0.031668   \n",
       "2           0.036341           0.033675           0.041034           0.031927   \n",
       "3           0.035089           0.033557           0.035820           0.040215   \n",
       "4           0.036214           0.033858           0.038014           0.031402   \n",
       "\n",
       "   loo_ps_car_08_cat  loo_ps_ind_04_cat  loo_ps_reg_01_plus_ps_car_02_cat  \\\n",
       "0           0.045007           0.038885                          0.036315   \n",
       "1           0.034426           0.034653                          0.036053   \n",
       "2           0.034484           0.038634                          0.037381   \n",
       "3           0.035005           0.034646                          0.037951   \n",
       "4           0.035025           0.038389                          0.035658   \n",
       "\n",
       "   loo_ps_reg_01_plus_ps_car_04_cat  \n",
       "0                          0.035762  \n",
       "1                          0.036438  \n",
       "2                          0.035752  \n",
       "3                          0.038162  \n",
       "4                          0.035647  \n",
       "\n",
       "[5 rows x 52 columns]"
      ]
     },
     "execution_count": 34,
     "metadata": {},
     "output_type": "execute_result"
    }
   ],
   "source": [
    "df_train.head()"
   ]
  },
  {
   "cell_type": "code",
   "execution_count": 35,
   "metadata": {
    "collapsed": true
   },
   "outputs": [],
   "source": [
    "for f in f_cats:\n",
    "    df_train = df_train.drop(f, axis=1)\n",
    "    df_test = df_test.drop(f, axis=1)"
   ]
  },
  {
   "cell_type": "code",
   "execution_count": 36,
   "metadata": {},
   "outputs": [
    {
     "data": {
      "text/plain": [
       "(595212, 38)"
      ]
     },
     "execution_count": 36,
     "metadata": {},
     "output_type": "execute_result"
    }
   ],
   "source": [
    "df_train.shape"
   ]
  },
  {
   "cell_type": "code",
   "execution_count": 37,
   "metadata": {},
   "outputs": [
    {
     "data": {
      "text/plain": [
       "(892816, 36)"
      ]
     },
     "execution_count": 37,
     "metadata": {},
     "output_type": "execute_result"
    }
   ],
   "source": [
    "df_test.shape"
   ]
  },
  {
   "cell_type": "code",
   "execution_count": 38,
   "metadata": {
    "collapsed": true
   },
   "outputs": [],
   "source": [
    "df_train = df_train.drop('id', axis=1)\n",
    "df_train = df_train.drop('target', axis=1)"
   ]
  },
  {
   "cell_type": "code",
   "execution_count": 39,
   "metadata": {},
   "outputs": [
    {
     "data": {
      "text/plain": [
       "(595212, 36)"
      ]
     },
     "execution_count": 39,
     "metadata": {},
     "output_type": "execute_result"
    }
   ],
   "source": [
    "df_train.shape"
   ]
  },
  {
   "cell_type": "code",
   "execution_count": 40,
   "metadata": {
    "collapsed": true
   },
   "outputs": [],
   "source": [
    "X = df_train"
   ]
  },
  {
   "cell_type": "code",
   "execution_count": 41,
   "metadata": {},
   "outputs": [
    {
     "data": {
      "text/plain": [
       "ps_car_13                           0\n",
       "ps_reg_03                           0\n",
       "ps_ind_03                           0\n",
       "ps_ind_15                           0\n",
       "ps_reg_02                           0\n",
       "ps_car_14                           0\n",
       "ps_car_12                           0\n",
       "ps_ind_17_bin                       0\n",
       "ps_reg_01                           0\n",
       "ps_car_15                           0\n",
       "ps_ind_01                           0\n",
       "ps_ind_16_bin                       0\n",
       "ps_ind_07_bin                       0\n",
       "ps_ind_06_bin                       0\n",
       "ps_car_11                           0\n",
       "ps_calc_09                          0\n",
       "ps_calc_05                          0\n",
       "ps_ind_08_bin                       0\n",
       "ps_ind_09_bin                       0\n",
       "ps_ind_18_bin                       0\n",
       "ps_ind_12_bin                       0\n",
       "ps_ind_14                           0\n",
       "loo_ps_ind_05_cat                   0\n",
       "loo_ps_car_01_cat                   0\n",
       "loo_ps_car_07_cat                   0\n",
       "loo_ps_car_03_cat                   0\n",
       "loo_ps_car_06_cat                   0\n",
       "loo_ps_car_04_cat                   0\n",
       "loo_ps_car_09_cat                   0\n",
       "loo_ps_car_02_cat                   0\n",
       "loo_ps_ind_02_cat                   0\n",
       "loo_ps_car_05_cat                   0\n",
       "loo_ps_car_08_cat                   0\n",
       "loo_ps_ind_04_cat                   0\n",
       "loo_ps_reg_01_plus_ps_car_02_cat    0\n",
       "loo_ps_reg_01_plus_ps_car_04_cat    0\n",
       "dtype: int64"
      ]
     },
     "execution_count": 41,
     "metadata": {},
     "output_type": "execute_result"
    }
   ],
   "source": [
    "X.isnull().sum()"
   ]
  },
  {
   "cell_type": "code",
   "execution_count": 42,
   "metadata": {},
   "outputs": [
    {
     "data": {
      "text/plain": [
       "ps_car_13                           0\n",
       "ps_reg_03                           0\n",
       "ps_ind_03                           0\n",
       "ps_ind_15                           0\n",
       "ps_reg_02                           0\n",
       "ps_car_14                           0\n",
       "ps_car_12                           0\n",
       "ps_ind_17_bin                       0\n",
       "ps_reg_01                           0\n",
       "ps_car_15                           0\n",
       "ps_ind_01                           0\n",
       "ps_ind_16_bin                       0\n",
       "ps_ind_07_bin                       0\n",
       "ps_ind_06_bin                       0\n",
       "ps_car_11                           0\n",
       "ps_calc_09                          0\n",
       "ps_calc_05                          0\n",
       "ps_ind_08_bin                       0\n",
       "ps_ind_09_bin                       0\n",
       "ps_ind_18_bin                       0\n",
       "ps_ind_12_bin                       0\n",
       "ps_ind_14                           0\n",
       "loo_ps_ind_05_cat                   0\n",
       "loo_ps_car_01_cat                   0\n",
       "loo_ps_car_07_cat                   0\n",
       "loo_ps_car_03_cat                   0\n",
       "loo_ps_car_06_cat                   0\n",
       "loo_ps_car_04_cat                   0\n",
       "loo_ps_car_09_cat                   0\n",
       "loo_ps_car_02_cat                   0\n",
       "loo_ps_ind_02_cat                   0\n",
       "loo_ps_car_05_cat                   0\n",
       "loo_ps_car_08_cat                   0\n",
       "loo_ps_ind_04_cat                   0\n",
       "loo_ps_reg_01_plus_ps_car_02_cat    1\n",
       "loo_ps_reg_01_plus_ps_car_04_cat    0\n",
       "dtype: int64"
      ]
     },
     "execution_count": 42,
     "metadata": {},
     "output_type": "execute_result"
    }
   ],
   "source": [
    "df_test.isnull().sum()"
   ]
  },
  {
   "cell_type": "code",
   "execution_count": 43,
   "metadata": {},
   "outputs": [
    {
     "data": {
      "text/plain": [
       "26.436710611228911"
      ]
     },
     "execution_count": 43,
     "metadata": {},
     "output_type": "execute_result"
    }
   ],
   "source": [
    "sp"
   ]
  },
  {
   "cell_type": "code",
   "execution_count": 44,
   "metadata": {
    "collapsed": true
   },
   "outputs": [],
   "source": [
    "wts = []\n",
    "wts = [26.43671 if i == 1 else 1 for i in y ]"
   ]
  },
  {
   "cell_type": "code",
   "execution_count": 45,
   "metadata": {},
   "outputs": [
    {
     "data": {
      "text/plain": [
       "21694"
      ]
     },
     "execution_count": 45,
     "metadata": {},
     "output_type": "execute_result"
    }
   ],
   "source": [
    "sum(pd.Series(wts) == 26.43671)"
   ]
  },
  {
   "cell_type": "code",
   "execution_count": 59,
   "metadata": {
    "collapsed": true
   },
   "outputs": [],
   "source": [
    "# model = XGBClassifier(    \n",
    "#                         n_estimators=MAX_ROUNDS,\n",
    "#                         max_depth=4,\n",
    "#                         objective=\"binary:logistic\",\n",
    "#                         learning_rate=LEARNING_RATE, \n",
    "#                         subsample=.8,\n",
    "#                         min_child_weight=6,\n",
    "#                         colsample_bytree=.8,\n",
    "#                         scale_pos_weight=1.6,\n",
    "#                         gamma=10,\n",
    "#                         reg_alpha=8,\n",
    "#                         reg_lambda=1.3,\n",
    "#                      )\n",
    "\n",
    "xgb_model = XGBClassifier(objective='binary:logistic', scale_pos_weight=26.43671, missing=-1)\n",
    "parameters = {\n",
    "    'n_estimators': [100,200],\n",
    "    'learning_rate': [0.03, 0.05, 0.08, 0.1], #so called `eta` value\n",
    "    'max_depth': sp_randint(1,11),\n",
    "    'subsample': [0.8, 0.7],\n",
    "    'colsample_bytree': [0.8, 0.7],\n",
    "    'gamma': sp_randint(1,10),\n",
    "    'reg_alpha': sp_randint(0,10),\n",
    "    'reg_lambda': [1,1.3],\n",
    "    'seed': [1337]\n",
    "}\n",
    "\n",
    "\n",
    "clf = RandomizedSearchCV(xgb_model, parameters, n_jobs=5, \n",
    "                   cv=StratifiedKFold(y, 5),\n",
    "                   scoring = gini_scorer,\n",
    "                   verbose=3, refit=True)\n"
   ]
  },
  {
   "cell_type": "code",
   "execution_count": 60,
   "metadata": {
    "collapsed": true
   },
   "outputs": [],
   "source": [
    "# clf = XGBClassifier(n_estimators=200,\n",
    "#     max_depth=4,\n",
    "#     objective=\"binary:logistic\",\n",
    "#     learning_rate=.1, \n",
    "#     subsample=.8, \n",
    "#     colsample_bytree=.8,\n",
    "#     scale_pos_weight=26.43671,\n",
    "#     gamma=1,\n",
    "#     reg_alpha=0,\n",
    "#     reg_lambda=1,\n",
    "#     missing=-1,\n",
    "#     nthread=2)"
   ]
  },
  {
   "cell_type": "code",
   "execution_count": 61,
   "metadata": {
    "collapsed": true
   },
   "outputs": [],
   "source": [
    "# x1, x2, y1, y2 = train_test_split(X, y, test_size=0.33, random_state=42, shuffle=True, stratify=y)"
   ]
  },
  {
   "cell_type": "code",
   "execution_count": 62,
   "metadata": {},
   "outputs": [
    {
     "name": "stdout",
     "output_type": "stream",
     "text": [
      "Fitting 5 folds for each of 10 candidates, totalling 50 fits\n",
      "[CV] reg_alpha=8, seed=1337, gamma=9, max_depth=2, n_estimators=100, learning_rate=0.1, subsample=0.7, reg_lambda=1, colsample_bytree=0.8 \n",
      "[CV] reg_alpha=8, seed=1337, gamma=9, max_depth=2, n_estimators=100, learning_rate=0.1, subsample=0.7, reg_lambda=1, colsample_bytree=0.8 \n",
      "[CV] reg_alpha=8, seed=1337, gamma=9, max_depth=2, n_estimators=100, learning_rate=0.1, subsample=0.7, reg_lambda=1, colsample_bytree=0.8 \n",
      "[CV] reg_alpha=8, seed=1337, gamma=9, max_depth=2, n_estimators=100, learning_rate=0.1, subsample=0.7, reg_lambda=1, colsample_bytree=0.8 \n",
      "[CV] reg_alpha=8, seed=1337, gamma=9, max_depth=2, n_estimators=100, learning_rate=0.1, subsample=0.7, reg_lambda=1, colsample_bytree=0.8 \n",
      "[CV]  reg_alpha=8, seed=1337, gamma=9, max_depth=2, n_estimators=100, learning_rate=0.1, subsample=0.7, reg_lambda=1, colsample_bytree=0.8, score=0.215782 - 1.6min\n",
      "[CV] reg_alpha=5, seed=1337, gamma=7, max_depth=4, n_estimators=100, learning_rate=0.03, subsample=0.8, reg_lambda=1, colsample_bytree=0.7 \n",
      "[CV]  reg_alpha=8, seed=1337, gamma=9, max_depth=2, n_estimators=100, learning_rate=0.1, subsample=0.7, reg_lambda=1, colsample_bytree=0.8, score=0.210906 - 1.6min\n",
      "[CV] reg_alpha=5, seed=1337, gamma=7, max_depth=4, n_estimators=100, learning_rate=0.03, subsample=0.8, reg_lambda=1, colsample_bytree=0.7 \n",
      "[CV]  reg_alpha=8, seed=1337, gamma=9, max_depth=2, n_estimators=100, learning_rate=0.1, subsample=0.7, reg_lambda=1, colsample_bytree=0.8, score=0.208103 - 1.6min\n",
      "[CV] reg_alpha=5, seed=1337, gamma=7, max_depth=4, n_estimators=100, learning_rate=0.03, subsample=0.8, reg_lambda=1, colsample_bytree=0.7 \n",
      "[CV]  reg_alpha=8, seed=1337, gamma=9, max_depth=2, n_estimators=100, learning_rate=0.1, subsample=0.7, reg_lambda=1, colsample_bytree=0.8, score=0.226452 - 1.7min\n",
      "[CV] reg_alpha=5, seed=1337, gamma=7, max_depth=4, n_estimators=100, learning_rate=0.03, subsample=0.8, reg_lambda=1, colsample_bytree=0.7 \n",
      "[CV]  reg_alpha=8, seed=1337, gamma=9, max_depth=2, n_estimators=100, learning_rate=0.1, subsample=0.7, reg_lambda=1, colsample_bytree=0.8, score=0.216354 - 1.8min\n",
      "[CV] reg_alpha=5, seed=1337, gamma=7, max_depth=4, n_estimators=100, learning_rate=0.03, subsample=0.8, reg_lambda=1, colsample_bytree=0.7 \n",
      "[CV]  reg_alpha=5, seed=1337, gamma=7, max_depth=4, n_estimators=100, learning_rate=0.03, subsample=0.8, reg_lambda=1, colsample_bytree=0.7, score=0.206556 - 2.8min\n",
      "[CV] reg_alpha=1, seed=1337, gamma=7, max_depth=6, n_estimators=100, learning_rate=0.05, subsample=0.7, reg_lambda=1, colsample_bytree=0.7 \n",
      "[CV]  reg_alpha=5, seed=1337, gamma=7, max_depth=4, n_estimators=100, learning_rate=0.03, subsample=0.8, reg_lambda=1, colsample_bytree=0.7, score=0.210024 - 2.9min\n",
      "[CV] reg_alpha=1, seed=1337, gamma=7, max_depth=6, n_estimators=100, learning_rate=0.05, subsample=0.7, reg_lambda=1, colsample_bytree=0.7 \n",
      "[CV]  reg_alpha=5, seed=1337, gamma=7, max_depth=4, n_estimators=100, learning_rate=0.03, subsample=0.8, reg_lambda=1, colsample_bytree=0.7, score=0.201915 - 3.0min\n",
      "[CV] reg_alpha=1, seed=1337, gamma=7, max_depth=6, n_estimators=100, learning_rate=0.05, subsample=0.7, reg_lambda=1, colsample_bytree=0.7 \n",
      "[CV]  reg_alpha=5, seed=1337, gamma=7, max_depth=4, n_estimators=100, learning_rate=0.03, subsample=0.8, reg_lambda=1, colsample_bytree=0.7, score=0.215063 - 3.1min\n",
      "[CV] reg_alpha=1, seed=1337, gamma=7, max_depth=6, n_estimators=100, learning_rate=0.05, subsample=0.7, reg_lambda=1, colsample_bytree=0.7 \n",
      "[CV]  reg_alpha=5, seed=1337, gamma=7, max_depth=4, n_estimators=100, learning_rate=0.03, subsample=0.8, reg_lambda=1, colsample_bytree=0.7, score=0.207179 - 3.0min\n",
      "[CV] reg_alpha=1, seed=1337, gamma=7, max_depth=6, n_estimators=100, learning_rate=0.05, subsample=0.7, reg_lambda=1, colsample_bytree=0.7 \n",
      "[CV]  reg_alpha=1, seed=1337, gamma=7, max_depth=6, n_estimators=100, learning_rate=0.05, subsample=0.7, reg_lambda=1, colsample_bytree=0.7, score=0.233239 - 4.1min\n",
      "[CV] reg_alpha=2, seed=1337, gamma=6, max_depth=1, n_estimators=100, learning_rate=0.08, subsample=0.8, reg_lambda=1, colsample_bytree=0.8 \n",
      "[CV]  reg_alpha=1, seed=1337, gamma=7, max_depth=6, n_estimators=100, learning_rate=0.05, subsample=0.7, reg_lambda=1, colsample_bytree=0.7, score=0.242746 - 4.4min\n",
      "[CV] reg_alpha=2, seed=1337, gamma=6, max_depth=1, n_estimators=100, learning_rate=0.08, subsample=0.8, reg_lambda=1, colsample_bytree=0.8 \n",
      "[CV]  reg_alpha=1, seed=1337, gamma=7, max_depth=6, n_estimators=100, learning_rate=0.05, subsample=0.7, reg_lambda=1, colsample_bytree=0.7, score=0.246856 - 4.5min\n",
      "[CV] reg_alpha=2, seed=1337, gamma=6, max_depth=1, n_estimators=100, learning_rate=0.08, subsample=0.8, reg_lambda=1, colsample_bytree=0.8 \n",
      "[CV]  reg_alpha=1, seed=1337, gamma=7, max_depth=6, n_estimators=100, learning_rate=0.05, subsample=0.7, reg_lambda=1, colsample_bytree=0.7, score=0.252909 - 4.4min\n",
      "[CV] reg_alpha=2, seed=1337, gamma=6, max_depth=1, n_estimators=100, learning_rate=0.08, subsample=0.8, reg_lambda=1, colsample_bytree=0.8 \n",
      "[CV]  reg_alpha=1, seed=1337, gamma=7, max_depth=6, n_estimators=100, learning_rate=0.05, subsample=0.7, reg_lambda=1, colsample_bytree=0.7, score=0.229076 - 4.4min\n",
      "[CV] reg_alpha=2, seed=1337, gamma=6, max_depth=1, n_estimators=100, learning_rate=0.08, subsample=0.8, reg_lambda=1, colsample_bytree=0.8 \n",
      "[CV]  reg_alpha=2, seed=1337, gamma=6, max_depth=1, n_estimators=100, learning_rate=0.08, subsample=0.8, reg_lambda=1, colsample_bytree=0.8, score=0.189975 -  49.4s\n",
      "[CV] reg_alpha=1, seed=1337, gamma=4, max_depth=7, n_estimators=200, learning_rate=0.1, subsample=0.7, reg_lambda=1.3, colsample_bytree=0.8 \n",
      "[CV]  reg_alpha=2, seed=1337, gamma=6, max_depth=1, n_estimators=100, learning_rate=0.08, subsample=0.8, reg_lambda=1, colsample_bytree=0.8, score=0.177485 -  49.4s\n",
      "[CV] reg_alpha=1, seed=1337, gamma=4, max_depth=7, n_estimators=200, learning_rate=0.1, subsample=0.7, reg_lambda=1.3, colsample_bytree=0.8 \n",
      "[CV]  reg_alpha=2, seed=1337, gamma=6, max_depth=1, n_estimators=100, learning_rate=0.08, subsample=0.8, reg_lambda=1, colsample_bytree=0.8, score=0.181858 -  54.0s\n",
      "[CV] reg_alpha=1, seed=1337, gamma=4, max_depth=7, n_estimators=200, learning_rate=0.1, subsample=0.7, reg_lambda=1.3, colsample_bytree=0.8 \n",
      "[CV]  reg_alpha=2, seed=1337, gamma=6, max_depth=1, n_estimators=100, learning_rate=0.08, subsample=0.8, reg_lambda=1, colsample_bytree=0.8, score=0.175567 -  51.1s\n",
      "[CV] reg_alpha=1, seed=1337, gamma=4, max_depth=7, n_estimators=200, learning_rate=0.1, subsample=0.7, reg_lambda=1.3, colsample_bytree=0.8 \n",
      "[CV]  reg_alpha=2, seed=1337, gamma=6, max_depth=1, n_estimators=100, learning_rate=0.08, subsample=0.8, reg_lambda=1, colsample_bytree=0.8, score=0.175431 -  57.8s\n",
      "[CV] reg_alpha=1, seed=1337, gamma=4, max_depth=7, n_estimators=200, learning_rate=0.1, subsample=0.7, reg_lambda=1.3, colsample_bytree=0.8 \n",
      "[CV]  reg_alpha=1, seed=1337, gamma=4, max_depth=7, n_estimators=200, learning_rate=0.1, subsample=0.7, reg_lambda=1.3, colsample_bytree=0.8, score=0.293613 -10.8min\n",
      "[CV] reg_alpha=0, seed=1337, gamma=2, max_depth=3, n_estimators=200, learning_rate=0.05, subsample=0.8, reg_lambda=1, colsample_bytree=0.7 \n",
      "[CV]  reg_alpha=1, seed=1337, gamma=4, max_depth=7, n_estimators=200, learning_rate=0.1, subsample=0.7, reg_lambda=1.3, colsample_bytree=0.8, score=0.290455 -11.2min\n",
      "[CV] reg_alpha=0, seed=1337, gamma=2, max_depth=3, n_estimators=200, learning_rate=0.05, subsample=0.8, reg_lambda=1, colsample_bytree=0.7 \n"
     ]
    },
    {
     "name": "stderr",
     "output_type": "stream",
     "text": [
      "[Parallel(n_jobs=5)]: Done  22 tasks      | elapsed: 21.1min\n"
     ]
    },
    {
     "name": "stdout",
     "output_type": "stream",
     "text": [
      "[CV]  reg_alpha=1, seed=1337, gamma=4, max_depth=7, n_estimators=200, learning_rate=0.1, subsample=0.7, reg_lambda=1.3, colsample_bytree=0.8, score=0.280380 -11.5min\n",
      "[CV] reg_alpha=0, seed=1337, gamma=2, max_depth=3, n_estimators=200, learning_rate=0.05, subsample=0.8, reg_lambda=1, colsample_bytree=0.7 \n",
      "[CV]  reg_alpha=1, seed=1337, gamma=4, max_depth=7, n_estimators=200, learning_rate=0.1, subsample=0.7, reg_lambda=1.3, colsample_bytree=0.8, score=0.295245 -11.3min\n",
      "[CV] reg_alpha=0, seed=1337, gamma=2, max_depth=3, n_estimators=200, learning_rate=0.05, subsample=0.8, reg_lambda=1, colsample_bytree=0.7 \n",
      "[CV]  reg_alpha=1, seed=1337, gamma=4, max_depth=7, n_estimators=200, learning_rate=0.1, subsample=0.7, reg_lambda=1.3, colsample_bytree=0.8, score=0.270838 -12.0min\n",
      "[CV] reg_alpha=0, seed=1337, gamma=2, max_depth=3, n_estimators=200, learning_rate=0.05, subsample=0.8, reg_lambda=1, colsample_bytree=0.7 \n",
      "[CV]  reg_alpha=0, seed=1337, gamma=2, max_depth=3, n_estimators=200, learning_rate=0.05, subsample=0.8, reg_lambda=1, colsample_bytree=0.7, score=0.233117 - 4.2min\n",
      "[CV] reg_alpha=5, seed=1337, gamma=6, max_depth=1, n_estimators=200, learning_rate=0.05, subsample=0.7, reg_lambda=1, colsample_bytree=0.7 \n",
      "[CV]  reg_alpha=0, seed=1337, gamma=2, max_depth=3, n_estimators=200, learning_rate=0.05, subsample=0.8, reg_lambda=1, colsample_bytree=0.7, score=0.230897 - 4.1min\n",
      "[CV] reg_alpha=5, seed=1337, gamma=6, max_depth=1, n_estimators=200, learning_rate=0.05, subsample=0.7, reg_lambda=1, colsample_bytree=0.7 \n",
      "[CV]  reg_alpha=0, seed=1337, gamma=2, max_depth=3, n_estimators=200, learning_rate=0.05, subsample=0.8, reg_lambda=1, colsample_bytree=0.7, score=0.220638 - 4.2min\n",
      "[CV] reg_alpha=5, seed=1337, gamma=6, max_depth=1, n_estimators=200, learning_rate=0.05, subsample=0.7, reg_lambda=1, colsample_bytree=0.7 \n",
      "[CV]  reg_alpha=0, seed=1337, gamma=2, max_depth=3, n_estimators=200, learning_rate=0.05, subsample=0.8, reg_lambda=1, colsample_bytree=0.7, score=0.233569 - 4.2min\n",
      "[CV] reg_alpha=5, seed=1337, gamma=6, max_depth=1, n_estimators=200, learning_rate=0.05, subsample=0.7, reg_lambda=1, colsample_bytree=0.7 \n",
      "[CV]  reg_alpha=0, seed=1337, gamma=2, max_depth=3, n_estimators=200, learning_rate=0.05, subsample=0.8, reg_lambda=1, colsample_bytree=0.7, score=0.226523 - 4.1min\n",
      "[CV] reg_alpha=5, seed=1337, gamma=6, max_depth=1, n_estimators=200, learning_rate=0.05, subsample=0.7, reg_lambda=1, colsample_bytree=0.7 \n",
      "[CV]  reg_alpha=5, seed=1337, gamma=6, max_depth=1, n_estimators=200, learning_rate=0.05, subsample=0.7, reg_lambda=1, colsample_bytree=0.7, score=0.195203 - 1.6min\n",
      "[CV] reg_alpha=7, seed=1337, gamma=4, max_depth=4, n_estimators=200, learning_rate=0.03, subsample=0.8, reg_lambda=1.3, colsample_bytree=0.8 \n",
      "[CV]  reg_alpha=5, seed=1337, gamma=6, max_depth=1, n_estimators=200, learning_rate=0.05, subsample=0.7, reg_lambda=1, colsample_bytree=0.7, score=0.185127 - 1.6min\n",
      "[CV] reg_alpha=7, seed=1337, gamma=4, max_depth=4, n_estimators=200, learning_rate=0.03, subsample=0.8, reg_lambda=1.3, colsample_bytree=0.8 \n",
      "[CV]  reg_alpha=5, seed=1337, gamma=6, max_depth=1, n_estimators=200, learning_rate=0.05, subsample=0.7, reg_lambda=1, colsample_bytree=0.7, score=0.184560 - 1.7min\n",
      "[CV] reg_alpha=7, seed=1337, gamma=4, max_depth=4, n_estimators=200, learning_rate=0.03, subsample=0.8, reg_lambda=1.3, colsample_bytree=0.8 \n",
      "[CV]  reg_alpha=5, seed=1337, gamma=6, max_depth=1, n_estimators=200, learning_rate=0.05, subsample=0.7, reg_lambda=1, colsample_bytree=0.7, score=0.185109 - 1.6min\n",
      "[CV] reg_alpha=7, seed=1337, gamma=4, max_depth=4, n_estimators=200, learning_rate=0.03, subsample=0.8, reg_lambda=1.3, colsample_bytree=0.8 \n",
      "[CV]  reg_alpha=5, seed=1337, gamma=6, max_depth=1, n_estimators=200, learning_rate=0.05, subsample=0.7, reg_lambda=1, colsample_bytree=0.7, score=0.183267 - 1.7min\n",
      "[CV] reg_alpha=7, seed=1337, gamma=4, max_depth=4, n_estimators=200, learning_rate=0.03, subsample=0.8, reg_lambda=1.3, colsample_bytree=0.8 \n",
      "[CV]  reg_alpha=7, seed=1337, gamma=4, max_depth=4, n_estimators=200, learning_rate=0.03, subsample=0.8, reg_lambda=1.3, colsample_bytree=0.8, score=0.232015 - 6.6min\n",
      "[CV] reg_alpha=5, seed=1337, gamma=7, max_depth=6, n_estimators=100, learning_rate=0.08, subsample=0.8, reg_lambda=1, colsample_bytree=0.8 \n",
      "[CV]  reg_alpha=7, seed=1337, gamma=4, max_depth=4, n_estimators=200, learning_rate=0.03, subsample=0.8, reg_lambda=1.3, colsample_bytree=0.8, score=0.219698 - 6.3min\n",
      "[CV] reg_alpha=5, seed=1337, gamma=7, max_depth=6, n_estimators=100, learning_rate=0.08, subsample=0.8, reg_lambda=1, colsample_bytree=0.8 \n",
      "[CV]  reg_alpha=7, seed=1337, gamma=4, max_depth=4, n_estimators=200, learning_rate=0.03, subsample=0.8, reg_lambda=1.3, colsample_bytree=0.8, score=0.234319 - 6.6min\n",
      "[CV] reg_alpha=5, seed=1337, gamma=7, max_depth=6, n_estimators=100, learning_rate=0.08, subsample=0.8, reg_lambda=1, colsample_bytree=0.8 \n",
      "[CV]  reg_alpha=7, seed=1337, gamma=4, max_depth=4, n_estimators=200, learning_rate=0.03, subsample=0.8, reg_lambda=1.3, colsample_bytree=0.8, score=0.237559 - 6.6min\n",
      "[CV] reg_alpha=5, seed=1337, gamma=7, max_depth=6, n_estimators=100, learning_rate=0.08, subsample=0.8, reg_lambda=1, colsample_bytree=0.8 \n",
      "[CV]  reg_alpha=7, seed=1337, gamma=4, max_depth=4, n_estimators=200, learning_rate=0.03, subsample=0.8, reg_lambda=1.3, colsample_bytree=0.8, score=0.225762 - 6.6min\n",
      "[CV] reg_alpha=5, seed=1337, gamma=7, max_depth=6, n_estimators=100, learning_rate=0.08, subsample=0.8, reg_lambda=1, colsample_bytree=0.8 \n",
      "[CV]  reg_alpha=5, seed=1337, gamma=7, max_depth=6, n_estimators=100, learning_rate=0.08, subsample=0.8, reg_lambda=1, colsample_bytree=0.8, score=0.255245 - 4.8min\n",
      "[CV] reg_alpha=4, seed=1337, gamma=7, max_depth=5, n_estimators=200, learning_rate=0.1, subsample=0.8, reg_lambda=1.3, colsample_bytree=0.8 \n",
      "[CV]  reg_alpha=5, seed=1337, gamma=7, max_depth=6, n_estimators=100, learning_rate=0.08, subsample=0.8, reg_lambda=1, colsample_bytree=0.8, score=0.257728 - 4.8min\n",
      "[CV] reg_alpha=4, seed=1337, gamma=7, max_depth=5, n_estimators=200, learning_rate=0.1, subsample=0.8, reg_lambda=1.3, colsample_bytree=0.8 \n",
      "[CV]  reg_alpha=5, seed=1337, gamma=7, max_depth=6, n_estimators=100, learning_rate=0.08, subsample=0.8, reg_lambda=1, colsample_bytree=0.8, score=0.252780 - 4.9min\n",
      "[CV] reg_alpha=4, seed=1337, gamma=7, max_depth=5, n_estimators=200, learning_rate=0.1, subsample=0.8, reg_lambda=1.3, colsample_bytree=0.8 \n",
      "[CV]  reg_alpha=5, seed=1337, gamma=7, max_depth=6, n_estimators=100, learning_rate=0.08, subsample=0.8, reg_lambda=1, colsample_bytree=0.8, score=0.264028 - 4.7min\n",
      "[CV] reg_alpha=4, seed=1337, gamma=7, max_depth=5, n_estimators=200, learning_rate=0.1, subsample=0.8, reg_lambda=1.3, colsample_bytree=0.8 \n",
      "[CV]  reg_alpha=5, seed=1337, gamma=7, max_depth=6, n_estimators=100, learning_rate=0.08, subsample=0.8, reg_lambda=1, colsample_bytree=0.8, score=0.252342 - 4.6min\n",
      "[CV] reg_alpha=4, seed=1337, gamma=7, max_depth=5, n_estimators=200, learning_rate=0.1, subsample=0.8, reg_lambda=1.3, colsample_bytree=0.8 \n",
      "[CV]  reg_alpha=4, seed=1337, gamma=7, max_depth=5, n_estimators=200, learning_rate=0.1, subsample=0.8, reg_lambda=1.3, colsample_bytree=0.8, score=0.291944 - 7.9min\n",
      "[CV]  reg_alpha=4, seed=1337, gamma=7, max_depth=5, n_estimators=200, learning_rate=0.1, subsample=0.8, reg_lambda=1.3, colsample_bytree=0.8, score=0.286828 - 8.2min\n",
      "[CV]  reg_alpha=4, seed=1337, gamma=7, max_depth=5, n_estimators=200, learning_rate=0.1, subsample=0.8, reg_lambda=1.3, colsample_bytree=0.8, score=0.277528 - 8.1min\n",
      "[CV]  reg_alpha=4, seed=1337, gamma=7, max_depth=5, n_estimators=200, learning_rate=0.1, subsample=0.8, reg_lambda=1.3, colsample_bytree=0.8, score=0.294785 - 8.1min\n",
      "[CV]  reg_alpha=4, seed=1337, gamma=7, max_depth=5, n_estimators=200, learning_rate=0.1, subsample=0.8, reg_lambda=1.3, colsample_bytree=0.8, score=0.280038 - 7.6min\n"
     ]
    },
    {
     "name": "stderr",
     "output_type": "stream",
     "text": [
      "[Parallel(n_jobs=5)]: Done  50 out of  50 | elapsed: 46.7min finished\n"
     ]
    },
    {
     "data": {
      "text/plain": [
       "RandomizedSearchCV(cv=sklearn.cross_validation.StratifiedKFold(labels=[0 0 ..., 0 0], n_folds=5, shuffle=False, random_state=None),\n",
       "          error_score='raise',\n",
       "          estimator=XGBClassifier(base_score=0.5, booster='gbtree', colsample_bylevel=1,\n",
       "       colsample_bytree=1, gamma=0, learning_rate=0.1, max_delta_step=0,\n",
       "       max_depth=3, min_child_weight=1, missing=-1, n_estimators=100,\n",
       "       n_jobs=1, nthread=None, objective='binary:logistic', random_state=0,\n",
       "       reg_alpha=0, reg_lambda=1, scale_pos_weight=26.43671, seed=None,\n",
       "       silent=True, subsample=1),\n",
       "          fit_params={}, iid=True, n_iter=10, n_jobs=5,\n",
       "          param_distributions={'reg_alpha': <scipy.stats._distn_infrastructure.rv_frozen object at 0x7fb2cced8160>, 'seed': [1337], 'reg_lambda': [1, 1.3], 'gamma': <scipy.stats._distn_infrastructure.rv_frozen object at 0x7fb2cced8320>, 'max_depth': <scipy.stats._distn_infrastructure.rv_frozen object at 0x7fb2cced8f28>, 'subsample': [0.8, 0.7], 'n_estimators': [100, 200], 'learning_rate': [0.03, 0.05, 0.08, 0.1], 'colsample_bytree': [0.8, 0.7]},\n",
       "          pre_dispatch='2*n_jobs', random_state=None, refit=True,\n",
       "          scoring=make_scorer(gini_normalized), verbose=3)"
      ]
     },
     "execution_count": 62,
     "metadata": {},
     "output_type": "execute_result"
    }
   ],
   "source": [
    "clf.fit(X, y)\n",
    "# clf.fit(x1, y1, \n",
    "#     eval_set=[(x1, y1), (x2, y2)],\n",
    "#     eval_metric=gini_xgb,\n",
    "#     early_stopping_rounds=None,\n",
    "#     verbose=True)"
   ]
  },
  {
   "cell_type": "code",
   "execution_count": 63,
   "metadata": {},
   "outputs": [
    {
     "name": "stdout",
     "output_type": "stream",
     "text": [
      "0.2862247407834804\n",
      "{'reg_lambda': 1.3, 'reg_alpha': 4, 'seed': 1337, 'gamma': 7, 'max_depth': 5, 'subsample': 0.8, 'n_estimators': 200, 'learning_rate': 0.1, 'colsample_bytree': 0.8}\n"
     ]
    }
   ],
   "source": [
    "print(clf.best_score_)\n",
    "print(clf.best_params_)\n",
    "\n",
    "# 0.24184412440294284\n",
    "# {'reg_lambda': 1, 'reg_alpha': 9, 'seed': 1337, 'gamma': 13, 'max_depth': 8, 'silent': 1, \n",
    "#  'subsample': 0.7, 'min_child_weight': 4, 'learning_rate': 0.08, 'colsample_bytree': 0.8, 'missing': -999}\n",
    "# 0.254 on public LB,\n",
    "\n",
    "# 0.2382713543302345\n",
    "# {'seed': 1337, 'max_depth': 5, 'silent': 1, 'subsample': 0.8, 'min_child_weight': 5, \n",
    "#  'learning_rate': 0.08, 'colsample_bytree': 0.7, 'missing': -999}\n",
    "# when gamma, reg_alpha, reg_lamda is filetered out, using new gini scorer\n",
    "\n",
    "# 0.23755666055779237\n",
    "# {'seed': 1337, 'gamma': 6, 'silent': 1, 'subsample': 0.8, 'min_child_weight': 6, \n",
    "#  'learning_rate': 0.1, 'colsample_bytree': 0.7, 'missing': -999, 'reg_alpha': 8, 'max_depth': 9, \n",
    "#  'scale_pos_weight': 26.4367, 'reg_lambda': 3.0}\n",
    "# putting gamma back, shifting scale_pos_weightin parameters, using new gini scorer\n",
    "\n",
    "# using f =10 and noise=0 in the encoding functions\n",
    "# 1.0\n",
    "# {'seed': 1337, 'gamma': 2, 'silent': 1, 'subsample': 0.8, 'min_child_weight': 7, 'learning_rate': 0.1, 'colsample_bytree': 0.8, 'missing': -999, 'reg_alpha': 5, \n",
    "#  'max_depth': 4, 'scale_pos_weight': 26.4367, 'reg_lambda': 0}\n",
    "\n",
    "# using f =10 and noise=0 in the encoding functions, dropped LOO\n",
    "# 0.203635367561805\n",
    "# {'seed': 1337, 'gamma': 5, 'silent': 1, 'subsample': 0.7, 'min_child_weight': 6, 'learning_rate': 0.1, 'colsample_bytree': 0.7, 'missing': -999, \n",
    "#  'reg_alpha': 7, 'max_depth': 4, 'scale_pos_weight': 26.4367, 'reg_lambda': 2.0}\n",
    "\n",
    "# using f = 20, noise=0.0, no LOO\n",
    "# 0.1982897319930031\n",
    "# {'seed': 1337, 'gamma': 1, 'silent': 1, 'subsample': 0.8, 'min_child_weight': 1, 'learning_rate': 0.06, 'colsample_bytree': 0.8, 'missing': -999, 'reg_alpha': 6, \n",
    "#  'max_depth': 6, 'scale_pos_weight': 26.4367, 'reg_lambda': 1.3}\n",
    "\n",
    "# f = 10, noise=0.01 no LOO\n",
    "# 0.1921171790111911\n",
    "# {'seed': 1337, 'gamma': 2, 'silent': 1, 'subsample': 0.7, 'min_child_weight': 10, 'learning_rate': 0.05, 'colsample_bytree': 0.7, 'missing': -999, \n",
    "#  'reg_alpha': 9, 'max_depth': 6, 'scale_pos_weight': 26.4367, 'reg_lambda': 0}\n",
    "\n",
    "# f = 1, noise=0.01, no LOO\n",
    "#0.19488331448594218\n",
    "# {'seed': 1337, 'gamma': 5, 'silent': 1, 'subsample': 0.7, 'min_child_weight': 3, 'learning_rate': 0.06, 'colsample_bytree': 0.7, 'missing': -999, 'reg_alpha': 4, 'max_depth': 4, 'scale_pos_weight': 26.4367, 'reg_lambda': 0}\n",
    "# In [45]:\n",
    "\n",
    "# LOO only, noise=0\n",
    "# 1.0\n",
    "# {'seed': 1337, 'gamma': 0, 'silent': 1, 'subsample': 0.8, 'min_child_weight': 8, 'learning_rate': 0.08, 'colsample_bytree': 0.8, 'missing': -999, 'reg_alpha': 7, \n",
    "#  'max_depth': 8, 'scale_pos_weight': 26.4367, 'reg_lambda': 0}\n",
    "\n",
    "# LOO only , noise=0.01, last gini\n",
    "# 0.2572973729916049\n",
    "# {'seed': 1337, 'gamma': 8, 'silent': 1, 'subsample': 0.7, 'min_child_weight': 6, 'learning_rate': 0.1, 'colsample_bytree': 0.7, 'missing': -999, 'reg_alpha': 0, \n",
    "#  'max_depth': 6, 'scale_pos_weight': 26.4367, 'reg_lambda': 1.5}\n",
    "# scored 0.264 on pubic LB\n",
    "\n",
    "# LOO only, noise=0.01, with eval_gini\n",
    "# 0.2572973729916049\n",
    "# {'seed': 1337, 'gamma': 8, 'silent': 1, 'subsample': 0.7, 'min_child_weight': 6, 'learning_rate': 0.1, 'colsample_bytree': 0.7, 'missing': -999, \n",
    "#  'reg_alpha': 0, 'max_depth': 6, 'scale_pos_weight': 26.4367, 'reg_lambda': 1.5}\n",
    "\n",
    "# LOO only, noise=0.02, with eval_gini\n",
    "# 0.212160199299836\n",
    "# {'seed': 1337, 'gamma': 11, 'silent': 1, 'subsample': 0.7, 'min_child_weight': 5, 'learning_rate': 0.07, 'colsample_bytree': 0.7, 'missing': -999, 'reg_alpha': 2, \n",
    "#  'max_depth': 5, 'scale_pos_weight': 26.4367, 'reg_lambda': 3.0}\n",
    "\n",
    "# LOOKFold, noise=0.01, eval gini\n",
    "# 0.15067528137467348\n",
    "# {'seed': 1337, 'gamma': 14, 'silent': 1, 'subsample': 0.8, 'min_child_weight': 8, 'learning_rate': 0.04, 'colsample_bytree': 0.8, 'missing': -999, \n",
    "#  'reg_alpha': 2, 'max_depth': 4, 'scale_pos_weight': 26.4367, 'reg_lambda': 1}\n",
    "\n",
    "# Backward Diff encoder\n",
    "# 1.0\n",
    "# {'seed': 1337, 'gamma': 10, 'silent': 1, 'subsample': 0.8, 'min_child_weight': 9, \n",
    "#  'learning_rate': 0.05, 'colsample_bytree': 0.7, 'missing': -999, 'reg_alpha': 7, 'max_depth': 9, 'scale_pos_weight': 26.4367, 'reg_lambda': 2.0}\n",
    "# In [42]:\n",
    "\n",
    "# Hashing Encoder\n",
    "# 0.18163349897449646\n",
    "# {'seed': 1337, 'gamma': 1, 'silent': 1, 'subsample': 0.8, 'min_child_weight': 9, 'learning_rate': 0.05, 'colsample_bytree': 0.7, 'missing': -999, 'reg_alpha': 7, \n",
    "#  'max_depth': 4, 'scale_pos_weight': 26.4367, 'reg_lambda': 1.5}\n",
    "\n",
    "# helmert\n",
    "# 0.1998236311643095\n",
    "# {'seed': 1337, 'gamma': 4, 'silent': 1, 'subsample': 0.8, 'min_child_weight': 8, 'learning_rate': 0.07, 'colsample_bytree': 0.8, 'missing': -999, 'reg_alpha': 6, \n",
    "#  'max_depth': 5, 'scale_pos_weight': 26.4367, 'reg_lambda': 0}\n",
    "\n",
    "# OneHot\n",
    "# 0.1974928419377269\n",
    "# {'seed': 1337, 'gamma': 10, 'silent': 1, 'subsample': 0.7, 'min_child_weight': 1, 'learning_rate': 0.06, 'colsample_bytree': 0.8, 'missing': -999, 'reg_alpha': 7, \n",
    "#  'max_depth': 6, 'scale_pos_weight': 26.4367, 'reg_lambda': 1.5}\n",
    "\n",
    "#ordinal\n",
    "# 1.0\n",
    "#stopped\n",
    "\n",
    "# Polynomial encoder\n",
    "# 0.19832716986326504\n",
    "# {'seed': 1337, 'gamma': 7, 'silent': 1, 'subsample': 0.7, 'min_child_weight': 5, 'learning_rate': 0.06, 'colsample_bytree': 0.8, 'missing': -999, 'reg_alpha': 1,\n",
    "#  'max_depth': 4, 'scale_pos_weight': 26.4367, 'reg_lambda': 1}\n",
    "\n",
    "# Sum encoder\n",
    "# 0.1981555069566366\n",
    "# {'seed': 1337, 'gamma': 7, 'silent': 1, 'subsample': 0.7, 'min_child_weight': 1, 'learning_rate': 0.05, 'colsample_bytree': 0.8, 'missing': -999, 'reg_alpha': 9, \n",
    "#  'max_depth': 7, 'scale_pos_weight': 26.4367, 'reg_lambda': 1.3}\n",
    "\n",
    "# kaggle taget encoding\n",
    "#0.1972640463910713\n",
    "# {'seed': 1337, 'gamma': 13, 'silent': 1, 'subsample': 0.7, 'min_child_weight': 9, \n",
    "#  'learning_rate': 0.07, 'colsample_bytree': 0.8, 'missing': -999, 'reg_alpha': 0, 'max_depth': 5, \n",
    "#  'scale_pos_weight': 26.4367, 'reg_lambda': 1.5}\n",
    "\n",
    "# kaggle target encoding, n_estimators = 400\n",
    "# 0.20004995842026038\n",
    "# {'seed': 1337, 'gamma': 10, 'silent': 1, 'n_estimators': 400, 'min_child_weight': 6, 'learning_rate': 0.08, 'scale_pos_weight': 26.4367, \n",
    "#  'missing': -999, 'reg_alpha': 8, 'max_depth': 4, 'colsample_bytree': 0.8, 'reg_lambda': 1.3}\n",
    "\n",
    "# kaggle target encoding, n_estimators = 400, scale_pos_weight when declaring model\n",
    "# 0.005075658237357413\n",
    "# {'reg_lambda': 1.3, 'reg_alpha': 8, 'seed': 1337, 'gamma': 10, 'max_depth': 6, 'silent': 1, 'n_estimators': 400, 'min_child_weight': 6, \n",
    "#  'learning_rate': 0.06, 'colsample_bytree': 0.8, 'missing': -999}\n",
    "\n",
    "# finally some sanity, after moved scale_pos_weight to the model line, removed sample_weight\n",
    "# 0.2561991118839686\n",
    "# {'reg_lambda': 1.3, 'reg_alpha': 0, 'seed': 1337, 'gamma': 1, 'max_depth': 4, 'subsample': 0.8, 'silent': 1, \n",
    "#  'n_estimators': 200, 'min_child_weight': 6, 'learning_rate': 0.1, 'colsample_bytree': 0.8}\n",
    "\n",
    "# same as above but removed min_child_weight\n",
    "# 0.2566225813070569\n",
    "# {'reg_lambda': 1, 'reg_alpha': 0, 'seed': 1337, 'gamma': 1, 'max_depth': 4, \n",
    "#  'subsample': 0.8, 'silent': 1, 'n_estimators': 200, 'learning_rate': 0.1, 'colsample_bytree': 0.8}\n",
    "\n",
    "# same as bove but replaced missing=-999 with missing=-1\n",
    "# 0.25776746983546517\n",
    "# {'reg_lambda': 1.3, 'reg_alpha': 0, 'seed': 1337, 'gamma': 1, 'max_depth': 4, 'subsample': 0.8, 'silent': 1, '\n",
    "#  n_estimators': 200, 'learning_rate': 0.1, 'colsample_bytree': 0.8}\n",
    "\n",
    "# with separate classfier and using train_test_split,\n",
    "# validation_0-error:0.324294\tvalidation_1-error:0.326174\n",
    "# validation_0-gini:-0.433448\tvalidation_1-gini:-0.384038\n",
    "\n",
    "# with randomized CV, LOO\n",
    "# 0.2862247407834804\n",
    "# {'reg_lambda': 1.3, 'reg_alpha': 4, 'seed': 1337, 'gamma': 7, \n",
    "# 'max_depth': 5, 'subsample': 0.8, 'n_estimators': 200, 'learning_rate': 0.1, 'colsample_bytree': 0.8}"
   ]
  },
  {
   "cell_type": "code",
   "execution_count": 42,
   "metadata": {
    "collapsed": true
   },
   "outputs": [],
   "source": [
    "df_test.fillna(-1, inplace=True)"
   ]
  },
  {
   "cell_type": "code",
   "execution_count": 43,
   "metadata": {
    "collapsed": true
   },
   "outputs": [],
   "source": [
    "test_probs = clf.predict_proba(df_test)[:,1]"
   ]
  },
  {
   "cell_type": "code",
   "execution_count": 44,
   "metadata": {},
   "outputs": [
    {
     "data": {
      "text/plain": [
       "array([ 0.37710699,  0.42687458,  0.43030238, ...,  0.45527622,\n",
       "        0.42130691,  0.452133  ], dtype=float32)"
      ]
     },
     "execution_count": 44,
     "metadata": {},
     "output_type": "execute_result"
    }
   ],
   "source": [
    "test_probs"
   ]
  },
  {
   "cell_type": "code",
   "execution_count": 45,
   "metadata": {},
   "outputs": [
    {
     "data": {
      "text/plain": [
       "(892816,)"
      ]
     },
     "execution_count": 45,
     "metadata": {},
     "output_type": "execute_result"
    }
   ],
   "source": [
    "test_probs.shape"
   ]
  },
  {
   "cell_type": "code",
   "execution_count": 46,
   "metadata": {},
   "outputs": [
    {
     "data": {
      "text/plain": [
       "0.054419678"
      ]
     },
     "execution_count": 46,
     "metadata": {},
     "output_type": "execute_result"
    }
   ],
   "source": [
    "np.min(test_probs)"
   ]
  },
  {
   "cell_type": "code",
   "execution_count": 47,
   "metadata": {},
   "outputs": [
    {
     "data": {
      "text/plain": [
       "0.98862666"
      ]
     },
     "execution_count": 47,
     "metadata": {},
     "output_type": "execute_result"
    }
   ],
   "source": [
    "np.max(test_probs)"
   ]
  },
  {
   "cell_type": "code",
   "execution_count": 48,
   "metadata": {
    "collapsed": true
   },
   "outputs": [],
   "source": [
    "test_probs = np.clip(test_probs, a_min=0.05, a_max=0.95)"
   ]
  },
  {
   "cell_type": "code",
   "execution_count": 49,
   "metadata": {
    "collapsed": true
   },
   "outputs": [],
   "source": [
    "submission = pd.DataFrame()\n",
    "submission['id'] = id_test\n",
    "submission['target'] = test_probs\n",
    "\n",
    "submission.to_csv('../submissions/sub_xgb_2_0.csv', index=False)\n"
   ]
  },
  {
   "cell_type": "code",
   "execution_count": null,
   "metadata": {
    "collapsed": true
   },
   "outputs": [],
   "source": []
  }
 ],
 "metadata": {
  "kernelspec": {
   "display_name": "sdp35",
   "language": "python",
   "name": "sdp35"
  },
  "language_info": {
   "codemirror_mode": {
    "name": "ipython",
    "version": 3
   },
   "file_extension": ".py",
   "mimetype": "text/x-python",
   "name": "python",
   "nbconvert_exporter": "python",
   "pygments_lexer": "ipython3",
   "version": "3.5.4"
  }
 },
 "nbformat": 4,
 "nbformat_minor": 2
}
