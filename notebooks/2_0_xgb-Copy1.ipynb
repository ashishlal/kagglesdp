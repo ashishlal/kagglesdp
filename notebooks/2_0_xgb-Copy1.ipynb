{
 "cells": [
  {
   "cell_type": "code",
   "execution_count": 45,
   "metadata": {
    "collapsed": true
   },
   "outputs": [],
   "source": [
    "# https://www.kaggle.com/aharless/xgboost-cv-lb-284?scriptVersionId=1683906"
   ]
  },
  {
   "cell_type": "code",
   "execution_count": 46,
   "metadata": {
    "collapsed": true
   },
   "outputs": [],
   "source": [
    "import sys\n",
    "sys.path.insert(0, '/home/watts/Software/xgboost')"
   ]
  },
  {
   "cell_type": "code",
   "execution_count": 47,
   "metadata": {},
   "outputs": [],
   "source": [
    "import numpy as np\n",
    "import pandas as pd\n",
    "from xgboost import XGBClassifier\n",
    "from sklearn.model_selection import train_test_split\n",
    "from sklearn.model_selection import KFold\n",
    "from sklearn.preprocessing import LabelEncoder\n",
    "from numba import jit\n",
    "import time\n",
    "import gc\n",
    "from scipy.stats import randint as sp_randint\n",
    "from sklearn.metrics import make_scorer\n",
    "from sklearn.grid_search import RandomizedSearchCV\n",
    "from sklearn.cross_validation import StratifiedKFold\n",
    "from hccEncoding.EncoderForClassification import BayesEncoding,BayesEncodingKfold,LOOEncoding,LOOEncodingKfold"
   ]
  },
  {
   "cell_type": "code",
   "execution_count": 48,
   "metadata": {
    "collapsed": true
   },
   "outputs": [],
   "source": [
    "# Compute gini\n",
    "\n",
    "# from CPMP's kernel https://www.kaggle.com/cpmpml/extremely-fast-gini-computation\n",
    "@jit\n",
    "def eval_gini(y_true, y_prob):\n",
    "    y_true = np.asarray(y_true)\n",
    "    y_true = y_true[np.argsort(y_prob)]\n",
    "    ntrue = 0\n",
    "    gini = 0\n",
    "    delta = 0\n",
    "    n = len(y_true)\n",
    "    for i in range(n-1, -1, -1):\n",
    "        y_i = y_true[i]\n",
    "        ntrue += y_i\n",
    "        gini += y_i * delta\n",
    "        delta += 1 - y_i\n",
    "    gini = 1 - 2 * gini / (ntrue * (n - ntrue))\n",
    "    return gini"
   ]
  },
  {
   "cell_type": "code",
   "execution_count": 49,
   "metadata": {
    "collapsed": true
   },
   "outputs": [],
   "source": [
    "# Funcitons from olivier's kernel\n",
    "# https://www.kaggle.com/ogrellier/xgb-classifier-upsampling-lb-0-283\n",
    "\n",
    "def gini_xgb(preds, dtrain):\n",
    "    labels = dtrain.get_label()\n",
    "    gini_score = -eval_gini(labels, preds)\n",
    "    return [('gini', gini_score)]\n",
    "\n",
    "\n",
    "def add_noise(series, noise_level):\n",
    "    return series * (1 + noise_level * np.random.randn(len(series)))\n"
   ]
  },
  {
   "cell_type": "code",
   "execution_count": 50,
   "metadata": {
    "collapsed": true
   },
   "outputs": [],
   "source": [
    "def gini1(solution, submission):\n",
    "    df = zip(solution, submission, range(len(solution)))\n",
    "    df = sorted(df, key=lambda x: (x[1],-x[2]), reverse=True)\n",
    "    rand = [float(i+1)/float(len(df)) for i in range(len(df))]\n",
    "    totalPos = float(sum([x[0] for x in df]))\n",
    "    cumPosFound = [df[0][0]]\n",
    "    for i in range(1,len(df)):\n",
    "        cumPosFound.append(cumPosFound[len(cumPosFound)-1] + df[i][0])\n",
    "    Lorentz = [float(x)/totalPos for x in cumPosFound]\n",
    "    Gini = [Lorentz[i]-rand[i] for i in range(len(df))]\n",
    "    return sum(Gini)\n",
    "\n",
    "# def normalized_gini(solution, submission):\n",
    "#     normalized_gini = gini1(solution, submission)/gini1(solution, solution)\n",
    "#     return normalized_gini"
   ]
  },
  {
   "cell_type": "code",
   "execution_count": 51,
   "metadata": {
    "collapsed": true
   },
   "outputs": [],
   "source": [
    "def normalized_gini(solution, submission):\n",
    "    normalized_gini = eval_gini(solution, submission)/eval_gini(solution, solution)\n",
    "    return normalized_gini"
   ]
  },
  {
   "cell_type": "code",
   "execution_count": 52,
   "metadata": {
    "collapsed": true
   },
   "outputs": [],
   "source": [
    "def gini(actual, pred, cmpcol = 0, sortcol = 1):\n",
    "     assert( len(actual) == len(pred) )\n",
    "     all = np.asarray(np.c_[ actual, pred, np.arange(len(actual)) ], dtype=np.float)\n",
    "     all = all[ np.lexsort((all[:,2], -1*all[:,1])) ]\n",
    "     totalLosses = all[:,0].sum()\n",
    "     giniSum = all[:,0].cumsum().sum() / totalLosses\n",
    " \n",
    "     giniSum -= (len(actual) + 1) / 2.\n",
    "     return giniSum / len(actual)\n",
    " \n",
    "def gini_normalized(a, p):\n",
    "    return eval_gini(a, p) / eval_gini(a, a)"
   ]
  },
  {
   "cell_type": "code",
   "execution_count": 53,
   "metadata": {
    "collapsed": true
   },
   "outputs": [],
   "source": [
    "# Normalized Gini Scorer\n",
    "# gini_scorer = make_scorer(normalized_gini, greater_is_better = True)\n",
    "\n",
    "gini_scorer = make_scorer(gini_normalized, greater_is_better = True)"
   ]
  },
  {
   "cell_type": "code",
   "execution_count": 54,
   "metadata": {
    "collapsed": true
   },
   "outputs": [],
   "source": [
    "# from olivier\n",
    "train_features = [\n",
    "    \"ps_car_13\",  #            : 1571.65 / shadow  609.23\n",
    "    \"ps_reg_03\",  #            : 1408.42 / shadow  511.15\n",
    "    \"ps_ind_05_cat\",  #        : 1387.87 / shadow   84.72\n",
    "    \"ps_ind_03\",  #            : 1219.47 / shadow  230.55\n",
    "    \"ps_ind_15\",  #            :  922.18 / shadow  242.00\n",
    "    \"ps_reg_02\",  #            :  920.65 / shadow  267.50\n",
    "    \"ps_car_14\",  #            :  798.48 / shadow  549.58\n",
    "    \"ps_car_12\",  #            :  731.93 / shadow  293.62\n",
    "    \"ps_car_01_cat\",  #        :  698.07 / shadow  178.72\n",
    "    \"ps_car_07_cat\",  #        :  694.53 / shadow   36.35\n",
    "    \"ps_ind_17_bin\",  #        :  620.77 / shadow   23.15\n",
    "    \"ps_car_03_cat\",  #        :  611.73 / shadow   50.67\n",
    "    \"ps_reg_01\",  #            :  598.60 / shadow  178.57\n",
    "    \"ps_car_15\",  #            :  593.35 / shadow  226.43\n",
    "    \"ps_ind_01\",  #            :  547.32 / shadow  154.58\n",
    "    \"ps_ind_16_bin\",  #        :  475.37 / shadow   34.17\n",
    "    \"ps_ind_07_bin\",  #        :  435.28 / shadow   28.92\n",
    "    \"ps_car_06_cat\",  #        :  398.02 / shadow  212.43\n",
    "    \"ps_car_04_cat\",  #        :  376.87 / shadow   76.98\n",
    "    \"ps_ind_06_bin\",  #        :  370.97 / shadow   36.13\n",
    "    \"ps_car_09_cat\",  #        :  214.12 / shadow   81.38\n",
    "    \"ps_car_02_cat\",  #        :  203.03 / shadow   26.67\n",
    "    \"ps_ind_02_cat\",  #        :  189.47 / shadow   65.68\n",
    "    \"ps_car_11\",  #            :  173.28 / shadow   76.45\n",
    "    \"ps_car_05_cat\",  #        :  172.75 / shadow   62.92\n",
    "    \"ps_calc_09\",  #           :  169.13 / shadow  129.72\n",
    "    \"ps_calc_05\",  #           :  148.83 / shadow  120.68\n",
    "    \"ps_ind_08_bin\",  #        :  140.73 / shadow   27.63\n",
    "    \"ps_car_08_cat\",  #        :  120.87 / shadow   28.82\n",
    "    \"ps_ind_09_bin\",  #        :  113.92 / shadow   27.05\n",
    "    \"ps_ind_04_cat\",  #        :  107.27 / shadow   37.43\n",
    "    \"ps_ind_18_bin\",  #        :   77.42 / shadow   25.97\n",
    "    \"ps_ind_12_bin\",  #        :   39.67 / shadow   15.52\n",
    "    \"ps_ind_14\",  #            :   37.37 / shadow   16.65\n",
    "]"
   ]
  },
  {
   "cell_type": "code",
   "execution_count": 55,
   "metadata": {
    "collapsed": true
   },
   "outputs": [],
   "source": [
    "# add combinations\n",
    "combs = [\n",
    "    ('ps_reg_01', 'ps_car_02_cat'),  \n",
    "    ('ps_reg_01', 'ps_car_04_cat'),\n",
    "]"
   ]
  },
  {
   "cell_type": "code",
   "execution_count": 56,
   "metadata": {
    "collapsed": true
   },
   "outputs": [],
   "source": [
    "# Read data\n",
    "df_train = pd.read_csv('../cache/train_X.csv') \n",
    "df_test = pd.read_csv('../cache/test_Y.csv')"
   ]
  },
  {
   "cell_type": "code",
   "execution_count": 57,
   "metadata": {},
   "outputs": [
    {
     "data": {
      "text/plain": [
       "ps_car_13                            0\n",
       "ps_reg_03                       107772\n",
       "ps_ind_05_cat                     5809\n",
       "ps_ind_03                            0\n",
       "ps_ind_15                            0\n",
       "ps_reg_02                            0\n",
       "ps_car_14                        42620\n",
       "ps_car_12                            1\n",
       "ps_car_01_cat                      107\n",
       "ps_car_07_cat                    11489\n",
       "ps_ind_17_bin                        0\n",
       "ps_car_03_cat                   411231\n",
       "ps_reg_01                            0\n",
       "ps_car_15                            0\n",
       "ps_ind_01                            0\n",
       "ps_ind_16_bin                        0\n",
       "ps_ind_07_bin                        0\n",
       "ps_car_06_cat                        0\n",
       "ps_car_04_cat                        0\n",
       "ps_ind_06_bin                        0\n",
       "ps_car_09_cat                      569\n",
       "ps_car_02_cat                        5\n",
       "ps_ind_02_cat                      216\n",
       "ps_car_11                            5\n",
       "ps_car_05_cat                   266551\n",
       "ps_calc_09                           0\n",
       "ps_calc_05                           0\n",
       "ps_ind_08_bin                        0\n",
       "ps_car_08_cat                        0\n",
       "ps_ind_09_bin                        0\n",
       "ps_ind_04_cat                       83\n",
       "ps_ind_18_bin                        0\n",
       "ps_ind_12_bin                        0\n",
       "ps_ind_14                            0\n",
       "ps_reg_01_plus_ps_car_02_cat         0\n",
       "ps_reg_01_plus_ps_car_04_cat         0\n",
       "id                                   0\n",
       "target                               0\n",
       "dtype: int64"
      ]
     },
     "execution_count": 57,
     "metadata": {},
     "output_type": "execute_result"
    }
   ],
   "source": [
    "df_train.isnull().sum()"
   ]
  },
  {
   "cell_type": "code",
   "execution_count": 58,
   "metadata": {},
   "outputs": [
    {
     "data": {
      "text/plain": [
       "ps_car_13                            0\n",
       "ps_reg_03                       161684\n",
       "ps_ind_05_cat                     8710\n",
       "ps_ind_03                            0\n",
       "ps_ind_15                            0\n",
       "ps_reg_02                            0\n",
       "ps_car_14                        63805\n",
       "ps_car_12                            0\n",
       "ps_car_01_cat                      160\n",
       "ps_car_07_cat                    17331\n",
       "ps_ind_17_bin                        0\n",
       "ps_car_03_cat                   616911\n",
       "ps_reg_01                            0\n",
       "ps_car_15                            0\n",
       "ps_ind_01                            0\n",
       "ps_ind_16_bin                        0\n",
       "ps_ind_07_bin                        0\n",
       "ps_car_06_cat                        0\n",
       "ps_car_04_cat                        0\n",
       "ps_ind_06_bin                        0\n",
       "ps_car_09_cat                      877\n",
       "ps_car_02_cat                        5\n",
       "ps_ind_02_cat                      307\n",
       "ps_car_11                            1\n",
       "ps_car_05_cat                   400359\n",
       "ps_calc_09                           0\n",
       "ps_calc_05                           0\n",
       "ps_ind_08_bin                        0\n",
       "ps_car_08_cat                        0\n",
       "ps_ind_09_bin                        0\n",
       "ps_ind_04_cat                      145\n",
       "ps_ind_18_bin                        0\n",
       "ps_ind_12_bin                        0\n",
       "ps_ind_14                            0\n",
       "ps_reg_01_plus_ps_car_02_cat         0\n",
       "ps_reg_01_plus_ps_car_04_cat         0\n",
       "dtype: int64"
      ]
     },
     "execution_count": 58,
     "metadata": {},
     "output_type": "execute_result"
    }
   ],
   "source": [
    "df_test.isnull().sum()"
   ]
  },
  {
   "cell_type": "code",
   "execution_count": 59,
   "metadata": {
    "collapsed": true
   },
   "outputs": [],
   "source": [
    "df_train.fillna(-999, inplace=True)"
   ]
  },
  {
   "cell_type": "code",
   "execution_count": 60,
   "metadata": {
    "collapsed": true
   },
   "outputs": [],
   "source": [
    "df_test.fillna(-999, inplace=True)"
   ]
  },
  {
   "cell_type": "code",
   "execution_count": 61,
   "metadata": {},
   "outputs": [
    {
     "data": {
      "text/html": [
       "<div>\n",
       "<style scoped>\n",
       "    .dataframe tbody tr th:only-of-type {\n",
       "        vertical-align: middle;\n",
       "    }\n",
       "\n",
       "    .dataframe tbody tr th {\n",
       "        vertical-align: top;\n",
       "    }\n",
       "\n",
       "    .dataframe thead th {\n",
       "        text-align: right;\n",
       "    }\n",
       "</style>\n",
       "<table border=\"1\" class=\"dataframe\">\n",
       "  <thead>\n",
       "    <tr style=\"text-align: right;\">\n",
       "      <th></th>\n",
       "      <th>ps_car_13</th>\n",
       "      <th>ps_reg_03</th>\n",
       "      <th>ps_ind_05_cat</th>\n",
       "      <th>ps_ind_03</th>\n",
       "      <th>ps_ind_15</th>\n",
       "      <th>ps_reg_02</th>\n",
       "      <th>ps_car_14</th>\n",
       "      <th>ps_car_12</th>\n",
       "      <th>ps_car_01_cat</th>\n",
       "      <th>ps_car_07_cat</th>\n",
       "      <th>...</th>\n",
       "      <th>ps_car_08_cat</th>\n",
       "      <th>ps_ind_09_bin</th>\n",
       "      <th>ps_ind_04_cat</th>\n",
       "      <th>ps_ind_18_bin</th>\n",
       "      <th>ps_ind_12_bin</th>\n",
       "      <th>ps_ind_14</th>\n",
       "      <th>ps_reg_01_plus_ps_car_02_cat</th>\n",
       "      <th>ps_reg_01_plus_ps_car_04_cat</th>\n",
       "      <th>id</th>\n",
       "      <th>target</th>\n",
       "    </tr>\n",
       "  </thead>\n",
       "  <tbody>\n",
       "    <tr>\n",
       "      <th>0</th>\n",
       "      <td>0.883679</td>\n",
       "      <td>0.718070</td>\n",
       "      <td>0.0</td>\n",
       "      <td>5</td>\n",
       "      <td>11</td>\n",
       "      <td>0.2</td>\n",
       "      <td>0.370810</td>\n",
       "      <td>0.400000</td>\n",
       "      <td>10.0</td>\n",
       "      <td>1.0</td>\n",
       "      <td>...</td>\n",
       "      <td>0</td>\n",
       "      <td>0</td>\n",
       "      <td>1.0</td>\n",
       "      <td>0</td>\n",
       "      <td>0</td>\n",
       "      <td>0</td>\n",
       "      <td>19</td>\n",
       "      <td>70</td>\n",
       "      <td>7</td>\n",
       "      <td>0</td>\n",
       "    </tr>\n",
       "    <tr>\n",
       "      <th>1</th>\n",
       "      <td>0.618817</td>\n",
       "      <td>0.766078</td>\n",
       "      <td>0.0</td>\n",
       "      <td>7</td>\n",
       "      <td>3</td>\n",
       "      <td>0.4</td>\n",
       "      <td>0.388716</td>\n",
       "      <td>0.316228</td>\n",
       "      <td>11.0</td>\n",
       "      <td>1.0</td>\n",
       "      <td>...</td>\n",
       "      <td>1</td>\n",
       "      <td>0</td>\n",
       "      <td>0.0</td>\n",
       "      <td>1</td>\n",
       "      <td>0</td>\n",
       "      <td>0</td>\n",
       "      <td>21</td>\n",
       "      <td>80</td>\n",
       "      <td>9</td>\n",
       "      <td>0</td>\n",
       "    </tr>\n",
       "    <tr>\n",
       "      <th>2</th>\n",
       "      <td>0.641586</td>\n",
       "      <td>-999.000000</td>\n",
       "      <td>0.0</td>\n",
       "      <td>9</td>\n",
       "      <td>12</td>\n",
       "      <td>0.0</td>\n",
       "      <td>0.347275</td>\n",
       "      <td>0.316228</td>\n",
       "      <td>7.0</td>\n",
       "      <td>1.0</td>\n",
       "      <td>...</td>\n",
       "      <td>1</td>\n",
       "      <td>0</td>\n",
       "      <td>1.0</td>\n",
       "      <td>0</td>\n",
       "      <td>0</td>\n",
       "      <td>0</td>\n",
       "      <td>1</td>\n",
       "      <td>0</td>\n",
       "      <td>13</td>\n",
       "      <td>0</td>\n",
       "    </tr>\n",
       "    <tr>\n",
       "      <th>3</th>\n",
       "      <td>0.542949</td>\n",
       "      <td>0.580948</td>\n",
       "      <td>0.0</td>\n",
       "      <td>2</td>\n",
       "      <td>8</td>\n",
       "      <td>0.2</td>\n",
       "      <td>0.294958</td>\n",
       "      <td>0.374166</td>\n",
       "      <td>7.0</td>\n",
       "      <td>1.0</td>\n",
       "      <td>...</td>\n",
       "      <td>1</td>\n",
       "      <td>0</td>\n",
       "      <td>0.0</td>\n",
       "      <td>0</td>\n",
       "      <td>0</td>\n",
       "      <td>0</td>\n",
       "      <td>23</td>\n",
       "      <td>90</td>\n",
       "      <td>16</td>\n",
       "      <td>0</td>\n",
       "    </tr>\n",
       "    <tr>\n",
       "      <th>4</th>\n",
       "      <td>0.565832</td>\n",
       "      <td>0.840759</td>\n",
       "      <td>0.0</td>\n",
       "      <td>0</td>\n",
       "      <td>9</td>\n",
       "      <td>0.6</td>\n",
       "      <td>0.365103</td>\n",
       "      <td>0.316070</td>\n",
       "      <td>11.0</td>\n",
       "      <td>1.0</td>\n",
       "      <td>...</td>\n",
       "      <td>1</td>\n",
       "      <td>0</td>\n",
       "      <td>1.0</td>\n",
       "      <td>0</td>\n",
       "      <td>0</td>\n",
       "      <td>0</td>\n",
       "      <td>19</td>\n",
       "      <td>70</td>\n",
       "      <td>17</td>\n",
       "      <td>0</td>\n",
       "    </tr>\n",
       "  </tbody>\n",
       "</table>\n",
       "<p>5 rows × 38 columns</p>\n",
       "</div>"
      ],
      "text/plain": [
       "   ps_car_13   ps_reg_03  ps_ind_05_cat  ps_ind_03  ps_ind_15  ps_reg_02  \\\n",
       "0   0.883679    0.718070            0.0          5         11        0.2   \n",
       "1   0.618817    0.766078            0.0          7          3        0.4   \n",
       "2   0.641586 -999.000000            0.0          9         12        0.0   \n",
       "3   0.542949    0.580948            0.0          2          8        0.2   \n",
       "4   0.565832    0.840759            0.0          0          9        0.6   \n",
       "\n",
       "   ps_car_14  ps_car_12  ps_car_01_cat  ps_car_07_cat   ...    ps_car_08_cat  \\\n",
       "0   0.370810   0.400000           10.0            1.0   ...                0   \n",
       "1   0.388716   0.316228           11.0            1.0   ...                1   \n",
       "2   0.347275   0.316228            7.0            1.0   ...                1   \n",
       "3   0.294958   0.374166            7.0            1.0   ...                1   \n",
       "4   0.365103   0.316070           11.0            1.0   ...                1   \n",
       "\n",
       "   ps_ind_09_bin  ps_ind_04_cat  ps_ind_18_bin  ps_ind_12_bin  ps_ind_14  \\\n",
       "0              0            1.0              0              0          0   \n",
       "1              0            0.0              1              0          0   \n",
       "2              0            1.0              0              0          0   \n",
       "3              0            0.0              0              0          0   \n",
       "4              0            1.0              0              0          0   \n",
       "\n",
       "   ps_reg_01_plus_ps_car_02_cat  ps_reg_01_plus_ps_car_04_cat  id  target  \n",
       "0                            19                            70   7       0  \n",
       "1                            21                            80   9       0  \n",
       "2                             1                             0  13       0  \n",
       "3                            23                            90  16       0  \n",
       "4                            19                            70  17       0  \n",
       "\n",
       "[5 rows x 38 columns]"
      ]
     },
     "execution_count": 61,
     "metadata": {},
     "output_type": "execute_result"
    }
   ],
   "source": [
    "df_train.head()"
   ]
  },
  {
   "cell_type": "code",
   "execution_count": 62,
   "metadata": {},
   "outputs": [
    {
     "data": {
      "text/html": [
       "<div>\n",
       "<style scoped>\n",
       "    .dataframe tbody tr th:only-of-type {\n",
       "        vertical-align: middle;\n",
       "    }\n",
       "\n",
       "    .dataframe tbody tr th {\n",
       "        vertical-align: top;\n",
       "    }\n",
       "\n",
       "    .dataframe thead th {\n",
       "        text-align: right;\n",
       "    }\n",
       "</style>\n",
       "<table border=\"1\" class=\"dataframe\">\n",
       "  <thead>\n",
       "    <tr style=\"text-align: right;\">\n",
       "      <th></th>\n",
       "      <th>ps_car_13</th>\n",
       "      <th>ps_reg_03</th>\n",
       "      <th>ps_ind_05_cat</th>\n",
       "      <th>ps_ind_03</th>\n",
       "      <th>ps_ind_15</th>\n",
       "      <th>ps_reg_02</th>\n",
       "      <th>ps_car_14</th>\n",
       "      <th>ps_car_12</th>\n",
       "      <th>ps_car_01_cat</th>\n",
       "      <th>ps_car_07_cat</th>\n",
       "      <th>...</th>\n",
       "      <th>ps_calc_05</th>\n",
       "      <th>ps_ind_08_bin</th>\n",
       "      <th>ps_car_08_cat</th>\n",
       "      <th>ps_ind_09_bin</th>\n",
       "      <th>ps_ind_04_cat</th>\n",
       "      <th>ps_ind_18_bin</th>\n",
       "      <th>ps_ind_12_bin</th>\n",
       "      <th>ps_ind_14</th>\n",
       "      <th>ps_reg_01_plus_ps_car_02_cat</th>\n",
       "      <th>ps_reg_01_plus_ps_car_04_cat</th>\n",
       "    </tr>\n",
       "  </thead>\n",
       "  <tbody>\n",
       "    <tr>\n",
       "      <th>0</th>\n",
       "      <td>0.669556</td>\n",
       "      <td>0.610328</td>\n",
       "      <td>0.0</td>\n",
       "      <td>8</td>\n",
       "      <td>12</td>\n",
       "      <td>0.3</td>\n",
       "      <td>0.352136</td>\n",
       "      <td>0.316228</td>\n",
       "      <td>7.0</td>\n",
       "      <td>1.0</td>\n",
       "      <td>...</td>\n",
       "      <td>1</td>\n",
       "      <td>0</td>\n",
       "      <td>1</td>\n",
       "      <td>0</td>\n",
       "      <td>1.0</td>\n",
       "      <td>0</td>\n",
       "      <td>0</td>\n",
       "      <td>0</td>\n",
       "      <td>14</td>\n",
       "      <td>50</td>\n",
       "    </tr>\n",
       "    <tr>\n",
       "      <th>1</th>\n",
       "      <td>0.606320</td>\n",
       "      <td>0.771362</td>\n",
       "      <td>0.0</td>\n",
       "      <td>5</td>\n",
       "      <td>5</td>\n",
       "      <td>0.5</td>\n",
       "      <td>0.358329</td>\n",
       "      <td>0.316228</td>\n",
       "      <td>4.0</td>\n",
       "      <td>1.0</td>\n",
       "      <td>...</td>\n",
       "      <td>3</td>\n",
       "      <td>0</td>\n",
       "      <td>1</td>\n",
       "      <td>1</td>\n",
       "      <td>1.0</td>\n",
       "      <td>0</td>\n",
       "      <td>0</td>\n",
       "      <td>0</td>\n",
       "      <td>23</td>\n",
       "      <td>90</td>\n",
       "    </tr>\n",
       "    <tr>\n",
       "      <th>2</th>\n",
       "      <td>0.896239</td>\n",
       "      <td>0.916174</td>\n",
       "      <td>0.0</td>\n",
       "      <td>3</td>\n",
       "      <td>10</td>\n",
       "      <td>0.0</td>\n",
       "      <td>0.398497</td>\n",
       "      <td>0.400000</td>\n",
       "      <td>11.0</td>\n",
       "      <td>1.0</td>\n",
       "      <td>...</td>\n",
       "      <td>3</td>\n",
       "      <td>0</td>\n",
       "      <td>1</td>\n",
       "      <td>1</td>\n",
       "      <td>0.0</td>\n",
       "      <td>0</td>\n",
       "      <td>0</td>\n",
       "      <td>0</td>\n",
       "      <td>11</td>\n",
       "      <td>40</td>\n",
       "    </tr>\n",
       "    <tr>\n",
       "      <th>3</th>\n",
       "      <td>0.652110</td>\n",
       "      <td>-999.000000</td>\n",
       "      <td>0.0</td>\n",
       "      <td>6</td>\n",
       "      <td>4</td>\n",
       "      <td>0.2</td>\n",
       "      <td>0.381445</td>\n",
       "      <td>0.374166</td>\n",
       "      <td>7.0</td>\n",
       "      <td>1.0</td>\n",
       "      <td>...</td>\n",
       "      <td>1</td>\n",
       "      <td>0</td>\n",
       "      <td>1</td>\n",
       "      <td>0</td>\n",
       "      <td>0.0</td>\n",
       "      <td>0</td>\n",
       "      <td>0</td>\n",
       "      <td>0</td>\n",
       "      <td>3</td>\n",
       "      <td>10</td>\n",
       "    </tr>\n",
       "    <tr>\n",
       "      <th>4</th>\n",
       "      <td>0.812914</td>\n",
       "      <td>0.817771</td>\n",
       "      <td>0.0</td>\n",
       "      <td>7</td>\n",
       "      <td>4</td>\n",
       "      <td>0.4</td>\n",
       "      <td>0.385097</td>\n",
       "      <td>0.374166</td>\n",
       "      <td>11.0</td>\n",
       "      <td>1.0</td>\n",
       "      <td>...</td>\n",
       "      <td>4</td>\n",
       "      <td>0</td>\n",
       "      <td>1</td>\n",
       "      <td>1</td>\n",
       "      <td>0.0</td>\n",
       "      <td>0</td>\n",
       "      <td>0</td>\n",
       "      <td>0</td>\n",
       "      <td>23</td>\n",
       "      <td>90</td>\n",
       "    </tr>\n",
       "  </tbody>\n",
       "</table>\n",
       "<p>5 rows × 36 columns</p>\n",
       "</div>"
      ],
      "text/plain": [
       "   ps_car_13   ps_reg_03  ps_ind_05_cat  ps_ind_03  ps_ind_15  ps_reg_02  \\\n",
       "0   0.669556    0.610328            0.0          8         12        0.3   \n",
       "1   0.606320    0.771362            0.0          5          5        0.5   \n",
       "2   0.896239    0.916174            0.0          3         10        0.0   \n",
       "3   0.652110 -999.000000            0.0          6          4        0.2   \n",
       "4   0.812914    0.817771            0.0          7          4        0.4   \n",
       "\n",
       "   ps_car_14  ps_car_12  ps_car_01_cat  ps_car_07_cat  \\\n",
       "0   0.352136   0.316228            7.0            1.0   \n",
       "1   0.358329   0.316228            4.0            1.0   \n",
       "2   0.398497   0.400000           11.0            1.0   \n",
       "3   0.381445   0.374166            7.0            1.0   \n",
       "4   0.385097   0.374166           11.0            1.0   \n",
       "\n",
       "               ...               ps_calc_05  ps_ind_08_bin  ps_car_08_cat  \\\n",
       "0              ...                        1              0              1   \n",
       "1              ...                        3              0              1   \n",
       "2              ...                        3              0              1   \n",
       "3              ...                        1              0              1   \n",
       "4              ...                        4              0              1   \n",
       "\n",
       "   ps_ind_09_bin  ps_ind_04_cat  ps_ind_18_bin  ps_ind_12_bin  ps_ind_14  \\\n",
       "0              0            1.0              0              0          0   \n",
       "1              1            1.0              0              0          0   \n",
       "2              1            0.0              0              0          0   \n",
       "3              0            0.0              0              0          0   \n",
       "4              1            0.0              0              0          0   \n",
       "\n",
       "   ps_reg_01_plus_ps_car_02_cat  ps_reg_01_plus_ps_car_04_cat  \n",
       "0                            14                            50  \n",
       "1                            23                            90  \n",
       "2                            11                            40  \n",
       "3                             3                            10  \n",
       "4                            23                            90  \n",
       "\n",
       "[5 rows x 36 columns]"
      ]
     },
     "execution_count": 62,
     "metadata": {},
     "output_type": "execute_result"
    }
   ],
   "source": [
    "df_test.head()"
   ]
  },
  {
   "cell_type": "code",
   "execution_count": 63,
   "metadata": {
    "collapsed": true
   },
   "outputs": [],
   "source": [
    "f_cats = [f for f in df_train.columns if \"_cat\" in f]"
   ]
  },
  {
   "cell_type": "code",
   "execution_count": 64,
   "metadata": {
    "collapsed": true
   },
   "outputs": [],
   "source": [
    "df = pd.read_csv('../cache/test_id.csv')"
   ]
  },
  {
   "cell_type": "code",
   "execution_count": 65,
   "metadata": {},
   "outputs": [
    {
     "data": {
      "text/html": [
       "<div>\n",
       "<style scoped>\n",
       "    .dataframe tbody tr th:only-of-type {\n",
       "        vertical-align: middle;\n",
       "    }\n",
       "\n",
       "    .dataframe tbody tr th {\n",
       "        vertical-align: top;\n",
       "    }\n",
       "\n",
       "    .dataframe thead th {\n",
       "        text-align: right;\n",
       "    }\n",
       "</style>\n",
       "<table border=\"1\" class=\"dataframe\">\n",
       "  <thead>\n",
       "    <tr style=\"text-align: right;\">\n",
       "      <th></th>\n",
       "      <th>id</th>\n",
       "    </tr>\n",
       "  </thead>\n",
       "  <tbody>\n",
       "    <tr>\n",
       "      <th>0</th>\n",
       "      <td>0</td>\n",
       "    </tr>\n",
       "    <tr>\n",
       "      <th>1</th>\n",
       "      <td>1</td>\n",
       "    </tr>\n",
       "    <tr>\n",
       "      <th>2</th>\n",
       "      <td>2</td>\n",
       "    </tr>\n",
       "    <tr>\n",
       "      <th>3</th>\n",
       "      <td>3</td>\n",
       "    </tr>\n",
       "    <tr>\n",
       "      <th>4</th>\n",
       "      <td>4</td>\n",
       "    </tr>\n",
       "  </tbody>\n",
       "</table>\n",
       "</div>"
      ],
      "text/plain": [
       "   id\n",
       "0   0\n",
       "1   1\n",
       "2   2\n",
       "3   3\n",
       "4   4"
      ]
     },
     "execution_count": 65,
     "metadata": {},
     "output_type": "execute_result"
    }
   ],
   "source": [
    "df.head()"
   ]
  },
  {
   "cell_type": "code",
   "execution_count": 66,
   "metadata": {
    "collapsed": true
   },
   "outputs": [],
   "source": [
    "id_test = df['id'].values\n",
    "id_train = df_train['id'].values\n",
    "y = df_train['target'].values"
   ]
  },
  {
   "cell_type": "code",
   "execution_count": 67,
   "metadata": {},
   "outputs": [
    {
     "data": {
      "text/plain": [
       "573518"
      ]
     },
     "execution_count": 67,
     "metadata": {},
     "output_type": "execute_result"
    }
   ],
   "source": [
    "sum(y == 0)"
   ]
  },
  {
   "cell_type": "code",
   "execution_count": 68,
   "metadata": {},
   "outputs": [
    {
     "data": {
      "text/plain": [
       "21694"
      ]
     },
     "execution_count": 68,
     "metadata": {},
     "output_type": "execute_result"
    }
   ],
   "source": [
    "sum(y==1)"
   ]
  },
  {
   "cell_type": "code",
   "execution_count": 69,
   "metadata": {
    "collapsed": true
   },
   "outputs": [],
   "source": [
    "sp = sum(y==0)/sum(y==1)"
   ]
  },
  {
   "cell_type": "code",
   "execution_count": 70,
   "metadata": {},
   "outputs": [
    {
     "data": {
      "text/plain": [
       "26.436710611228911"
      ]
     },
     "execution_count": 70,
     "metadata": {},
     "output_type": "execute_result"
    }
   ],
   "source": [
    "sp"
   ]
  },
  {
   "cell_type": "code",
   "execution_count": 71,
   "metadata": {},
   "outputs": [
    {
     "data": {
      "text/plain": [
       "['ps_ind_05_cat',\n",
       " 'ps_car_01_cat',\n",
       " 'ps_car_07_cat',\n",
       " 'ps_car_03_cat',\n",
       " 'ps_car_06_cat',\n",
       " 'ps_car_04_cat',\n",
       " 'ps_car_09_cat',\n",
       " 'ps_car_02_cat',\n",
       " 'ps_ind_02_cat',\n",
       " 'ps_car_05_cat',\n",
       " 'ps_car_08_cat',\n",
       " 'ps_ind_04_cat',\n",
       " 'ps_reg_01_plus_ps_car_02_cat',\n",
       " 'ps_reg_01_plus_ps_car_04_cat']"
      ]
     },
     "execution_count": 71,
     "metadata": {},
     "output_type": "execute_result"
    }
   ],
   "source": [
    "f_cats"
   ]
  },
  {
   "cell_type": "code",
   "execution_count": 72,
   "metadata": {},
   "outputs": [],
   "source": [
    "import category_encoders as ce\n",
    "\n",
    "# encoder = ce.BackwardDifferenceEncoder(cols=f_cats)\n",
    "# encoder = ce.BinaryEncoder(cols=f_cats)\n",
    "# encoder = ce.HashingEncoder(cols=f_cats)\n",
    "# encoder = ce.HelmertEncoder(cols=f_cats)\n",
    "# encoder = ce.OneHotEncoder(cols=f_cats)\n",
    "# encoder = ce.OrdinalEncoder(cols=f_cats)\n",
    "encoder = ce.SumEncoder(cols=f_cats)\n",
    "# encoder = ce.PolynomialEncoder(cols=f_cats)\n",
    "\n",
    "encoder.fit(df_train, y)\n",
    "df_train = encoder.transform(df_train)\n"
   ]
  },
  {
   "cell_type": "code",
   "execution_count": 73,
   "metadata": {
    "collapsed": true
   },
   "outputs": [],
   "source": [
    "# for f_cat in f_cats:    \n",
    "#     df_train,df_test = BayesEncoding(df_train,df_test,'target',f_cat,f=1,noise=0.01)\n",
    "#     df_train,df_test = LOOEncoding(df_train,df_test,'target',f_cat, noise=0.02)\n",
    "#     df_train,df_test = LOOEncodingKfold(df_train,df_test,'target',f_cat, noise=0.01)"
   ]
  },
  {
   "cell_type": "code",
   "execution_count": 74,
   "metadata": {},
   "outputs": [
    {
     "data": {
      "text/plain": [
       "(595212, 225)"
      ]
     },
     "execution_count": 74,
     "metadata": {},
     "output_type": "execute_result"
    }
   ],
   "source": [
    "df_train.shape"
   ]
  },
  {
   "cell_type": "code",
   "execution_count": 75,
   "metadata": {},
   "outputs": [
    {
     "data": {
      "text/plain": [
       "(892816, 36)"
      ]
     },
     "execution_count": 75,
     "metadata": {},
     "output_type": "execute_result"
    }
   ],
   "source": [
    "df_test.shape"
   ]
  },
  {
   "cell_type": "code",
   "execution_count": 76,
   "metadata": {},
   "outputs": [
    {
     "data": {
      "text/html": [
       "<div>\n",
       "<style scoped>\n",
       "    .dataframe tbody tr th:only-of-type {\n",
       "        vertical-align: middle;\n",
       "    }\n",
       "\n",
       "    .dataframe tbody tr th {\n",
       "        vertical-align: top;\n",
       "    }\n",
       "\n",
       "    .dataframe thead th {\n",
       "        text-align: right;\n",
       "    }\n",
       "</style>\n",
       "<table border=\"1\" class=\"dataframe\">\n",
       "  <thead>\n",
       "    <tr style=\"text-align: right;\">\n",
       "      <th></th>\n",
       "      <th>col_ps_ind_05_cat_0</th>\n",
       "      <th>col_ps_ind_05_cat_1</th>\n",
       "      <th>col_ps_ind_05_cat_2</th>\n",
       "      <th>col_ps_ind_05_cat_3</th>\n",
       "      <th>col_ps_ind_05_cat_4</th>\n",
       "      <th>col_ps_ind_05_cat_5</th>\n",
       "      <th>col_ps_ind_05_cat_6</th>\n",
       "      <th>col_ps_ind_05_cat_7</th>\n",
       "      <th>col_ps_car_01_cat_0</th>\n",
       "      <th>col_ps_car_01_cat_1</th>\n",
       "      <th>...</th>\n",
       "      <th>col_ps_car_11</th>\n",
       "      <th>col_ps_calc_09</th>\n",
       "      <th>col_ps_calc_05</th>\n",
       "      <th>col_ps_ind_08_bin</th>\n",
       "      <th>col_ps_ind_09_bin</th>\n",
       "      <th>col_ps_ind_18_bin</th>\n",
       "      <th>col_ps_ind_12_bin</th>\n",
       "      <th>col_ps_ind_14</th>\n",
       "      <th>col_id</th>\n",
       "      <th>col_target</th>\n",
       "    </tr>\n",
       "  </thead>\n",
       "  <tbody>\n",
       "    <tr>\n",
       "      <th>0</th>\n",
       "      <td>1.0</td>\n",
       "      <td>1.0</td>\n",
       "      <td>0.0</td>\n",
       "      <td>0.0</td>\n",
       "      <td>0.0</td>\n",
       "      <td>0.0</td>\n",
       "      <td>0.0</td>\n",
       "      <td>0.0</td>\n",
       "      <td>1.0</td>\n",
       "      <td>1.0</td>\n",
       "      <td>...</td>\n",
       "      <td>2.0</td>\n",
       "      <td>1</td>\n",
       "      <td>1</td>\n",
       "      <td>0</td>\n",
       "      <td>0</td>\n",
       "      <td>0</td>\n",
       "      <td>0</td>\n",
       "      <td>0</td>\n",
       "      <td>7</td>\n",
       "      <td>0</td>\n",
       "    </tr>\n",
       "    <tr>\n",
       "      <th>1</th>\n",
       "      <td>1.0</td>\n",
       "      <td>1.0</td>\n",
       "      <td>0.0</td>\n",
       "      <td>0.0</td>\n",
       "      <td>0.0</td>\n",
       "      <td>0.0</td>\n",
       "      <td>0.0</td>\n",
       "      <td>0.0</td>\n",
       "      <td>1.0</td>\n",
       "      <td>0.0</td>\n",
       "      <td>...</td>\n",
       "      <td>3.0</td>\n",
       "      <td>1</td>\n",
       "      <td>1</td>\n",
       "      <td>1</td>\n",
       "      <td>0</td>\n",
       "      <td>1</td>\n",
       "      <td>0</td>\n",
       "      <td>0</td>\n",
       "      <td>9</td>\n",
       "      <td>0</td>\n",
       "    </tr>\n",
       "    <tr>\n",
       "      <th>2</th>\n",
       "      <td>1.0</td>\n",
       "      <td>1.0</td>\n",
       "      <td>0.0</td>\n",
       "      <td>0.0</td>\n",
       "      <td>0.0</td>\n",
       "      <td>0.0</td>\n",
       "      <td>0.0</td>\n",
       "      <td>0.0</td>\n",
       "      <td>1.0</td>\n",
       "      <td>0.0</td>\n",
       "      <td>...</td>\n",
       "      <td>1.0</td>\n",
       "      <td>2</td>\n",
       "      <td>2</td>\n",
       "      <td>1</td>\n",
       "      <td>0</td>\n",
       "      <td>0</td>\n",
       "      <td>0</td>\n",
       "      <td>0</td>\n",
       "      <td>13</td>\n",
       "      <td>0</td>\n",
       "    </tr>\n",
       "    <tr>\n",
       "      <th>3</th>\n",
       "      <td>1.0</td>\n",
       "      <td>1.0</td>\n",
       "      <td>0.0</td>\n",
       "      <td>0.0</td>\n",
       "      <td>0.0</td>\n",
       "      <td>0.0</td>\n",
       "      <td>0.0</td>\n",
       "      <td>0.0</td>\n",
       "      <td>1.0</td>\n",
       "      <td>0.0</td>\n",
       "      <td>...</td>\n",
       "      <td>1.0</td>\n",
       "      <td>4</td>\n",
       "      <td>4</td>\n",
       "      <td>0</td>\n",
       "      <td>0</td>\n",
       "      <td>0</td>\n",
       "      <td>0</td>\n",
       "      <td>0</td>\n",
       "      <td>16</td>\n",
       "      <td>0</td>\n",
       "    </tr>\n",
       "    <tr>\n",
       "      <th>4</th>\n",
       "      <td>1.0</td>\n",
       "      <td>1.0</td>\n",
       "      <td>0.0</td>\n",
       "      <td>0.0</td>\n",
       "      <td>0.0</td>\n",
       "      <td>0.0</td>\n",
       "      <td>0.0</td>\n",
       "      <td>0.0</td>\n",
       "      <td>1.0</td>\n",
       "      <td>0.0</td>\n",
       "      <td>...</td>\n",
       "      <td>3.0</td>\n",
       "      <td>2</td>\n",
       "      <td>2</td>\n",
       "      <td>0</td>\n",
       "      <td>0</td>\n",
       "      <td>0</td>\n",
       "      <td>0</td>\n",
       "      <td>0</td>\n",
       "      <td>17</td>\n",
       "      <td>0</td>\n",
       "    </tr>\n",
       "  </tbody>\n",
       "</table>\n",
       "<p>5 rows × 225 columns</p>\n",
       "</div>"
      ],
      "text/plain": [
       "   col_ps_ind_05_cat_0  col_ps_ind_05_cat_1  col_ps_ind_05_cat_2  \\\n",
       "0                  1.0                  1.0                  0.0   \n",
       "1                  1.0                  1.0                  0.0   \n",
       "2                  1.0                  1.0                  0.0   \n",
       "3                  1.0                  1.0                  0.0   \n",
       "4                  1.0                  1.0                  0.0   \n",
       "\n",
       "   col_ps_ind_05_cat_3  col_ps_ind_05_cat_4  col_ps_ind_05_cat_5  \\\n",
       "0                  0.0                  0.0                  0.0   \n",
       "1                  0.0                  0.0                  0.0   \n",
       "2                  0.0                  0.0                  0.0   \n",
       "3                  0.0                  0.0                  0.0   \n",
       "4                  0.0                  0.0                  0.0   \n",
       "\n",
       "   col_ps_ind_05_cat_6  col_ps_ind_05_cat_7  col_ps_car_01_cat_0  \\\n",
       "0                  0.0                  0.0                  1.0   \n",
       "1                  0.0                  0.0                  1.0   \n",
       "2                  0.0                  0.0                  1.0   \n",
       "3                  0.0                  0.0                  1.0   \n",
       "4                  0.0                  0.0                  1.0   \n",
       "\n",
       "   col_ps_car_01_cat_1     ...      col_ps_car_11  col_ps_calc_09  \\\n",
       "0                  1.0     ...                2.0               1   \n",
       "1                  0.0     ...                3.0               1   \n",
       "2                  0.0     ...                1.0               2   \n",
       "3                  0.0     ...                1.0               4   \n",
       "4                  0.0     ...                3.0               2   \n",
       "\n",
       "   col_ps_calc_05  col_ps_ind_08_bin  col_ps_ind_09_bin  col_ps_ind_18_bin  \\\n",
       "0               1                  0                  0                  0   \n",
       "1               1                  1                  0                  1   \n",
       "2               2                  1                  0                  0   \n",
       "3               4                  0                  0                  0   \n",
       "4               2                  0                  0                  0   \n",
       "\n",
       "   col_ps_ind_12_bin  col_ps_ind_14  col_id  col_target  \n",
       "0                  0              0       7           0  \n",
       "1                  0              0       9           0  \n",
       "2                  0              0      13           0  \n",
       "3                  0              0      16           0  \n",
       "4                  0              0      17           0  \n",
       "\n",
       "[5 rows x 225 columns]"
      ]
     },
     "execution_count": 76,
     "metadata": {},
     "output_type": "execute_result"
    }
   ],
   "source": [
    "df_train.head()"
   ]
  },
  {
   "cell_type": "code",
   "execution_count": 77,
   "metadata": {
    "collapsed": true
   },
   "outputs": [],
   "source": [
    "# for f in f_cats:\n",
    "#     df_train = df_train.drop(f, axis=1)\n",
    "#     df_test = df_test.drop(f, axis=1)"
   ]
  },
  {
   "cell_type": "code",
   "execution_count": 78,
   "metadata": {},
   "outputs": [
    {
     "data": {
      "text/plain": [
       "(595212, 225)"
      ]
     },
     "execution_count": 78,
     "metadata": {},
     "output_type": "execute_result"
    }
   ],
   "source": [
    "df_train.shape"
   ]
  },
  {
   "cell_type": "code",
   "execution_count": 79,
   "metadata": {},
   "outputs": [
    {
     "data": {
      "text/plain": [
       "(892816, 36)"
      ]
     },
     "execution_count": 79,
     "metadata": {},
     "output_type": "execute_result"
    }
   ],
   "source": [
    "df_test.shape"
   ]
  },
  {
   "cell_type": "code",
   "execution_count": 81,
   "metadata": {},
   "outputs": [],
   "source": [
    "df_train = df_train.drop('col_id', axis=1)\n",
    "df_train = df_train.drop('col_target', axis=1)"
   ]
  },
  {
   "cell_type": "code",
   "execution_count": 82,
   "metadata": {},
   "outputs": [
    {
     "data": {
      "text/plain": [
       "(595212, 223)"
      ]
     },
     "execution_count": 82,
     "metadata": {},
     "output_type": "execute_result"
    }
   ],
   "source": [
    "df_train.shape"
   ]
  },
  {
   "cell_type": "code",
   "execution_count": 83,
   "metadata": {
    "collapsed": true
   },
   "outputs": [],
   "source": [
    "X = df_train"
   ]
  },
  {
   "cell_type": "code",
   "execution_count": 84,
   "metadata": {},
   "outputs": [
    {
     "data": {
      "text/plain": [
       "col_ps_ind_05_cat_0                    0\n",
       "col_ps_ind_05_cat_1                    0\n",
       "col_ps_ind_05_cat_2                    0\n",
       "col_ps_ind_05_cat_3                    0\n",
       "col_ps_ind_05_cat_4                    0\n",
       "col_ps_ind_05_cat_5                    0\n",
       "col_ps_ind_05_cat_6                    0\n",
       "col_ps_ind_05_cat_7                    0\n",
       "col_ps_car_01_cat_0                    0\n",
       "col_ps_car_01_cat_1                    0\n",
       "col_ps_car_01_cat_2                    0\n",
       "col_ps_car_01_cat_3                    0\n",
       "col_ps_car_01_cat_4                    0\n",
       "col_ps_car_01_cat_5                    0\n",
       "col_ps_car_01_cat_6                    0\n",
       "col_ps_car_01_cat_7                    0\n",
       "col_ps_car_01_cat_8                    0\n",
       "col_ps_car_01_cat_9                    0\n",
       "col_ps_car_01_cat_10                   0\n",
       "col_ps_car_01_cat_11                   0\n",
       "col_ps_car_01_cat_12                   0\n",
       "col_ps_car_07_cat_0                    0\n",
       "col_ps_car_07_cat_1                    0\n",
       "col_ps_car_07_cat_2                    0\n",
       "col_ps_car_03_cat_0                    0\n",
       "col_ps_car_03_cat_1                    0\n",
       "col_ps_car_03_cat_2                    0\n",
       "col_ps_car_06_cat_0                    0\n",
       "col_ps_car_06_cat_1                    0\n",
       "col_ps_car_06_cat_2                    0\n",
       "                                      ..\n",
       "col_ps_reg_01_plus_ps_car_04_cat_92    0\n",
       "col_ps_reg_01_plus_ps_car_04_cat_93    0\n",
       "col_ps_reg_01_plus_ps_car_04_cat_94    0\n",
       "col_ps_reg_01_plus_ps_car_04_cat_95    0\n",
       "col_ps_reg_01_plus_ps_car_04_cat_96    0\n",
       "col_ps_reg_01_plus_ps_car_04_cat_97    0\n",
       "col_ps_reg_01_plus_ps_car_04_cat_98    0\n",
       "col_ps_reg_01_plus_ps_car_04_cat_99    0\n",
       "col_ps_car_13                          0\n",
       "col_ps_reg_03                          0\n",
       "col_ps_ind_03                          0\n",
       "col_ps_ind_15                          0\n",
       "col_ps_reg_02                          0\n",
       "col_ps_car_14                          0\n",
       "col_ps_car_12                          0\n",
       "col_ps_ind_17_bin                      0\n",
       "col_ps_reg_01                          0\n",
       "col_ps_car_15                          0\n",
       "col_ps_ind_01                          0\n",
       "col_ps_ind_16_bin                      0\n",
       "col_ps_ind_07_bin                      0\n",
       "col_ps_ind_06_bin                      0\n",
       "col_ps_car_11                          0\n",
       "col_ps_calc_09                         0\n",
       "col_ps_calc_05                         0\n",
       "col_ps_ind_08_bin                      0\n",
       "col_ps_ind_09_bin                      0\n",
       "col_ps_ind_18_bin                      0\n",
       "col_ps_ind_12_bin                      0\n",
       "col_ps_ind_14                          0\n",
       "Length: 223, dtype: int64"
      ]
     },
     "execution_count": 84,
     "metadata": {},
     "output_type": "execute_result"
    }
   ],
   "source": [
    "X.isnull().sum()"
   ]
  },
  {
   "cell_type": "code",
   "execution_count": 85,
   "metadata": {},
   "outputs": [
    {
     "data": {
      "text/plain": [
       "ps_car_13                       0\n",
       "ps_reg_03                       0\n",
       "ps_ind_05_cat                   0\n",
       "ps_ind_03                       0\n",
       "ps_ind_15                       0\n",
       "ps_reg_02                       0\n",
       "ps_car_14                       0\n",
       "ps_car_12                       0\n",
       "ps_car_01_cat                   0\n",
       "ps_car_07_cat                   0\n",
       "ps_ind_17_bin                   0\n",
       "ps_car_03_cat                   0\n",
       "ps_reg_01                       0\n",
       "ps_car_15                       0\n",
       "ps_ind_01                       0\n",
       "ps_ind_16_bin                   0\n",
       "ps_ind_07_bin                   0\n",
       "ps_car_06_cat                   0\n",
       "ps_car_04_cat                   0\n",
       "ps_ind_06_bin                   0\n",
       "ps_car_09_cat                   0\n",
       "ps_car_02_cat                   0\n",
       "ps_ind_02_cat                   0\n",
       "ps_car_11                       0\n",
       "ps_car_05_cat                   0\n",
       "ps_calc_09                      0\n",
       "ps_calc_05                      0\n",
       "ps_ind_08_bin                   0\n",
       "ps_car_08_cat                   0\n",
       "ps_ind_09_bin                   0\n",
       "ps_ind_04_cat                   0\n",
       "ps_ind_18_bin                   0\n",
       "ps_ind_12_bin                   0\n",
       "ps_ind_14                       0\n",
       "ps_reg_01_plus_ps_car_02_cat    0\n",
       "ps_reg_01_plus_ps_car_04_cat    0\n",
       "dtype: int64"
      ]
     },
     "execution_count": 85,
     "metadata": {},
     "output_type": "execute_result"
    }
   ],
   "source": [
    "df_test.isnull().sum()"
   ]
  },
  {
   "cell_type": "code",
   "execution_count": 86,
   "metadata": {},
   "outputs": [
    {
     "data": {
      "text/plain": [
       "26.436710611228911"
      ]
     },
     "execution_count": 86,
     "metadata": {},
     "output_type": "execute_result"
    }
   ],
   "source": [
    "sp"
   ]
  },
  {
   "cell_type": "code",
   "execution_count": 87,
   "metadata": {
    "collapsed": true
   },
   "outputs": [],
   "source": [
    "xgb_model = XGBClassifier(objective='binary:logistic', missing=-999)\n",
    "parameters = {\n",
    "    'learning_rate': [0.03, 0.04, 0.05, 0.06, 0.07, 0.08, 0.1], #so called `eta` value\n",
    "    'max_depth': sp_randint(1,11),\n",
    "    'min_child_weight': sp_randint(1,11),\n",
    "    'silent': [1],\n",
    "    'subsample': [0.8, 0.7],\n",
    "    'colsample_bytree': [0.8, 0.7],\n",
    "    'scale_pos_weight': [26.4367],\n",
    "    'gamma': sp_randint(0,15),\n",
    "    'reg_alpha': sp_randint(0,10),\n",
    "    'reg_lambda': [0, 1, 1.3,1.5, 2.0, 3.0],\n",
    "    'missing':[-999],\n",
    "    'seed': [1337]\n",
    "}\n",
    "\n",
    "\n",
    "clf =  RandomizedSearchCV(xgb_model, parameters, n_jobs=5, \n",
    "                   cv=StratifiedKFold(y, 5),\n",
    "                   scoring = gini_scorer,\n",
    "                   verbose=3, refit=True)\n"
   ]
  },
  {
   "cell_type": "code",
   "execution_count": 88,
   "metadata": {},
   "outputs": [
    {
     "name": "stdout",
     "output_type": "stream",
     "text": [
      "Fitting 5 folds for each of 10 candidates, totalling 50 fits\n",
      "[CV] seed=1337, gamma=3, silent=1, subsample=0.8, min_child_weight=1, learning_rate=0.1, scale_pos_weight=26.4367, missing=-999, reg_alpha=7, max_depth=5, colsample_bytree=0.7, reg_lambda=1 \n",
      "[CV] seed=1337, gamma=3, silent=1, subsample=0.8, min_child_weight=1, learning_rate=0.1, scale_pos_weight=26.4367, missing=-999, reg_alpha=7, max_depth=5, colsample_bytree=0.7, reg_lambda=1 \n",
      "[CV] seed=1337, gamma=3, silent=1, subsample=0.8, min_child_weight=1, learning_rate=0.1, scale_pos_weight=26.4367, missing=-999, reg_alpha=7, max_depth=5, colsample_bytree=0.7, reg_lambda=1 \n",
      "[CV] seed=1337, gamma=3, silent=1, subsample=0.8, min_child_weight=1, learning_rate=0.1, scale_pos_weight=26.4367, missing=-999, reg_alpha=7, max_depth=5, colsample_bytree=0.7, reg_lambda=1 \n",
      "[CV] seed=1337, gamma=3, silent=1, subsample=0.8, min_child_weight=1, learning_rate=0.1, scale_pos_weight=26.4367, missing=-999, reg_alpha=7, max_depth=5, colsample_bytree=0.7, reg_lambda=1 \n",
      "[CV]  seed=1337, gamma=3, silent=1, subsample=0.8, min_child_weight=1, learning_rate=0.1, scale_pos_weight=26.4367, missing=-999, reg_alpha=7, max_depth=5, colsample_bytree=0.7, reg_lambda=1, score=0.194372 - 6.3min\n",
      "[CV] seed=1337, gamma=14, silent=1, subsample=0.7, min_child_weight=4, learning_rate=0.1, scale_pos_weight=26.4367, missing=-999, reg_alpha=3, max_depth=10, colsample_bytree=0.7, reg_lambda=3.0 \n",
      "[CV]  seed=1337, gamma=3, silent=1, subsample=0.8, min_child_weight=1, learning_rate=0.1, scale_pos_weight=26.4367, missing=-999, reg_alpha=7, max_depth=5, colsample_bytree=0.7, reg_lambda=1, score=0.200138 - 6.4min\n",
      "[CV] seed=1337, gamma=14, silent=1, subsample=0.7, min_child_weight=4, learning_rate=0.1, scale_pos_weight=26.4367, missing=-999, reg_alpha=3, max_depth=10, colsample_bytree=0.7, reg_lambda=3.0 \n",
      "[CV]  seed=1337, gamma=3, silent=1, subsample=0.8, min_child_weight=1, learning_rate=0.1, scale_pos_weight=26.4367, missing=-999, reg_alpha=7, max_depth=5, colsample_bytree=0.7, reg_lambda=1, score=0.198678 - 6.4min\n",
      "[CV] seed=1337, gamma=14, silent=1, subsample=0.7, min_child_weight=4, learning_rate=0.1, scale_pos_weight=26.4367, missing=-999, reg_alpha=3, max_depth=10, colsample_bytree=0.7, reg_lambda=3.0 \n",
      "[CV]  seed=1337, gamma=3, silent=1, subsample=0.8, min_child_weight=1, learning_rate=0.1, scale_pos_weight=26.4367, missing=-999, reg_alpha=7, max_depth=5, colsample_bytree=0.7, reg_lambda=1, score=0.204751 - 6.4min\n",
      "[CV] seed=1337, gamma=14, silent=1, subsample=0.7, min_child_weight=4, learning_rate=0.1, scale_pos_weight=26.4367, missing=-999, reg_alpha=3, max_depth=10, colsample_bytree=0.7, reg_lambda=3.0 \n",
      "[CV]  seed=1337, gamma=3, silent=1, subsample=0.8, min_child_weight=1, learning_rate=0.1, scale_pos_weight=26.4367, missing=-999, reg_alpha=7, max_depth=5, colsample_bytree=0.7, reg_lambda=1, score=0.183300 - 6.4min\n",
      "[CV] seed=1337, gamma=14, silent=1, subsample=0.7, min_child_weight=4, learning_rate=0.1, scale_pos_weight=26.4367, missing=-999, reg_alpha=3, max_depth=10, colsample_bytree=0.7, reg_lambda=3.0 \n",
      "[CV]  seed=1337, gamma=14, silent=1, subsample=0.7, min_child_weight=4, learning_rate=0.1, scale_pos_weight=26.4367, missing=-999, reg_alpha=3, max_depth=10, colsample_bytree=0.7, reg_lambda=3.0, score=0.127494 -12.6min\n",
      "[CV] seed=1337, gamma=0, silent=1, subsample=0.7, min_child_weight=6, learning_rate=0.1, scale_pos_weight=26.4367, missing=-999, reg_alpha=7, max_depth=1, colsample_bytree=0.8, reg_lambda=0 \n",
      "[CV]  seed=1337, gamma=14, silent=1, subsample=0.7, min_child_weight=4, learning_rate=0.1, scale_pos_weight=26.4367, missing=-999, reg_alpha=3, max_depth=10, colsample_bytree=0.7, reg_lambda=3.0, score=0.139214 -12.5min\n",
      "[CV] seed=1337, gamma=0, silent=1, subsample=0.7, min_child_weight=6, learning_rate=0.1, scale_pos_weight=26.4367, missing=-999, reg_alpha=7, max_depth=1, colsample_bytree=0.8, reg_lambda=0 \n",
      "[CV]  seed=1337, gamma=14, silent=1, subsample=0.7, min_child_weight=4, learning_rate=0.1, scale_pos_weight=26.4367, missing=-999, reg_alpha=3, max_depth=10, colsample_bytree=0.7, reg_lambda=3.0, score=0.136516 -12.6min\n",
      "[CV] seed=1337, gamma=0, silent=1, subsample=0.7, min_child_weight=6, learning_rate=0.1, scale_pos_weight=26.4367, missing=-999, reg_alpha=7, max_depth=1, colsample_bytree=0.8, reg_lambda=0 \n",
      "[CV]  seed=1337, gamma=14, silent=1, subsample=0.7, min_child_weight=4, learning_rate=0.1, scale_pos_weight=26.4367, missing=-999, reg_alpha=3, max_depth=10, colsample_bytree=0.7, reg_lambda=3.0, score=0.119312 -12.7min\n",
      "[CV] seed=1337, gamma=0, silent=1, subsample=0.7, min_child_weight=6, learning_rate=0.1, scale_pos_weight=26.4367, missing=-999, reg_alpha=7, max_depth=1, colsample_bytree=0.8, reg_lambda=0 \n",
      "[CV]  seed=1337, gamma=14, silent=1, subsample=0.7, min_child_weight=4, learning_rate=0.1, scale_pos_weight=26.4367, missing=-999, reg_alpha=3, max_depth=10, colsample_bytree=0.7, reg_lambda=3.0, score=0.128011 -12.7min\n",
      "[CV] seed=1337, gamma=0, silent=1, subsample=0.7, min_child_weight=6, learning_rate=0.1, scale_pos_weight=26.4367, missing=-999, reg_alpha=7, max_depth=1, colsample_bytree=0.8, reg_lambda=0 \n",
      "[CV]  seed=1337, gamma=0, silent=1, subsample=0.7, min_child_weight=6, learning_rate=0.1, scale_pos_weight=26.4367, missing=-999, reg_alpha=7, max_depth=1, colsample_bytree=0.8, reg_lambda=0, score=0.189494 - 2.2min\n",
      "[CV] seed=1337, gamma=5, silent=1, subsample=0.7, min_child_weight=1, learning_rate=0.05, scale_pos_weight=26.4367, missing=-999, reg_alpha=0, max_depth=9, colsample_bytree=0.8, reg_lambda=1.3 \n",
      "[CV]  seed=1337, gamma=0, silent=1, subsample=0.7, min_child_weight=6, learning_rate=0.1, scale_pos_weight=26.4367, missing=-999, reg_alpha=7, max_depth=1, colsample_bytree=0.8, reg_lambda=0, score=0.175027 - 2.2min\n",
      "[CV] seed=1337, gamma=5, silent=1, subsample=0.7, min_child_weight=1, learning_rate=0.05, scale_pos_weight=26.4367, missing=-999, reg_alpha=0, max_depth=9, colsample_bytree=0.8, reg_lambda=1.3 \n",
      "[CV]  seed=1337, gamma=0, silent=1, subsample=0.7, min_child_weight=6, learning_rate=0.1, scale_pos_weight=26.4367, missing=-999, reg_alpha=7, max_depth=1, colsample_bytree=0.8, reg_lambda=0, score=0.174249 - 2.2min\n",
      "[CV] seed=1337, gamma=5, silent=1, subsample=0.7, min_child_weight=1, learning_rate=0.05, scale_pos_weight=26.4367, missing=-999, reg_alpha=0, max_depth=9, colsample_bytree=0.8, reg_lambda=1.3 \n",
      "[CV]  seed=1337, gamma=0, silent=1, subsample=0.7, min_child_weight=6, learning_rate=0.1, scale_pos_weight=26.4367, missing=-999, reg_alpha=7, max_depth=1, colsample_bytree=0.8, reg_lambda=0, score=0.178364 - 2.2min\n",
      "[CV] seed=1337, gamma=5, silent=1, subsample=0.7, min_child_weight=1, learning_rate=0.05, scale_pos_weight=26.4367, missing=-999, reg_alpha=0, max_depth=9, colsample_bytree=0.8, reg_lambda=1.3 \n",
      "[CV]  seed=1337, gamma=0, silent=1, subsample=0.7, min_child_weight=6, learning_rate=0.1, scale_pos_weight=26.4367, missing=-999, reg_alpha=7, max_depth=1, colsample_bytree=0.8, reg_lambda=0, score=0.171195 - 2.3min\n",
      "[CV] seed=1337, gamma=5, silent=1, subsample=0.7, min_child_weight=1, learning_rate=0.05, scale_pos_weight=26.4367, missing=-999, reg_alpha=0, max_depth=9, colsample_bytree=0.8, reg_lambda=1.3 \n",
      "[CV]  seed=1337, gamma=5, silent=1, subsample=0.7, min_child_weight=1, learning_rate=0.05, scale_pos_weight=26.4367, missing=-999, reg_alpha=0, max_depth=9, colsample_bytree=0.8, reg_lambda=1.3, score=0.171473 -16.5min\n",
      "[CV] seed=1337, gamma=9, silent=1, subsample=0.7, min_child_weight=4, learning_rate=0.1, scale_pos_weight=26.4367, missing=-999, reg_alpha=9, max_depth=8, colsample_bytree=0.8, reg_lambda=1.5 \n",
      "[CV]  seed=1337, gamma=5, silent=1, subsample=0.7, min_child_weight=1, learning_rate=0.05, scale_pos_weight=26.4367, missing=-999, reg_alpha=0, max_depth=9, colsample_bytree=0.8, reg_lambda=1.3, score=0.167959 -16.8min\n",
      "[CV] seed=1337, gamma=9, silent=1, subsample=0.7, min_child_weight=4, learning_rate=0.1, scale_pos_weight=26.4367, missing=-999, reg_alpha=9, max_depth=8, colsample_bytree=0.8, reg_lambda=1.5 \n",
      "[CV]  seed=1337, gamma=5, silent=1, subsample=0.7, min_child_weight=1, learning_rate=0.05, scale_pos_weight=26.4367, missing=-999, reg_alpha=0, max_depth=9, colsample_bytree=0.8, reg_lambda=1.3, score=0.185086 -16.8min\n"
     ]
    },
    {
     "name": "stdout",
     "output_type": "stream",
     "text": [
      "[CV] seed=1337, gamma=9, silent=1, subsample=0.7, min_child_weight=4, learning_rate=0.1, scale_pos_weight=26.4367, missing=-999, reg_alpha=9, max_depth=8, colsample_bytree=0.8, reg_lambda=1.5 \n",
      "[CV]  seed=1337, gamma=5, silent=1, subsample=0.7, min_child_weight=1, learning_rate=0.05, scale_pos_weight=26.4367, missing=-999, reg_alpha=0, max_depth=9, colsample_bytree=0.8, reg_lambda=1.3, score=0.154041 -16.5min\n",
      "[CV] seed=1337, gamma=9, silent=1, subsample=0.7, min_child_weight=4, learning_rate=0.1, scale_pos_weight=26.4367, missing=-999, reg_alpha=9, max_depth=8, colsample_bytree=0.8, reg_lambda=1.5 \n",
      "[CV]  seed=1337, gamma=5, silent=1, subsample=0.7, min_child_weight=1, learning_rate=0.05, scale_pos_weight=26.4367, missing=-999, reg_alpha=0, max_depth=9, colsample_bytree=0.8, reg_lambda=1.3, score=0.166799 -16.7min\n",
      "[CV] seed=1337, gamma=9, silent=1, subsample=0.7, min_child_weight=4, learning_rate=0.1, scale_pos_weight=26.4367, missing=-999, reg_alpha=9, max_depth=8, colsample_bytree=0.8, reg_lambda=1.5 \n",
      "[CV]  seed=1337, gamma=9, silent=1, subsample=0.7, min_child_weight=4, learning_rate=0.1, scale_pos_weight=26.4367, missing=-999, reg_alpha=9, max_depth=8, colsample_bytree=0.8, reg_lambda=1.5, score=0.163938 -14.5min\n",
      "[CV] seed=1337, gamma=10, silent=1, subsample=0.7, min_child_weight=1, learning_rate=0.1, scale_pos_weight=26.4367, missing=-999, reg_alpha=1, max_depth=7, colsample_bytree=0.8, reg_lambda=1 \n",
      "[CV]  seed=1337, gamma=9, silent=1, subsample=0.7, min_child_weight=4, learning_rate=0.1, scale_pos_weight=26.4367, missing=-999, reg_alpha=9, max_depth=8, colsample_bytree=0.8, reg_lambda=1.5, score=0.172578 -14.6min\n",
      "[CV] seed=1337, gamma=10, silent=1, subsample=0.7, min_child_weight=1, learning_rate=0.1, scale_pos_weight=26.4367, missing=-999, reg_alpha=1, max_depth=7, colsample_bytree=0.8, reg_lambda=1 \n"
     ]
    },
    {
     "name": "stderr",
     "output_type": "stream",
     "text": [
      "[Parallel(n_jobs=5)]: Done  22 tasks      | elapsed: 52.5min\n"
     ]
    },
    {
     "name": "stdout",
     "output_type": "stream",
     "text": [
      "[CV]  seed=1337, gamma=9, silent=1, subsample=0.7, min_child_weight=4, learning_rate=0.1, scale_pos_weight=26.4367, missing=-999, reg_alpha=9, max_depth=8, colsample_bytree=0.8, reg_lambda=1.5, score=0.181512 -14.6min\n",
      "[CV] seed=1337, gamma=10, silent=1, subsample=0.7, min_child_weight=1, learning_rate=0.1, scale_pos_weight=26.4367, missing=-999, reg_alpha=1, max_depth=7, colsample_bytree=0.8, reg_lambda=1 \n",
      "[CV]  seed=1337, gamma=9, silent=1, subsample=0.7, min_child_weight=4, learning_rate=0.1, scale_pos_weight=26.4367, missing=-999, reg_alpha=9, max_depth=8, colsample_bytree=0.8, reg_lambda=1.5, score=0.161557 -14.6min\n",
      "[CV] seed=1337, gamma=10, silent=1, subsample=0.7, min_child_weight=1, learning_rate=0.1, scale_pos_weight=26.4367, missing=-999, reg_alpha=1, max_depth=7, colsample_bytree=0.8, reg_lambda=1 \n",
      "[CV]  seed=1337, gamma=9, silent=1, subsample=0.7, min_child_weight=4, learning_rate=0.1, scale_pos_weight=26.4367, missing=-999, reg_alpha=9, max_depth=8, colsample_bytree=0.8, reg_lambda=1.5, score=0.171598 -14.8min\n",
      "[CV] seed=1337, gamma=10, silent=1, subsample=0.7, min_child_weight=1, learning_rate=0.1, scale_pos_weight=26.4367, missing=-999, reg_alpha=1, max_depth=7, colsample_bytree=0.8, reg_lambda=1 \n",
      "[CV]  seed=1337, gamma=10, silent=1, subsample=0.7, min_child_weight=1, learning_rate=0.1, scale_pos_weight=26.4367, missing=-999, reg_alpha=1, max_depth=7, colsample_bytree=0.8, reg_lambda=1, score=0.177945 -12.7min\n",
      "[CV] seed=1337, gamma=1, silent=1, subsample=0.8, min_child_weight=8, learning_rate=0.08, scale_pos_weight=26.4367, missing=-999, reg_alpha=9, max_depth=3, colsample_bytree=0.8, reg_lambda=0 \n",
      "[CV]  seed=1337, gamma=10, silent=1, subsample=0.7, min_child_weight=1, learning_rate=0.1, scale_pos_weight=26.4367, missing=-999, reg_alpha=1, max_depth=7, colsample_bytree=0.8, reg_lambda=1, score=0.178962 -12.8min\n",
      "[CV] seed=1337, gamma=1, silent=1, subsample=0.8, min_child_weight=8, learning_rate=0.08, scale_pos_weight=26.4367, missing=-999, reg_alpha=9, max_depth=3, colsample_bytree=0.8, reg_lambda=0 \n",
      "[CV]  seed=1337, gamma=10, silent=1, subsample=0.7, min_child_weight=1, learning_rate=0.1, scale_pos_weight=26.4367, missing=-999, reg_alpha=1, max_depth=7, colsample_bytree=0.8, reg_lambda=1, score=0.186112 -12.8min\n",
      "[CV] seed=1337, gamma=1, silent=1, subsample=0.8, min_child_weight=8, learning_rate=0.08, scale_pos_weight=26.4367, missing=-999, reg_alpha=9, max_depth=3, colsample_bytree=0.8, reg_lambda=0 \n",
      "[CV]  seed=1337, gamma=10, silent=1, subsample=0.7, min_child_weight=1, learning_rate=0.1, scale_pos_weight=26.4367, missing=-999, reg_alpha=1, max_depth=7, colsample_bytree=0.8, reg_lambda=1, score=0.182616 -12.7min\n",
      "[CV] seed=1337, gamma=1, silent=1, subsample=0.8, min_child_weight=8, learning_rate=0.08, scale_pos_weight=26.4367, missing=-999, reg_alpha=9, max_depth=3, colsample_bytree=0.8, reg_lambda=0 \n",
      "[CV]  seed=1337, gamma=10, silent=1, subsample=0.7, min_child_weight=1, learning_rate=0.1, scale_pos_weight=26.4367, missing=-999, reg_alpha=1, max_depth=7, colsample_bytree=0.8, reg_lambda=1, score=0.178058 -12.8min\n",
      "[CV] seed=1337, gamma=1, silent=1, subsample=0.8, min_child_weight=8, learning_rate=0.08, scale_pos_weight=26.4367, missing=-999, reg_alpha=9, max_depth=3, colsample_bytree=0.8, reg_lambda=0 \n",
      "[CV]  seed=1337, gamma=1, silent=1, subsample=0.8, min_child_weight=8, learning_rate=0.08, scale_pos_weight=26.4367, missing=-999, reg_alpha=9, max_depth=3, colsample_bytree=0.8, reg_lambda=0, score=0.203021 - 5.4min\n",
      "[CV] seed=1337, gamma=7, silent=1, subsample=0.7, min_child_weight=1, learning_rate=0.05, scale_pos_weight=26.4367, missing=-999, reg_alpha=9, max_depth=7, colsample_bytree=0.8, reg_lambda=1.3 \n",
      "[CV]  seed=1337, gamma=1, silent=1, subsample=0.8, min_child_weight=8, learning_rate=0.08, scale_pos_weight=26.4367, missing=-999, reg_alpha=9, max_depth=3, colsample_bytree=0.8, reg_lambda=0, score=0.196448 - 5.3min\n",
      "[CV] seed=1337, gamma=7, silent=1, subsample=0.7, min_child_weight=1, learning_rate=0.05, scale_pos_weight=26.4367, missing=-999, reg_alpha=9, max_depth=7, colsample_bytree=0.8, reg_lambda=1.3 \n",
      "[CV]  seed=1337, gamma=1, silent=1, subsample=0.8, min_child_weight=8, learning_rate=0.08, scale_pos_weight=26.4367, missing=-999, reg_alpha=9, max_depth=3, colsample_bytree=0.8, reg_lambda=0, score=0.190047 - 5.5min\n",
      "[CV] seed=1337, gamma=7, silent=1, subsample=0.7, min_child_weight=1, learning_rate=0.05, scale_pos_weight=26.4367, missing=-999, reg_alpha=9, max_depth=7, colsample_bytree=0.8, reg_lambda=1.3 \n",
      "[CV]  seed=1337, gamma=1, silent=1, subsample=0.8, min_child_weight=8, learning_rate=0.08, scale_pos_weight=26.4367, missing=-999, reg_alpha=9, max_depth=3, colsample_bytree=0.8, reg_lambda=0, score=0.199295 - 5.4min\n",
      "[CV] seed=1337, gamma=7, silent=1, subsample=0.7, min_child_weight=1, learning_rate=0.05, scale_pos_weight=26.4367, missing=-999, reg_alpha=9, max_depth=7, colsample_bytree=0.8, reg_lambda=1.3 \n",
      "[CV]  seed=1337, gamma=1, silent=1, subsample=0.8, min_child_weight=8, learning_rate=0.08, scale_pos_weight=26.4367, missing=-999, reg_alpha=9, max_depth=3, colsample_bytree=0.8, reg_lambda=0, score=0.184261 - 5.5min\n",
      "[CV] seed=1337, gamma=7, silent=1, subsample=0.7, min_child_weight=1, learning_rate=0.05, scale_pos_weight=26.4367, missing=-999, reg_alpha=9, max_depth=7, colsample_bytree=0.8, reg_lambda=1.3 \n",
      "[CV]  seed=1337, gamma=7, silent=1, subsample=0.7, min_child_weight=1, learning_rate=0.05, scale_pos_weight=26.4367, missing=-999, reg_alpha=9, max_depth=7, colsample_bytree=0.8, reg_lambda=1.3, score=0.199031 -13.0min\n",
      "[CV] seed=1337, gamma=9, silent=1, subsample=0.8, min_child_weight=10, learning_rate=0.1, scale_pos_weight=26.4367, missing=-999, reg_alpha=6, max_depth=5, colsample_bytree=0.8, reg_lambda=2.0 \n",
      "[CV]  seed=1337, gamma=7, silent=1, subsample=0.7, min_child_weight=1, learning_rate=0.05, scale_pos_weight=26.4367, missing=-999, reg_alpha=9, max_depth=7, colsample_bytree=0.8, reg_lambda=1.3, score=0.200491 -13.0min\n",
      "[CV] seed=1337, gamma=9, silent=1, subsample=0.8, min_child_weight=10, learning_rate=0.1, scale_pos_weight=26.4367, missing=-999, reg_alpha=6, max_depth=5, colsample_bytree=0.8, reg_lambda=2.0 \n",
      "[CV]  seed=1337, gamma=7, silent=1, subsample=0.7, min_child_weight=1, learning_rate=0.05, scale_pos_weight=26.4367, missing=-999, reg_alpha=9, max_depth=7, colsample_bytree=0.8, reg_lambda=1.3, score=0.199171 -12.9min\n",
      "[CV] seed=1337, gamma=9, silent=1, subsample=0.8, min_child_weight=10, learning_rate=0.1, scale_pos_weight=26.4367, missing=-999, reg_alpha=6, max_depth=5, colsample_bytree=0.8, reg_lambda=2.0 \n",
      "[CV]  seed=1337, gamma=7, silent=1, subsample=0.7, min_child_weight=1, learning_rate=0.05, scale_pos_weight=26.4367, missing=-999, reg_alpha=9, max_depth=7, colsample_bytree=0.8, reg_lambda=1.3, score=0.207374 -12.9min\n",
      "[CV] seed=1337, gamma=9, silent=1, subsample=0.8, min_child_weight=10, learning_rate=0.1, scale_pos_weight=26.4367, missing=-999, reg_alpha=6, max_depth=5, colsample_bytree=0.8, reg_lambda=2.0 \n",
      "[CV]  seed=1337, gamma=7, silent=1, subsample=0.7, min_child_weight=1, learning_rate=0.05, scale_pos_weight=26.4367, missing=-999, reg_alpha=9, max_depth=7, colsample_bytree=0.8, reg_lambda=1.3, score=0.184711 -13.1min\n",
      "[CV] seed=1337, gamma=9, silent=1, subsample=0.8, min_child_weight=10, learning_rate=0.1, scale_pos_weight=26.4367, missing=-999, reg_alpha=6, max_depth=5, colsample_bytree=0.8, reg_lambda=2.0 \n",
      "[CV]  seed=1337, gamma=9, silent=1, subsample=0.8, min_child_weight=10, learning_rate=0.1, scale_pos_weight=26.4367, missing=-999, reg_alpha=6, max_depth=5, colsample_bytree=0.8, reg_lambda=2.0, score=0.198919 - 8.7min\n",
      "[CV] seed=1337, gamma=14, silent=1, subsample=0.7, min_child_weight=4, learning_rate=0.08, scale_pos_weight=26.4367, missing=-999, reg_alpha=8, max_depth=9, colsample_bytree=0.8, reg_lambda=3.0 \n",
      "[CV]  seed=1337, gamma=9, silent=1, subsample=0.8, min_child_weight=10, learning_rate=0.1, scale_pos_weight=26.4367, missing=-999, reg_alpha=6, max_depth=5, colsample_bytree=0.8, reg_lambda=2.0, score=0.199194 - 8.5min\n",
      "[CV] seed=1337, gamma=14, silent=1, subsample=0.7, min_child_weight=4, learning_rate=0.08, scale_pos_weight=26.4367, missing=-999, reg_alpha=8, max_depth=9, colsample_bytree=0.8, reg_lambda=3.0 \n"
     ]
    },
    {
     "name": "stdout",
     "output_type": "stream",
     "text": [
      "[CV]  seed=1337, gamma=9, silent=1, subsample=0.8, min_child_weight=10, learning_rate=0.1, scale_pos_weight=26.4367, missing=-999, reg_alpha=6, max_depth=5, colsample_bytree=0.8, reg_lambda=2.0, score=0.199948 - 8.5min\n",
      "[CV] seed=1337, gamma=14, silent=1, subsample=0.7, min_child_weight=4, learning_rate=0.08, scale_pos_weight=26.4367, missing=-999, reg_alpha=8, max_depth=9, colsample_bytree=0.8, reg_lambda=3.0 \n",
      "[CV]  seed=1337, gamma=9, silent=1, subsample=0.8, min_child_weight=10, learning_rate=0.1, scale_pos_weight=26.4367, missing=-999, reg_alpha=6, max_depth=5, colsample_bytree=0.8, reg_lambda=2.0, score=0.200839 - 8.8min\n",
      "[CV] seed=1337, gamma=14, silent=1, subsample=0.7, min_child_weight=4, learning_rate=0.08, scale_pos_weight=26.4367, missing=-999, reg_alpha=8, max_depth=9, colsample_bytree=0.8, reg_lambda=3.0 \n",
      "[CV]  seed=1337, gamma=9, silent=1, subsample=0.8, min_child_weight=10, learning_rate=0.1, scale_pos_weight=26.4367, missing=-999, reg_alpha=6, max_depth=5, colsample_bytree=0.8, reg_lambda=2.0, score=0.184100 - 8.6min\n",
      "[CV] seed=1337, gamma=14, silent=1, subsample=0.7, min_child_weight=4, learning_rate=0.08, scale_pos_weight=26.4367, missing=-999, reg_alpha=8, max_depth=9, colsample_bytree=0.8, reg_lambda=3.0 \n",
      "[CV]  seed=1337, gamma=14, silent=1, subsample=0.7, min_child_weight=4, learning_rate=0.08, scale_pos_weight=26.4367, missing=-999, reg_alpha=8, max_depth=9, colsample_bytree=0.8, reg_lambda=3.0, score=0.154492 -16.0min\n",
      "[CV]  seed=1337, gamma=14, silent=1, subsample=0.7, min_child_weight=4, learning_rate=0.08, scale_pos_weight=26.4367, missing=-999, reg_alpha=8, max_depth=9, colsample_bytree=0.8, reg_lambda=3.0, score=0.159818 -16.2min\n",
      "[CV]  seed=1337, gamma=14, silent=1, subsample=0.7, min_child_weight=4, learning_rate=0.08, scale_pos_weight=26.4367, missing=-999, reg_alpha=8, max_depth=9, colsample_bytree=0.8, reg_lambda=3.0, score=0.171564 -16.3min\n",
      "[CV]  seed=1337, gamma=14, silent=1, subsample=0.7, min_child_weight=4, learning_rate=0.08, scale_pos_weight=26.4367, missing=-999, reg_alpha=8, max_depth=9, colsample_bytree=0.8, reg_lambda=3.0, score=0.153137 -16.2min\n",
      "[CV]  seed=1337, gamma=14, silent=1, subsample=0.7, min_child_weight=4, learning_rate=0.08, scale_pos_weight=26.4367, missing=-999, reg_alpha=8, max_depth=9, colsample_bytree=0.8, reg_lambda=3.0, score=0.155043 -16.1min\n"
     ]
    },
    {
     "name": "stderr",
     "output_type": "stream",
     "text": [
      "[Parallel(n_jobs=5)]: Done  50 out of  50 | elapsed: 109.0min finished\n"
     ]
    },
    {
     "data": {
      "text/plain": [
       "RandomizedSearchCV(cv=sklearn.cross_validation.StratifiedKFold(labels=[0 0 ..., 0 0], n_folds=5, shuffle=False, random_state=None),\n",
       "          error_score='raise',\n",
       "          estimator=XGBClassifier(base_score=0.5, booster='gbtree', colsample_bylevel=1,\n",
       "       colsample_bytree=1, gamma=0, learning_rate=0.1, max_delta_step=0,\n",
       "       max_depth=3, min_child_weight=1, missing=-999, n_estimators=100,\n",
       "       n_jobs=1, nthread=None, objective='binary:logistic', random_state=0,\n",
       "       reg_alpha=0, reg_lambda=1, scale_pos_weight=1, seed=None,\n",
       "       silent=True, subsample=1),\n",
       "          fit_params={}, iid=True, n_iter=10, n_jobs=5,\n",
       "          param_distributions={'seed': [1337], 'gamma': <scipy.stats._distn_infrastructure.rv_frozen object at 0x7f7395b88160>, 'silent': [1], 'subsample': [0.8, 0.7], 'min_child_weight': <scipy.stats._distn_infrastructure.rv_frozen object at 0x7f7395b88128>, 'learning_rate': [0.03, 0.04, 0.05, 0.06, 0.07, 0....object at 0x7f73dc9ed390>, 'colsample_bytree': [0.8, 0.7], 'reg_lambda': [0, 1, 1.3, 1.5, 2.0, 3.0]},\n",
       "          pre_dispatch='2*n_jobs', random_state=None, refit=True,\n",
       "          scoring=make_scorer(gini_normalized), verbose=3)"
      ]
     },
     "execution_count": 88,
     "metadata": {},
     "output_type": "execute_result"
    }
   ],
   "source": [
    "clf.fit(X, y)"
   ]
  },
  {
   "cell_type": "code",
   "execution_count": 89,
   "metadata": {},
   "outputs": [
    {
     "name": "stdout",
     "output_type": "stream",
     "text": [
      "0.1981555069566366\n",
      "{'seed': 1337, 'gamma': 7, 'silent': 1, 'subsample': 0.7, 'min_child_weight': 1, 'learning_rate': 0.05, 'colsample_bytree': 0.8, 'missing': -999, 'reg_alpha': 9, 'max_depth': 7, 'scale_pos_weight': 26.4367, 'reg_lambda': 1.3}\n"
     ]
    }
   ],
   "source": [
    "print(clf.best_score_)\n",
    "print(clf.best_params_)\n",
    "\n",
    "# 0.24184412440294284\n",
    "# {'reg_lambda': 1, 'reg_alpha': 9, 'seed': 1337, 'gamma': 13, 'max_depth': 8, 'silent': 1, \n",
    "#  'subsample': 0.7, 'min_child_weight': 4, 'learning_rate': 0.08, 'colsample_bytree': 0.8, 'missing': -999}\n",
    "# 0.254 on public LB,\n",
    "\n",
    "# 0.2382713543302345\n",
    "# {'seed': 1337, 'max_depth': 5, 'silent': 1, 'subsample': 0.8, 'min_child_weight': 5, \n",
    "#  'learning_rate': 0.08, 'colsample_bytree': 0.7, 'missing': -999}\n",
    "# when gamma, reg_alpha, reg_lamda is filetered out, using new gini scorer\n",
    "\n",
    "# 0.23755666055779237\n",
    "# {'seed': 1337, 'gamma': 6, 'silent': 1, 'subsample': 0.8, 'min_child_weight': 6, \n",
    "#  'learning_rate': 0.1, 'colsample_bytree': 0.7, 'missing': -999, 'reg_alpha': 8, 'max_depth': 9, \n",
    "#  'scale_pos_weight': 26.4367, 'reg_lambda': 3.0}\n",
    "# putting gamma back, shifting scale_pos_weightin parameters, using new gini scorer\n",
    "\n",
    "# using f =10 and noise=0 in the encoding functions\n",
    "# 1.0\n",
    "# {'seed': 1337, 'gamma': 2, 'silent': 1, 'subsample': 0.8, 'min_child_weight': 7, 'learning_rate': 0.1, 'colsample_bytree': 0.8, 'missing': -999, 'reg_alpha': 5, \n",
    "#  'max_depth': 4, 'scale_pos_weight': 26.4367, 'reg_lambda': 0}\n",
    "\n",
    "# using f =10 and noise=0 in the encoding functions, dropped LOO\n",
    "# 0.203635367561805\n",
    "# {'seed': 1337, 'gamma': 5, 'silent': 1, 'subsample': 0.7, 'min_child_weight': 6, 'learning_rate': 0.1, 'colsample_bytree': 0.7, 'missing': -999, \n",
    "#  'reg_alpha': 7, 'max_depth': 4, 'scale_pos_weight': 26.4367, 'reg_lambda': 2.0}\n",
    "\n",
    "# using f = 20, noise=0.0, no LOO\n",
    "# 0.1982897319930031\n",
    "# {'seed': 1337, 'gamma': 1, 'silent': 1, 'subsample': 0.8, 'min_child_weight': 1, 'learning_rate': 0.06, 'colsample_bytree': 0.8, 'missing': -999, 'reg_alpha': 6, \n",
    "#  'max_depth': 6, 'scale_pos_weight': 26.4367, 'reg_lambda': 1.3}\n",
    "\n",
    "# f = 10, noise=0.01 no LOO\n",
    "# 0.1921171790111911\n",
    "# {'seed': 1337, 'gamma': 2, 'silent': 1, 'subsample': 0.7, 'min_child_weight': 10, 'learning_rate': 0.05, 'colsample_bytree': 0.7, 'missing': -999, \n",
    "#  'reg_alpha': 9, 'max_depth': 6, 'scale_pos_weight': 26.4367, 'reg_lambda': 0}\n",
    "\n",
    "# f = 1, noise=0.01, no LOO\n",
    "#0.19488331448594218\n",
    "# {'seed': 1337, 'gamma': 5, 'silent': 1, 'subsample': 0.7, 'min_child_weight': 3, 'learning_rate': 0.06, 'colsample_bytree': 0.7, 'missing': -999, 'reg_alpha': 4, 'max_depth': 4, 'scale_pos_weight': 26.4367, 'reg_lambda': 0}\n",
    "# In [45]:\n",
    "\n",
    "# LOO only, noise=0\n",
    "# 1.0\n",
    "# {'seed': 1337, 'gamma': 0, 'silent': 1, 'subsample': 0.8, 'min_child_weight': 8, 'learning_rate': 0.08, 'colsample_bytree': 0.8, 'missing': -999, 'reg_alpha': 7, \n",
    "#  'max_depth': 8, 'scale_pos_weight': 26.4367, 'reg_lambda': 0}\n",
    "\n",
    "# LOO only , noise=0.01, last gini\n",
    "# 0.2572973729916049\n",
    "# {'seed': 1337, 'gamma': 8, 'silent': 1, 'subsample': 0.7, 'min_child_weight': 6, 'learning_rate': 0.1, 'colsample_bytree': 0.7, 'missing': -999, 'reg_alpha': 0, \n",
    "#  'max_depth': 6, 'scale_pos_weight': 26.4367, 'reg_lambda': 1.5}\n",
    "# scored 0.264 on pubic LB\n",
    "\n",
    "# LOO only, noise=0.01, with eval_gini\n",
    "# 0.2572973729916049\n",
    "# {'seed': 1337, 'gamma': 8, 'silent': 1, 'subsample': 0.7, 'min_child_weight': 6, 'learning_rate': 0.1, 'colsample_bytree': 0.7, 'missing': -999, \n",
    "#  'reg_alpha': 0, 'max_depth': 6, 'scale_pos_weight': 26.4367, 'reg_lambda': 1.5}\n",
    "\n",
    "# LOO only, noise=0.02, with eval_gini\n",
    "# 0.212160199299836\n",
    "# {'seed': 1337, 'gamma': 11, 'silent': 1, 'subsample': 0.7, 'min_child_weight': 5, 'learning_rate': 0.07, 'colsample_bytree': 0.7, 'missing': -999, 'reg_alpha': 2, \n",
    "#  'max_depth': 5, 'scale_pos_weight': 26.4367, 'reg_lambda': 3.0}\n",
    "\n",
    "# LOOKFold, noise=0.01, eval gini\n",
    "# 0.15067528137467348\n",
    "# {'seed': 1337, 'gamma': 14, 'silent': 1, 'subsample': 0.8, 'min_child_weight': 8, 'learning_rate': 0.04, 'colsample_bytree': 0.8, 'missing': -999, \n",
    "#  'reg_alpha': 2, 'max_depth': 4, 'scale_pos_weight': 26.4367, 'reg_lambda': 1}\n",
    "\n",
    "# Binary Encoder\n",
    "# 0.196550404720537\n",
    "# {'seed': 1337, 'gamma': 8, 'silent': 1, 'subsample': 0.8, 'min_child_weight': 6, 'learning_rate': 0.06, 'colsample_bytree': 0.7, 'missing': -999, \n",
    "#  'reg_alpha': 4, 'max_depth': 5, 'scale_pos_weight': 26.4367, 'reg_lambda': 0}\n",
    "\n",
    "# Hashing Encoder\n",
    "# 0.18163349897449646\n",
    "# {'seed': 1337, 'gamma': 1, 'silent': 1, 'subsample': 0.8, 'min_child_weight': 9, 'learning_rate': 0.05, 'colsample_bytree': 0.7, 'missing': -999, 'reg_alpha': 7, \n",
    "#  'max_depth': 4, 'scale_pos_weight': 26.4367, 'reg_lambda': 1.5}\n",
    "\n",
    "# helmert\n",
    "# 0.1998236311643095\n",
    "# {'seed': 1337, 'gamma': 4, 'silent': 1, 'subsample': 0.8, 'min_child_weight': 8, 'learning_rate': 0.07, 'colsample_bytree': 0.8, 'missing': -999, 'reg_alpha': 6, \n",
    "#  'max_depth': 5, 'scale_pos_weight': 26.4367, 'reg_lambda': 0}\n",
    "\n",
    "# OneHot\n",
    "# 0.1974928419377269\n",
    "# {'seed': 1337, 'gamma': 10, 'silent': 1, 'subsample': 0.7, 'min_child_weight': 1, 'learning_rate': 0.06, 'colsample_bytree': 0.8, 'missing': -999, 'reg_alpha': 7, \n",
    "#  'max_depth': 6, 'scale_pos_weight': 26.4367, 'reg_lambda': 1.5}\n",
    "\n",
    "#ordinal\n",
    "# 1.0\n",
    "#stopped\n",
    "\n",
    "# Polynomial encoder\n",
    "# 0.19832716986326504\n",
    "# {'seed': 1337, 'gamma': 7, 'silent': 1, 'subsample': 0.7, 'min_child_weight': 5, 'learning_rate': 0.06, 'colsample_bytree': 0.8, 'missing': -999, 'reg_alpha': 1,\n",
    "#  'max_depth': 4, 'scale_pos_weight': 26.4367, 'reg_lambda': 1}\n",
    "\n",
    "# Sum encoder\n",
    "# 0.1981555069566366\n",
    "# {'seed': 1337, 'gamma': 7, 'silent': 1, 'subsample': 0.7, 'min_child_weight': 1, 'learning_rate': 0.05, 'colsample_bytree': 0.8, 'missing': -999, 'reg_alpha': 9, \n",
    "#  'max_depth': 7, 'scale_pos_weight': 26.4367, 'reg_lambda': 1.3}"
   ]
  },
  {
   "cell_type": "code",
   "execution_count": 42,
   "metadata": {
    "collapsed": true
   },
   "outputs": [],
   "source": [
    "df_test.fillna(-999, inplace=True)"
   ]
  },
  {
   "cell_type": "code",
   "execution_count": 43,
   "metadata": {
    "collapsed": true
   },
   "outputs": [],
   "source": [
    "test_probs = clf.predict_proba(df_test)[:,1]"
   ]
  },
  {
   "cell_type": "code",
   "execution_count": 44,
   "metadata": {},
   "outputs": [
    {
     "data": {
      "text/plain": [
       "array([ 0.37710699,  0.42687458,  0.43030238, ...,  0.45527622,\n",
       "        0.42130691,  0.452133  ], dtype=float32)"
      ]
     },
     "execution_count": 44,
     "metadata": {},
     "output_type": "execute_result"
    }
   ],
   "source": [
    "test_probs"
   ]
  },
  {
   "cell_type": "code",
   "execution_count": 45,
   "metadata": {},
   "outputs": [
    {
     "data": {
      "text/plain": [
       "(892816,)"
      ]
     },
     "execution_count": 45,
     "metadata": {},
     "output_type": "execute_result"
    }
   ],
   "source": [
    "test_probs.shape"
   ]
  },
  {
   "cell_type": "code",
   "execution_count": 46,
   "metadata": {},
   "outputs": [
    {
     "data": {
      "text/plain": [
       "0.054419678"
      ]
     },
     "execution_count": 46,
     "metadata": {},
     "output_type": "execute_result"
    }
   ],
   "source": [
    "np.min(test_probs)"
   ]
  },
  {
   "cell_type": "code",
   "execution_count": 47,
   "metadata": {},
   "outputs": [
    {
     "data": {
      "text/plain": [
       "0.98862666"
      ]
     },
     "execution_count": 47,
     "metadata": {},
     "output_type": "execute_result"
    }
   ],
   "source": [
    "np.max(test_probs)"
   ]
  },
  {
   "cell_type": "code",
   "execution_count": 48,
   "metadata": {
    "collapsed": true
   },
   "outputs": [],
   "source": [
    "test_probs = np.clip(test_probs, a_min=0.05, a_max=0.95)"
   ]
  },
  {
   "cell_type": "code",
   "execution_count": 49,
   "metadata": {
    "collapsed": true
   },
   "outputs": [],
   "source": [
    "submission = pd.DataFrame()\n",
    "submission['id'] = id_test\n",
    "submission['target'] = test_probs\n",
    "\n",
    "submission.to_csv('../submissions/sub_xgb_2_0.csv', index=False)\n"
   ]
  },
  {
   "cell_type": "code",
   "execution_count": null,
   "metadata": {
    "collapsed": true
   },
   "outputs": [],
   "source": []
  }
 ],
 "metadata": {
  "kernelspec": {
   "display_name": "sdp35",
   "language": "python",
   "name": "sdp35"
  },
  "language_info": {
   "codemirror_mode": {
    "name": "ipython",
    "version": 3
   },
   "file_extension": ".py",
   "mimetype": "text/x-python",
   "name": "python",
   "nbconvert_exporter": "python",
   "pygments_lexer": "ipython3",
   "version": "3.5.4"
  }
 },
 "nbformat": 4,
 "nbformat_minor": 2
}
